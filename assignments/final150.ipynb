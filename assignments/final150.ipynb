{
 "cells": [
  {
   "cell_type": "code",
   "execution_count": 2,
   "id": "37a0b94b",
   "metadata": {},
   "outputs": [
    {
     "name": "stdout",
     "output_type": "stream",
     "text": [
      "Collecting interpret\n",
      "  Downloading interpret-0.4.2-py3-none-any.whl (1.4 kB)\n",
      "Collecting interpret-core[dash,debug,decisiontree,ebm,lime,linear,notebook,plotly,required,sensitivity,shap,skoperules,treeinterpreter]==0.4.2\n",
      "  Downloading interpret_core-0.4.2-py3-none-any.whl (11.6 MB)\n",
      "\u001b[K     |████████████████████████████████| 11.6 MB 6.5 MB/s eta 0:00:01\n",
      "\u001b[?25hCollecting SALib>=1.3.3\n",
      "  Downloading salib-1.4.7-py3-none-any.whl (757 kB)\n",
      "\u001b[K     |████████████████████████████████| 757 kB 110.0 MB/s eta 0:00:01\n",
      "\u001b[?25hRequirement already satisfied: joblib>=0.11 in ./opt/anaconda3/lib/python3.9/site-packages (from interpret-core[dash,debug,decisiontree,ebm,lime,linear,notebook,plotly,required,sensitivity,shap,skoperules,treeinterpreter]==0.4.2->interpret) (1.1.0)\n",
      "Requirement already satisfied: lime>=0.1.1.33 in ./opt/anaconda3/lib/python3.9/site-packages (from interpret-core[dash,debug,decisiontree,ebm,lime,linear,notebook,plotly,required,sensitivity,shap,skoperules,treeinterpreter]==0.4.2->interpret) (0.2.0.1)\n",
      "Collecting skope-rules>=1.0.1\n",
      "  Downloading skope_rules-1.0.1-py3-none-any.whl (14 kB)\n",
      "Collecting treeinterpreter>=0.2.2\n",
      "  Downloading treeinterpreter-0.2.3-py2.py3-none-any.whl (6.0 kB)\n",
      "Requirement already satisfied: shap>=0.28.5 in ./opt/anaconda3/lib/python3.9/site-packages (from interpret-core[dash,debug,decisiontree,ebm,lime,linear,notebook,plotly,required,sensitivity,shap,skoperules,treeinterpreter]==0.4.2->interpret) (0.41.0)\n",
      "Requirement already satisfied: dill>=0.2.5 in ./opt/anaconda3/lib/python3.9/site-packages (from interpret-core[dash,debug,decisiontree,ebm,lime,linear,notebook,plotly,required,sensitivity,shap,skoperules,treeinterpreter]==0.4.2->interpret) (0.3.6)\n",
      "Requirement already satisfied: psutil>=5.6.2 in ./opt/anaconda3/lib/python3.9/site-packages (from interpret-core[dash,debug,decisiontree,ebm,lime,linear,notebook,plotly,required,sensitivity,shap,skoperules,treeinterpreter]==0.4.2->interpret) (5.9.5)\n",
      "Requirement already satisfied: plotly>=3.8.1 in ./opt/anaconda3/lib/python3.9/site-packages (from interpret-core[dash,debug,decisiontree,ebm,lime,linear,notebook,plotly,required,sensitivity,shap,skoperules,treeinterpreter]==0.4.2->interpret) (5.6.0)\n",
      "Requirement already satisfied: scipy>=0.18.1 in ./opt/anaconda3/lib/python3.9/site-packages (from interpret-core[dash,debug,decisiontree,ebm,lime,linear,notebook,plotly,required,sensitivity,shap,skoperules,treeinterpreter]==0.4.2->interpret) (1.7.3)\n",
      "Requirement already satisfied: pandas>=0.19.2 in ./opt/anaconda3/lib/python3.9/site-packages (from interpret-core[dash,debug,decisiontree,ebm,lime,linear,notebook,plotly,required,sensitivity,shap,skoperules,treeinterpreter]==0.4.2->interpret) (1.4.2)\n",
      "Requirement already satisfied: numpy<1.24.0,>=1.11.1 in ./opt/anaconda3/lib/python3.9/site-packages (from interpret-core[dash,debug,decisiontree,ebm,lime,linear,notebook,plotly,required,sensitivity,shap,skoperules,treeinterpreter]==0.4.2->interpret) (1.21.5)\n",
      "Requirement already satisfied: scikit-learn>=0.18.1 in ./opt/anaconda3/lib/python3.9/site-packages (from interpret-core[dash,debug,decisiontree,ebm,lime,linear,notebook,plotly,required,sensitivity,shap,skoperules,treeinterpreter]==0.4.2->interpret) (1.0.2)\n",
      "Requirement already satisfied: ipykernel>=4.10.0 in ./opt/anaconda3/lib/python3.9/site-packages (from interpret-core[dash,debug,decisiontree,ebm,lime,linear,notebook,plotly,required,sensitivity,shap,skoperules,treeinterpreter]==0.4.2->interpret) (6.9.1)\n",
      "Requirement already satisfied: ipython>=5.5.0 in ./opt/anaconda3/lib/python3.9/site-packages (from interpret-core[dash,debug,decisiontree,ebm,lime,linear,notebook,plotly,required,sensitivity,shap,skoperules,treeinterpreter]==0.4.2->interpret) (8.2.0)\n",
      "Collecting dash-cytoscape>=0.1.1\n",
      "  Downloading dash_cytoscape-0.3.0-py3-none-any.whl (3.6 MB)\n",
      "\u001b[K     |████████████████████████████████| 3.6 MB 123.6 MB/s eta 0:00:01\n",
      "\u001b[?25hCollecting dash-core-components>=1.0.0\n",
      "  Downloading dash_core_components-2.0.0-py3-none-any.whl (3.8 kB)\n",
      "Requirement already satisfied: requests>=2.19.0 in ./opt/anaconda3/lib/python3.9/site-packages (from interpret-core[dash,debug,decisiontree,ebm,lime,linear,notebook,plotly,required,sensitivity,shap,skoperules,treeinterpreter]==0.4.2->interpret) (2.27.1)\n",
      "Collecting dash-table>=4.1.0\n",
      "  Downloading dash_table-5.0.0-py3-none-any.whl (3.9 kB)\n",
      "Collecting dash>=1.0.0\n",
      "  Downloading dash-2.10.2-py3-none-any.whl (10.3 MB)\n",
      "\u001b[K     |████████████████████████████████| 10.3 MB 170.0 MB/s eta 0:00:01\n",
      "\u001b[?25hCollecting dash-html-components>=1.0.0\n",
      "  Downloading dash_html_components-2.0.0-py3-none-any.whl (4.1 kB)\n",
      "Collecting gevent>=1.3.6\n",
      "  Downloading gevent-22.10.2-cp39-cp39-macosx_10_9_x86_64.whl (1.9 MB)\n",
      "\u001b[K     |████████████████████████████████| 1.9 MB 149.8 MB/s eta 0:00:01\n",
      "\u001b[?25hRequirement already satisfied: Flask<2.3.0,>=1.0.4 in ./opt/anaconda3/lib/python3.9/site-packages (from dash>=1.0.0->interpret-core[dash,debug,decisiontree,ebm,lime,linear,notebook,plotly,required,sensitivity,shap,skoperules,treeinterpreter]==0.4.2->interpret) (1.1.2)\n",
      "Requirement already satisfied: Werkzeug<2.3.0 in ./opt/anaconda3/lib/python3.9/site-packages (from dash>=1.0.0->interpret-core[dash,debug,decisiontree,ebm,lime,linear,notebook,plotly,required,sensitivity,shap,skoperules,treeinterpreter]==0.4.2->interpret) (2.0.3)\n",
      "Requirement already satisfied: click>=5.1 in ./opt/anaconda3/lib/python3.9/site-packages (from Flask<2.3.0,>=1.0.4->dash>=1.0.0->interpret-core[dash,debug,decisiontree,ebm,lime,linear,notebook,plotly,required,sensitivity,shap,skoperules,treeinterpreter]==0.4.2->interpret) (8.0.4)\n",
      "Requirement already satisfied: itsdangerous>=0.24 in ./opt/anaconda3/lib/python3.9/site-packages (from Flask<2.3.0,>=1.0.4->dash>=1.0.0->interpret-core[dash,debug,decisiontree,ebm,lime,linear,notebook,plotly,required,sensitivity,shap,skoperules,treeinterpreter]==0.4.2->interpret) (2.0.1)\n",
      "Requirement already satisfied: Jinja2>=2.10.1 in ./opt/anaconda3/lib/python3.9/site-packages (from Flask<2.3.0,>=1.0.4->dash>=1.0.0->interpret-core[dash,debug,decisiontree,ebm,lime,linear,notebook,plotly,required,sensitivity,shap,skoperules,treeinterpreter]==0.4.2->interpret) (2.11.3)\n",
      "Requirement already satisfied: zope.interface in ./opt/anaconda3/lib/python3.9/site-packages (from gevent>=1.3.6->interpret-core[dash,debug,decisiontree,ebm,lime,linear,notebook,plotly,required,sensitivity,shap,skoperules,treeinterpreter]==0.4.2->interpret) (5.4.0)\n",
      "Requirement already satisfied: setuptools in ./opt/anaconda3/lib/python3.9/site-packages (from gevent>=1.3.6->interpret-core[dash,debug,decisiontree,ebm,lime,linear,notebook,plotly,required,sensitivity,shap,skoperules,treeinterpreter]==0.4.2->interpret) (67.8.0)\n",
      "Collecting zope.event\n",
      "  Downloading zope.event-4.6-py2.py3-none-any.whl (6.8 kB)\n",
      "Collecting greenlet>=2.0.0\n",
      "  Downloading greenlet-2.0.2.tar.gz (164 kB)\n",
      "\u001b[K     |████████████████████████████████| 164 kB 166.8 MB/s eta 0:00:01\n",
      "\u001b[?25hRequirement already satisfied: traitlets<6.0,>=5.1.0 in ./opt/anaconda3/lib/python3.9/site-packages (from ipykernel>=4.10.0->interpret-core[dash,debug,decisiontree,ebm,lime,linear,notebook,plotly,required,sensitivity,shap,skoperules,treeinterpreter]==0.4.2->interpret) (5.1.1)\n",
      "Requirement already satisfied: appnope in ./opt/anaconda3/lib/python3.9/site-packages (from ipykernel>=4.10.0->interpret-core[dash,debug,decisiontree,ebm,lime,linear,notebook,plotly,required,sensitivity,shap,skoperules,treeinterpreter]==0.4.2->interpret) (0.1.2)\n",
      "Requirement already satisfied: nest-asyncio in ./opt/anaconda3/lib/python3.9/site-packages (from ipykernel>=4.10.0->interpret-core[dash,debug,decisiontree,ebm,lime,linear,notebook,plotly,required,sensitivity,shap,skoperules,treeinterpreter]==0.4.2->interpret) (1.5.5)\n",
      "Requirement already satisfied: tornado<7.0,>=4.2 in ./opt/anaconda3/lib/python3.9/site-packages (from ipykernel>=4.10.0->interpret-core[dash,debug,decisiontree,ebm,lime,linear,notebook,plotly,required,sensitivity,shap,skoperules,treeinterpreter]==0.4.2->interpret) (6.1)\n",
      "Requirement already satisfied: debugpy<2.0,>=1.0.0 in ./opt/anaconda3/lib/python3.9/site-packages (from ipykernel>=4.10.0->interpret-core[dash,debug,decisiontree,ebm,lime,linear,notebook,plotly,required,sensitivity,shap,skoperules,treeinterpreter]==0.4.2->interpret) (1.5.1)\n",
      "Requirement already satisfied: matplotlib-inline<0.2.0,>=0.1.0 in ./opt/anaconda3/lib/python3.9/site-packages (from ipykernel>=4.10.0->interpret-core[dash,debug,decisiontree,ebm,lime,linear,notebook,plotly,required,sensitivity,shap,skoperules,treeinterpreter]==0.4.2->interpret) (0.1.2)\n",
      "Requirement already satisfied: jupyter-client<8.0 in ./opt/anaconda3/lib/python3.9/site-packages (from ipykernel>=4.10.0->interpret-core[dash,debug,decisiontree,ebm,lime,linear,notebook,plotly,required,sensitivity,shap,skoperules,treeinterpreter]==0.4.2->interpret) (6.1.12)\n",
      "Requirement already satisfied: decorator in ./opt/anaconda3/lib/python3.9/site-packages (from ipython>=5.5.0->interpret-core[dash,debug,decisiontree,ebm,lime,linear,notebook,plotly,required,sensitivity,shap,skoperules,treeinterpreter]==0.4.2->interpret) (5.1.1)\n",
      "Requirement already satisfied: prompt-toolkit!=3.0.0,!=3.0.1,<3.1.0,>=2.0.0 in ./opt/anaconda3/lib/python3.9/site-packages (from ipython>=5.5.0->interpret-core[dash,debug,decisiontree,ebm,lime,linear,notebook,plotly,required,sensitivity,shap,skoperules,treeinterpreter]==0.4.2->interpret) (3.0.20)\n",
      "Requirement already satisfied: jedi>=0.16 in ./opt/anaconda3/lib/python3.9/site-packages (from ipython>=5.5.0->interpret-core[dash,debug,decisiontree,ebm,lime,linear,notebook,plotly,required,sensitivity,shap,skoperules,treeinterpreter]==0.4.2->interpret) (0.18.1)\n",
      "Requirement already satisfied: pygments>=2.4.0 in ./opt/anaconda3/lib/python3.9/site-packages (from ipython>=5.5.0->interpret-core[dash,debug,decisiontree,ebm,lime,linear,notebook,plotly,required,sensitivity,shap,skoperules,treeinterpreter]==0.4.2->interpret) (2.11.2)\n",
      "Requirement already satisfied: stack-data in ./opt/anaconda3/lib/python3.9/site-packages (from ipython>=5.5.0->interpret-core[dash,debug,decisiontree,ebm,lime,linear,notebook,plotly,required,sensitivity,shap,skoperules,treeinterpreter]==0.4.2->interpret) (0.2.0)\n",
      "Requirement already satisfied: backcall in ./opt/anaconda3/lib/python3.9/site-packages (from ipython>=5.5.0->interpret-core[dash,debug,decisiontree,ebm,lime,linear,notebook,plotly,required,sensitivity,shap,skoperules,treeinterpreter]==0.4.2->interpret) (0.2.0)\n",
      "Requirement already satisfied: pexpect>4.3 in ./opt/anaconda3/lib/python3.9/site-packages (from ipython>=5.5.0->interpret-core[dash,debug,decisiontree,ebm,lime,linear,notebook,plotly,required,sensitivity,shap,skoperules,treeinterpreter]==0.4.2->interpret) (4.8.0)\n",
      "Requirement already satisfied: pickleshare in ./opt/anaconda3/lib/python3.9/site-packages (from ipython>=5.5.0->interpret-core[dash,debug,decisiontree,ebm,lime,linear,notebook,plotly,required,sensitivity,shap,skoperules,treeinterpreter]==0.4.2->interpret) (0.7.5)\n",
      "Requirement already satisfied: parso<0.9.0,>=0.8.0 in ./opt/anaconda3/lib/python3.9/site-packages (from jedi>=0.16->ipython>=5.5.0->interpret-core[dash,debug,decisiontree,ebm,lime,linear,notebook,plotly,required,sensitivity,shap,skoperules,treeinterpreter]==0.4.2->interpret) (0.8.3)\n",
      "Requirement already satisfied: MarkupSafe>=0.23 in ./opt/anaconda3/lib/python3.9/site-packages (from Jinja2>=2.10.1->Flask<2.3.0,>=1.0.4->dash>=1.0.0->interpret-core[dash,debug,decisiontree,ebm,lime,linear,notebook,plotly,required,sensitivity,shap,skoperules,treeinterpreter]==0.4.2->interpret) (2.0.1)\n",
      "Requirement already satisfied: jupyter-core>=4.6.0 in ./opt/anaconda3/lib/python3.9/site-packages (from jupyter-client<8.0->ipykernel>=4.10.0->interpret-core[dash,debug,decisiontree,ebm,lime,linear,notebook,plotly,required,sensitivity,shap,skoperules,treeinterpreter]==0.4.2->interpret) (4.9.2)\n",
      "Requirement already satisfied: python-dateutil>=2.1 in ./opt/anaconda3/lib/python3.9/site-packages (from jupyter-client<8.0->ipykernel>=4.10.0->interpret-core[dash,debug,decisiontree,ebm,lime,linear,notebook,plotly,required,sensitivity,shap,skoperules,treeinterpreter]==0.4.2->interpret) (2.8.2)\n",
      "Requirement already satisfied: pyzmq>=13 in ./opt/anaconda3/lib/python3.9/site-packages (from jupyter-client<8.0->ipykernel>=4.10.0->interpret-core[dash,debug,decisiontree,ebm,lime,linear,notebook,plotly,required,sensitivity,shap,skoperules,treeinterpreter]==0.4.2->interpret) (22.3.0)\n",
      "Requirement already satisfied: scikit-image>=0.12 in ./opt/anaconda3/lib/python3.9/site-packages (from lime>=0.1.1.33->interpret-core[dash,debug,decisiontree,ebm,lime,linear,notebook,plotly,required,sensitivity,shap,skoperules,treeinterpreter]==0.4.2->interpret) (0.19.2)\n",
      "Requirement already satisfied: matplotlib in ./opt/anaconda3/lib/python3.9/site-packages (from lime>=0.1.1.33->interpret-core[dash,debug,decisiontree,ebm,lime,linear,notebook,plotly,required,sensitivity,shap,skoperules,treeinterpreter]==0.4.2->interpret) (3.5.1)\n",
      "Requirement already satisfied: tqdm in ./opt/anaconda3/lib/python3.9/site-packages (from lime>=0.1.1.33->interpret-core[dash,debug,decisiontree,ebm,lime,linear,notebook,plotly,required,sensitivity,shap,skoperules,treeinterpreter]==0.4.2->interpret) (4.64.0)\n",
      "Requirement already satisfied: pytz>=2020.1 in ./opt/anaconda3/lib/python3.9/site-packages (from pandas>=0.19.2->interpret-core[dash,debug,decisiontree,ebm,lime,linear,notebook,plotly,required,sensitivity,shap,skoperules,treeinterpreter]==0.4.2->interpret) (2021.3)\n",
      "Requirement already satisfied: ptyprocess>=0.5 in ./opt/anaconda3/lib/python3.9/site-packages (from pexpect>4.3->ipython>=5.5.0->interpret-core[dash,debug,decisiontree,ebm,lime,linear,notebook,plotly,required,sensitivity,shap,skoperules,treeinterpreter]==0.4.2->interpret) (0.7.0)\n",
      "Requirement already satisfied: six in ./opt/anaconda3/lib/python3.9/site-packages (from plotly>=3.8.1->interpret-core[dash,debug,decisiontree,ebm,lime,linear,notebook,plotly,required,sensitivity,shap,skoperules,treeinterpreter]==0.4.2->interpret) (1.16.0)\n",
      "Requirement already satisfied: tenacity>=6.2.0 in ./opt/anaconda3/lib/python3.9/site-packages (from plotly>=3.8.1->interpret-core[dash,debug,decisiontree,ebm,lime,linear,notebook,plotly,required,sensitivity,shap,skoperules,treeinterpreter]==0.4.2->interpret) (8.0.1)\n",
      "Requirement already satisfied: wcwidth in ./opt/anaconda3/lib/python3.9/site-packages (from prompt-toolkit!=3.0.0,!=3.0.1,<3.1.0,>=2.0.0->ipython>=5.5.0->interpret-core[dash,debug,decisiontree,ebm,lime,linear,notebook,plotly,required,sensitivity,shap,skoperules,treeinterpreter]==0.4.2->interpret) (0.2.5)\n",
      "Requirement already satisfied: charset-normalizer~=2.0.0 in ./opt/anaconda3/lib/python3.9/site-packages (from requests>=2.19.0->interpret-core[dash,debug,decisiontree,ebm,lime,linear,notebook,plotly,required,sensitivity,shap,skoperules,treeinterpreter]==0.4.2->interpret) (2.0.4)\n",
      "Requirement already satisfied: urllib3<1.27,>=1.21.1 in ./opt/anaconda3/lib/python3.9/site-packages (from requests>=2.19.0->interpret-core[dash,debug,decisiontree,ebm,lime,linear,notebook,plotly,required,sensitivity,shap,skoperules,treeinterpreter]==0.4.2->interpret) (1.26.9)\n",
      "Requirement already satisfied: certifi>=2017.4.17 in ./opt/anaconda3/lib/python3.9/site-packages (from requests>=2.19.0->interpret-core[dash,debug,decisiontree,ebm,lime,linear,notebook,plotly,required,sensitivity,shap,skoperules,treeinterpreter]==0.4.2->interpret) (2021.10.8)\n",
      "Requirement already satisfied: idna<4,>=2.5 in ./opt/anaconda3/lib/python3.9/site-packages (from requests>=2.19.0->interpret-core[dash,debug,decisiontree,ebm,lime,linear,notebook,plotly,required,sensitivity,shap,skoperules,treeinterpreter]==0.4.2->interpret) (3.3)\n",
      "Collecting multiprocess\n",
      "  Downloading multiprocess-0.70.14-py39-none-any.whl (132 kB)\n",
      "\u001b[K     |████████████████████████████████| 132 kB 45.9 MB/s eta 0:00:01\n",
      "\u001b[?25hRequirement already satisfied: fonttools>=4.22.0 in ./opt/anaconda3/lib/python3.9/site-packages (from matplotlib->lime>=0.1.1.33->interpret-core[dash,debug,decisiontree,ebm,lime,linear,notebook,plotly,required,sensitivity,shap,skoperules,treeinterpreter]==0.4.2->interpret) (4.25.0)\n",
      "Requirement already satisfied: packaging>=20.0 in ./opt/anaconda3/lib/python3.9/site-packages (from matplotlib->lime>=0.1.1.33->interpret-core[dash,debug,decisiontree,ebm,lime,linear,notebook,plotly,required,sensitivity,shap,skoperules,treeinterpreter]==0.4.2->interpret) (21.3)\n",
      "Requirement already satisfied: kiwisolver>=1.0.1 in ./opt/anaconda3/lib/python3.9/site-packages (from matplotlib->lime>=0.1.1.33->interpret-core[dash,debug,decisiontree,ebm,lime,linear,notebook,plotly,required,sensitivity,shap,skoperules,treeinterpreter]==0.4.2->interpret) (1.3.2)\n",
      "Requirement already satisfied: pyparsing>=2.2.1 in ./opt/anaconda3/lib/python3.9/site-packages (from matplotlib->lime>=0.1.1.33->interpret-core[dash,debug,decisiontree,ebm,lime,linear,notebook,plotly,required,sensitivity,shap,skoperules,treeinterpreter]==0.4.2->interpret) (3.0.4)\n",
      "Requirement already satisfied: pillow>=6.2.0 in ./opt/anaconda3/lib/python3.9/site-packages (from matplotlib->lime>=0.1.1.33->interpret-core[dash,debug,decisiontree,ebm,lime,linear,notebook,plotly,required,sensitivity,shap,skoperules,treeinterpreter]==0.4.2->interpret) (9.0.1)\n",
      "Requirement already satisfied: cycler>=0.10 in ./opt/anaconda3/lib/python3.9/site-packages (from matplotlib->lime>=0.1.1.33->interpret-core[dash,debug,decisiontree,ebm,lime,linear,notebook,plotly,required,sensitivity,shap,skoperules,treeinterpreter]==0.4.2->interpret) (0.11.0)\n",
      "Requirement already satisfied: imageio>=2.4.1 in ./opt/anaconda3/lib/python3.9/site-packages (from scikit-image>=0.12->lime>=0.1.1.33->interpret-core[dash,debug,decisiontree,ebm,lime,linear,notebook,plotly,required,sensitivity,shap,skoperules,treeinterpreter]==0.4.2->interpret) (2.9.0)\n",
      "Requirement already satisfied: networkx>=2.2 in ./opt/anaconda3/lib/python3.9/site-packages (from scikit-image>=0.12->lime>=0.1.1.33->interpret-core[dash,debug,decisiontree,ebm,lime,linear,notebook,plotly,required,sensitivity,shap,skoperules,treeinterpreter]==0.4.2->interpret) (2.7.1)\n",
      "Requirement already satisfied: PyWavelets>=1.1.1 in ./opt/anaconda3/lib/python3.9/site-packages (from scikit-image>=0.12->lime>=0.1.1.33->interpret-core[dash,debug,decisiontree,ebm,lime,linear,notebook,plotly,required,sensitivity,shap,skoperules,treeinterpreter]==0.4.2->interpret) (1.3.0)\n",
      "Requirement already satisfied: tifffile>=2019.7.26 in ./opt/anaconda3/lib/python3.9/site-packages (from scikit-image>=0.12->lime>=0.1.1.33->interpret-core[dash,debug,decisiontree,ebm,lime,linear,notebook,plotly,required,sensitivity,shap,skoperules,treeinterpreter]==0.4.2->interpret) (2021.7.2)\n",
      "Requirement already satisfied: threadpoolctl>=2.0.0 in ./opt/anaconda3/lib/python3.9/site-packages (from scikit-learn>=0.18.1->interpret-core[dash,debug,decisiontree,ebm,lime,linear,notebook,plotly,required,sensitivity,shap,skoperules,treeinterpreter]==0.4.2->interpret) (2.2.0)\n",
      "Requirement already satisfied: cloudpickle in ./opt/anaconda3/lib/python3.9/site-packages (from shap>=0.28.5->interpret-core[dash,debug,decisiontree,ebm,lime,linear,notebook,plotly,required,sensitivity,shap,skoperules,treeinterpreter]==0.4.2->interpret) (2.0.0)\n",
      "Requirement already satisfied: slicer==0.0.7 in ./opt/anaconda3/lib/python3.9/site-packages (from shap>=0.28.5->interpret-core[dash,debug,decisiontree,ebm,lime,linear,notebook,plotly,required,sensitivity,shap,skoperules,treeinterpreter]==0.4.2->interpret) (0.0.7)\n",
      "Requirement already satisfied: numba in ./opt/anaconda3/lib/python3.9/site-packages (from shap>=0.28.5->interpret-core[dash,debug,decisiontree,ebm,lime,linear,notebook,plotly,required,sensitivity,shap,skoperules,treeinterpreter]==0.4.2->interpret) (0.55.1)\n",
      "Requirement already satisfied: llvmlite<0.39,>=0.38.0rc1 in ./opt/anaconda3/lib/python3.9/site-packages (from numba->shap>=0.28.5->interpret-core[dash,debug,decisiontree,ebm,lime,linear,notebook,plotly,required,sensitivity,shap,skoperules,treeinterpreter]==0.4.2->interpret) (0.38.0)\n",
      "Requirement already satisfied: executing in ./opt/anaconda3/lib/python3.9/site-packages (from stack-data->ipython>=5.5.0->interpret-core[dash,debug,decisiontree,ebm,lime,linear,notebook,plotly,required,sensitivity,shap,skoperules,treeinterpreter]==0.4.2->interpret) (0.8.3)\n",
      "Requirement already satisfied: pure-eval in ./opt/anaconda3/lib/python3.9/site-packages (from stack-data->ipython>=5.5.0->interpret-core[dash,debug,decisiontree,ebm,lime,linear,notebook,plotly,required,sensitivity,shap,skoperules,treeinterpreter]==0.4.2->interpret) (0.2.2)\n",
      "Requirement already satisfied: asttokens in ./opt/anaconda3/lib/python3.9/site-packages (from stack-data->ipython>=5.5.0->interpret-core[dash,debug,decisiontree,ebm,lime,linear,notebook,plotly,required,sensitivity,shap,skoperules,treeinterpreter]==0.4.2->interpret) (2.0.5)\n",
      "Building wheels for collected packages: greenlet\n",
      "  Building wheel for greenlet (setup.py) ... \u001b[?25ldone\n",
      "\u001b[?25h  Created wheel for greenlet: filename=greenlet-2.0.2-cp39-cp39-macosx_10_9_x86_64.whl size=190857 sha256=8d355fbc1017a6924888bb11356e46771dc1ddf43d70eb27a07da3a7d6b5b1b4\n",
      "  Stored in directory: /Users/mallikayadav/Library/Caches/pip/wheels/c4/e2/38/932349e5e893e6d464ea70f98f76a8d7b9ba73e62cc9db5579\n",
      "Successfully built greenlet\n",
      "Installing collected packages: dash-table, dash-html-components, dash-core-components, zope.event, multiprocess, greenlet, dash, treeinterpreter, skope-rules, SALib, interpret-core, gevent, dash-cytoscape, interpret\n",
      "  Attempting uninstall: greenlet\n",
      "    Found existing installation: greenlet 1.1.1\n",
      "    Uninstalling greenlet-1.1.1:\n",
      "      Successfully uninstalled greenlet-1.1.1\n",
      "Successfully installed SALib-1.4.7 dash-2.10.2 dash-core-components-2.0.0 dash-cytoscape-0.3.0 dash-html-components-2.0.0 dash-table-5.0.0 gevent-22.10.2 greenlet-2.0.2 interpret-0.4.2 interpret-core-0.4.2 multiprocess-0.70.14 skope-rules-1.0.1 treeinterpreter-0.2.3 zope.event-4.6\n"
     ]
    }
   ],
   "source": [
    "!pip install interpret\n",
    "from interpret.glassbox import ExplainableBoostingClassifier  # interpret ebm class\n",
    "from interpret.perf import ROC                                # ROC measure for ebm\n",
    "import itertools                                              # for cartesian product of parameters\n",
    "import matplotlib.pyplot as plt                               # for plots\n",
    "import numpy as np                                            # for basic array manipulation                            \n",
    "import pandas as pd                                           # for dataframe manipulation\n",
    "import random                                                 # to sample from lists\n",
    "from sklearn.metrics import accuracy_score, f1_score          # for selecting model cutoffs\n",
    "import time                                                   # for timers\n",
    "\n",
    "# set numpy random seed for better reproducibility\n",
    "SEED = 12345 \n",
    "np.random.seed(SEED)\n",
    "\n",
    "# set number of threads\n",
    "NTHREAD = 4"
   ]
  },
  {
   "cell_type": "markdown",
   "id": "f4c8e46e",
   "metadata": {},
   "source": [
    "### Define utility functions"
   ]
  },
  {
   "cell_type": "markdown",
   "id": "9a1f486c",
   "metadata": {},
   "source": [
    "#### Utility function to calculate confusion matrices by demographic group"
   ]
  },
  {
   "cell_type": "code",
   "execution_count": 3,
   "id": "4231a6a7",
   "metadata": {},
   "outputs": [],
   "source": [
    "def get_confusion_matrix(frame, y, yhat, by=None, level=None, cutoff=0.5, verbose=True):\n",
    "\n",
    "    \"\"\" Creates confusion matrix from pandas dataframe of y and yhat values, can be sliced \n",
    "        by a variable and level.\n",
    "    \n",
    "        :param frame: Pandas dataframe of actual (y) and predicted (yhat) values.\n",
    "        :param y: Name of actual value column.\n",
    "        :param yhat: Name of predicted value column.\n",
    "        :param by: By variable to slice frame before creating confusion matrix, default None.\n",
    "        :param level: Value of by variable to slice frame before creating confusion matrix, default None.\n",
    "        :param cutoff: Cutoff threshold for confusion matrix, default 0.5. \n",
    "        :param verbose: Whether to print confusion matrix titles, default True. \n",
    "        :return: Confusion matrix as pandas dataframe. \n",
    "        \n",
    "    \"\"\"\n",
    "    \n",
    "    # determine levels of target (y) variable\n",
    "    # sort for consistency\n",
    "    level_list = list(frame[y].unique())\n",
    "    level_list.sort(reverse=True) \n",
    "\n",
    "    # init confusion matrix\n",
    "    cm_frame = pd.DataFrame(columns=['actual: ' +  str(i) for i in level_list], \n",
    "                            index=['predicted: ' + str(i) for i in level_list])\n",
    "    \n",
    "    # don't destroy original data\n",
    "    frame_ = frame.copy(deep=True)\n",
    "    \n",
    "    # convert numeric predictions to binary decisions using cutoff\n",
    "    dname = 'd_' + str(y)\n",
    "    frame_[dname] = np.where(frame_[yhat] > cutoff , 1, 0)\n",
    "    \n",
    "    # slice frame\n",
    "    if (by is not None) & (level is not None):\n",
    "        frame_ = frame_[frame[by] == level]\n",
    "    \n",
    "    # calculate size of each confusion matrix value\n",
    "    for i, lev_i in enumerate(level_list):\n",
    "        for j, lev_j in enumerate(level_list):\n",
    "            cm_frame.iat[j, i] = frame_[(frame_[y] == lev_i) & (frame_[dname] == lev_j)].shape[0]\n",
    "            # i, j vs. j, i nasty little bug ... updated 8/30/19\n",
    "    \n",
    "    # output results\n",
    "    if verbose:\n",
    "        if by is None:\n",
    "            print('Confusion matrix:')\n",
    "        else:\n",
    "            print('Confusion matrix by ' + by + '=' + str(level))\n",
    "    \n",
    "    return cm_frame"
   ]
  },
  {
   "cell_type": "markdown",
   "id": "4ffdbdf9",
   "metadata": {},
   "source": [
    "### Utility function to calculate AIR"
   ]
  },
  {
   "cell_type": "code",
   "execution_count": 4,
   "id": "1c84741a",
   "metadata": {},
   "outputs": [],
   "source": [
    "def air(cm_dict, reference_key, protected_key, verbose=True):\n",
    "\n",
    "    \"\"\" Calculates the adverse impact ratio as a quotient between protected and \n",
    "        reference group acceptance rates: protected_prop/reference_prop. \n",
    "        Optionally prints intermediate values. ASSUMES 0 IS \"POSITIVE\" OUTCOME!\n",
    "\n",
    "        :param cm_dict: Dictionary of demographic group confusion matrices. \n",
    "        :param reference_key: Name of reference group in cm_dict as a string.\n",
    "        :param protected_key: Name of protected group in cm_dict as a string.\n",
    "        :param verbose: Whether to print intermediate acceptance rates, default True. \n",
    "        :return: AIR.\n",
    "        \n",
    "    \"\"\"\n",
    "\n",
    "    eps = 1e-20 # numeric stability and divide by 0 protection\n",
    "    \n",
    "    # reference group summary\n",
    "    reference_accepted = float(cm_dict[reference_key].iat[1,0] + cm_dict[reference_key].iat[1,1]) # predicted 0's\n",
    "    reference_total = float(cm_dict[reference_key].sum().sum())\n",
    "    reference_prop = reference_accepted/reference_total\n",
    "    if verbose:\n",
    "        print(reference_key.title() + ' proportion accepted: %.3f' % reference_prop)\n",
    "    \n",
    "    # protected group summary\n",
    "    protected_accepted = float(cm_dict[protected_key].iat[1,0] + cm_dict[protected_key].iat[1,1]) # predicted 0's\n",
    "    protected_total = float(cm_dict[protected_key].sum().sum())\n",
    "    protected_prop = protected_accepted/protected_total\n",
    "    if verbose:\n",
    "        print(protected_key.title() + ' proportion accepted: %.3f' % protected_prop)\n",
    "\n",
    "    # return adverse impact ratio\n",
    "    if np.isclose(protected_accepted, 0.0):\n",
    "        return np.nan\n",
    "    else:\n",
    "        return ((protected_prop + eps)/(reference_prop + eps))"
   ]
  },
  {
   "cell_type": "markdown",
   "id": "1580f32b",
   "metadata": {},
   "source": [
    "#### Utility function to select probability cutoff by F1"
   ]
  },
  {
   "cell_type": "code",
   "execution_count": 5,
   "id": "fd849162",
   "metadata": {},
   "outputs": [],
   "source": [
    "def get_max_f1_frame(frame, y, yhat, res=0.01, air_reference=None, air_protected=None, verbose=False): \n",
    "    \n",
    "    \"\"\" Utility function for finding max. F1. \n",
    "        Coupled to get_confusion_matrix() and air(). \n",
    "        Assumes 1 is the marker for class membership.\n",
    "    \n",
    "        :param frame: Pandas dataframe of actual (y) and predicted (yhat) values.\n",
    "        :param y: Known y values.\n",
    "        :param yhat: Model scores.\n",
    "        :param res: Resolution over which to search for max. F1, default 0.01.\n",
    "        :param air_reference: Reference group for AIR calculation, optional.\n",
    "        :param air_protected: Protected group for AIR calculation, optional.\n",
    "        :return: Pandas DataFrame of cutoffs to select from.\n",
    "    \n",
    "    \"\"\"\n",
    "    \n",
    "    do_air = all(v is not None for v in [air_reference, air_protected])\n",
    "    \n",
    "    # init frame to store f1 at different cutoffs\n",
    "    if do_air:\n",
    "        columns = ['cut', 'f1', 'acc', 'air']\n",
    "    else:\n",
    "        columns = ['cut', 'f1', 'acc']\n",
    "    f1_frame = pd.DataFrame(columns=['cut', 'f1', 'acc'])\n",
    "    \n",
    "    # copy known y and score values into a temporary frame\n",
    "    temp_df = frame[[y, yhat]].copy(deep=True)\n",
    "    \n",
    "    # find f1 at different cutoffs and store in acc_frame\n",
    "    for cut in np.arange(0, 1 + res, res):\n",
    "        temp_df['decision'] = np.where(temp_df.iloc[:, 1] > cut, 1, 0)\n",
    "        f1 = f1_score(temp_df.iloc[:, 0], temp_df['decision'])\n",
    "        acc = accuracy_score(temp_df.iloc[:, 0], temp_df['decision'])\n",
    "        row_dict = {'cut': cut, 'f1': f1, 'acc': acc}\n",
    "        if do_air:\n",
    "            # conditionally calculate AIR  \n",
    "            cm_ref = get_confusion_matrix(frame, y, yhat, by=air_reference, level=1, cutoff=cut, verbose=verbose)\n",
    "            cm_pro = get_confusion_matrix(frame, y, yhat, by=air_protected, level=1, cutoff=cut, verbose=verbose)\n",
    "            air_ = air({air_reference: cm_ref, air_protected: cm_pro}, air_reference, air_protected, verbose=verbose)\n",
    "            row_dict['air'] = air_\n",
    "            \n",
    "        f1_frame = f1_frame.append(row_dict, ignore_index=True)\n",
    "            \n",
    "    del temp_df\n",
    "        \n",
    "    return f1_frame    "
   ]
  },
  {
   "cell_type": "markdown",
   "id": "2c5a7c34",
   "metadata": {},
   "source": [
    "#### Utility function for random grid search"
   ]
  },
  {
   "cell_type": "code",
   "execution_count": 6,
   "id": "fd9aa71d",
   "metadata": {},
   "outputs": [],
   "source": [
    "def ebm_grid(train, valid, x_names, y_name, gs_params=None, n_models=None, early_stopping_rounds=None, seed=None,\n",
    "             air_reference=None, air_protected=None, air_cut=None, verbose=False):\n",
    "    \n",
    "    \"\"\" Performs a random grid search over n_models and gs_params.\n",
    "        Optionally considers random feature sets and AIR.\n",
    "        Coupled to get_confusion_matrix() and air(). \n",
    "\n",
    "    :param train: Training data as Pandas DataFrame.\n",
    "    :param valid: Validation data as Pandas DataFrame.\n",
    "    :param x_names: Names of input features.\n",
    "    :param y_name: Name of target feature.\n",
    "    :param gs_params: Dictionary of lists of potential EBM parameters over which to search.   \n",
    "    :param n_models: Number of random models to evaluate.\n",
    "    :param early_stopping_rounds: EBM early stopping rounds.\n",
    "    :param seed: Random seed for better interpretability.\n",
    "    :param air_reference: Reference group for AIR calculation, optional.\n",
    "    :param air_protected: Protected group for AIR calculation, optional.  \n",
    "    :param air_cut: Cutoff for AIR calculation, optional.\n",
    "    :param verbose: Whether to print intermediate acceptance rates, default False. \n",
    "    :return: Tuple: (Best EBM model, Pandas DataFrame of models to select from)\n",
    "\n",
    "    \"\"\"\n",
    "    \n",
    "    # init returned frame\n",
    "    do_air = all(v is not None for v in [air_reference, air_protected])\n",
    "    if do_air: \n",
    "        columns = list(gs_params.keys()) + ['features', 'auc', 'air']\n",
    "    else:\n",
    "        columns = list(gs_params.keys()) + ['auc']\n",
    "    ebm_grid_frame = pd.DataFrame(columns=columns)\n",
    "    \n",
    "    # cartesian product of gs_params\n",
    "    keys, values = zip(*gs_params.items())\n",
    "    experiments = [dict(zip(keys, v)) for v in itertools.product(*values)]\n",
    "\n",
    "    # preserve exact reproducibility for this function\n",
    "    np.random.seed(SEED) \n",
    "    \n",
    "    # select randomly from cartesian product space\n",
    "    selected_experiments = np.random.choice(len(experiments), n_models)\n",
    "\n",
    "    # set global params for seed, etc.\n",
    "    params = {'n_jobs': NTHREAD,\n",
    "              'early_stopping_rounds': early_stopping_rounds, \n",
    "              'random_state': SEED}\n",
    "\n",
    "    # init grid search loop\n",
    "    best_candidate = None\n",
    "    best_score = 0\n",
    "\n",
    "    # grid search loop\n",
    "    for i, exp in enumerate(selected_experiments):\n",
    "\n",
    "        params.update(experiments[exp])  # override global params with current grid run params\n",
    "\n",
    "        print('Grid search run %d/%d:' % (int(i + 1), int(n_models)))\n",
    "        print('Training with parameters:', params)\n",
    "        \n",
    "        # train \n",
    "        ebm = ExplainableBoostingClassifier(**params)\n",
    "        \n",
    "        # conditionally select random features \n",
    "        features = x_names\n",
    "        if do_air:\n",
    "            n_features = random.randrange(len(x_names)) + 1\n",
    "            features = random.sample(x_names, n_features)\n",
    "        candidate = ebm.fit(train[features], train[y_name]) \n",
    "\n",
    "        # calculate AUC\n",
    "        ebm_perf = ROC(ebm.predict_proba).explain_perf(valid[features], valid[y_name])\n",
    "        candidate_best_score = ebm_perf._internal_obj['overall']['auc']\n",
    "    \n",
    "        # compose values to add to ebm_grid_frame\n",
    "        row_dict = params.copy()\n",
    "        row_dict['auc'] = candidate_best_score\n",
    "        if do_air:\n",
    "            # collect random feature set\n",
    "            row_dict['features'] = features\n",
    "            # conditionally calculate AIR  \n",
    "            valid_phat = valid.copy(deep=True)\n",
    "            valid_phat['phat'] = candidate.predict_proba(valid[features])[:, 1]\n",
    "            cm_ref = get_confusion_matrix(valid_phat, y_name, 'phat', by=air_reference, level=1, cutoff=air_cut, verbose=verbose)\n",
    "            cm_pro = get_confusion_matrix(valid_phat, y_name, 'phat', by=air_protected, level=1, cutoff=air_cut, verbose=verbose)\n",
    "            air_ = air({air_reference: cm_ref, air_protected: cm_pro}, air_reference, air_protected, verbose=verbose)\n",
    "            row_dict['air'] = air_\n",
    "            del valid_phat\n",
    "\n",
    "        # append run to ebm_grid_frame\n",
    "        ebm_grid_frame = ebm_grid_frame.append(row_dict, ignore_index=True)\n",
    "    \n",
    "        # determine if current model is better than previous best\n",
    "        if candidate_best_score > best_score:\n",
    "            best_score = candidate_best_score\n",
    "            best_ebm = candidate\n",
    "            print('Grid search new best score discovered at iteration %d/%d: %.4f.' %\n",
    "                             (int(i + 1), int(n_models), candidate_best_score))\n",
    "\n",
    "        print('---------- ----------')\n",
    "        \n",
    "        del row_dict\n",
    "        del ebm\n",
    "            \n",
    "    return best_ebm, ebm_grid_frame\n"
   ]
  },
  {
   "cell_type": "markdown",
   "id": "ff95a6c3",
   "metadata": {},
   "source": [
    "#### Start global timer"
   ]
  },
  {
   "cell_type": "code",
   "execution_count": 7,
   "id": "b3cfd7d5",
   "metadata": {},
   "outputs": [],
   "source": [
    "tic = time.time()"
   ]
  },
  {
   "cell_type": "markdown",
   "id": "a49fa751",
   "metadata": {},
   "source": [
    "#### Import data"
   ]
  },
  {
   "cell_type": "code",
   "execution_count": 8,
   "id": "01b16c35",
   "metadata": {},
   "outputs": [],
   "source": [
    "data = pd.read_csv('hmda_train_preprocessed.csv')\n",
    "test = pd.read_csv('hmda_test_preprocessed.csv')"
   ]
  },
  {
   "cell_type": "markdown",
   "id": "7d62a054",
   "metadata": {},
   "source": [
    "### Assign basic modeling roles"
   ]
  },
  {
   "cell_type": "code",
   "execution_count": 9,
   "id": "8fcd471b",
   "metadata": {},
   "outputs": [],
   "source": [
    "y_name = 'high_priced'\n",
    "x_names = ['term_360', 'conforming', 'debt_to_income_ratio_missing', 'loan_amount_std', 'loan_to_value_ratio_std', 'no_intro_rate_period_std',\n",
    "           'intro_rate_period_std', 'property_value_std', 'income_std', 'debt_to_income_ratio_std']"
   ]
  },
  {
   "cell_type": "markdown",
   "id": "f2341f44",
   "metadata": {},
   "source": [
    "### Fit interpretable model"
   ]
  },
  {
   "cell_type": "markdown",
   "id": "c6a887e0",
   "metadata": {},
   "source": [
    "### Split data into train and validation partitions"
   ]
  },
  {
   "cell_type": "code",
   "execution_count": 10,
   "id": "502c8f69",
   "metadata": {},
   "outputs": [
    {
     "name": "stdout",
     "output_type": "stream",
     "text": [
      "Train data rows = 112253, columns = 23\n",
      "Validation data rows = 48085, columns = 23\n"
     ]
    }
   ],
   "source": [
    "np.random.seed(SEED) # preserve exact reproducibility for this cell\n",
    "\n",
    "split_ratio = 0.7 # 70%/30% train/test split\n",
    "\n",
    "# execute split\n",
    "split = np.random.rand(len(data)) < split_ratio\n",
    "train = data[split]\n",
    "valid = data[~split]\n",
    "\n",
    "# summarize split\n",
    "print('Train data rows = %d, columns = %d' % (train.shape[0], train.shape[1]))\n",
    "print('Validation data rows = %d, columns = %d' % (valid.shape[0], valid.shape[1]))\n",
    "\n",
    "# benchmark - Train data rows = 112253, columns = 23\n",
    "# benchmark - Validation data rows = 48085, columns = 23"
   ]
  },
  {
   "cell_type": "markdown",
   "id": "5cf1e85c",
   "metadata": {},
   "source": [
    "### Explainable Boosting Machine"
   ]
  },
  {
   "cell_type": "markdown",
   "id": "d730305c",
   "metadata": {},
   "source": [
    "#### Fit EBM with random grid search"
   ]
  },
  {
   "cell_type": "code",
   "execution_count": 11,
   "id": "0beac2a1",
   "metadata": {},
   "outputs": [
    {
     "name": "stdout",
     "output_type": "stream",
     "text": [
      "Grid search run 1/10:\n",
      "Training with parameters: {'n_jobs': 4, 'early_stopping_rounds': 100, 'random_state': 12345, 'max_bins': 512, 'max_interaction_bins': 16, 'interactions': 5, 'outer_bags': 4, 'inner_bags': 0, 'learning_rate': 0.05, 'validation_size': 0.25, 'min_samples_leaf': 1, 'max_leaves': 3}\n"
     ]
    },
    {
     "name": "stderr",
     "output_type": "stream",
     "text": [
      "/var/folders/s_/psmzh19x55n79gg5ssgdy5p00000gn/T/ipykernel_5042/74914493.py:89: FutureWarning: The frame.append method is deprecated and will be removed from pandas in a future version. Use pandas.concat instead.\n",
      "  ebm_grid_frame = ebm_grid_frame.append(row_dict, ignore_index=True)\n"
     ]
    },
    {
     "name": "stdout",
     "output_type": "stream",
     "text": [
      "Grid search new best score discovered at iteration 1/10: 0.8218.\n",
      "---------- ----------\n",
      "Grid search run 2/10:\n",
      "Training with parameters: {'n_jobs': 4, 'early_stopping_rounds': 100, 'random_state': 12345, 'max_bins': 128, 'max_interaction_bins': 32, 'interactions': 5, 'outer_bags': 8, 'inner_bags': 0, 'learning_rate': 0.001, 'validation_size': 0.25, 'min_samples_leaf': 2, 'max_leaves': 5}\n"
     ]
    },
    {
     "name": "stderr",
     "output_type": "stream",
     "text": [
      "/var/folders/s_/psmzh19x55n79gg5ssgdy5p00000gn/T/ipykernel_5042/74914493.py:89: FutureWarning: The frame.append method is deprecated and will be removed from pandas in a future version. Use pandas.concat instead.\n",
      "  ebm_grid_frame = ebm_grid_frame.append(row_dict, ignore_index=True)\n"
     ]
    },
    {
     "name": "stdout",
     "output_type": "stream",
     "text": [
      "---------- ----------\n",
      "Grid search run 3/10:\n",
      "Training with parameters: {'n_jobs': 4, 'early_stopping_rounds': 100, 'random_state': 12345, 'max_bins': 512, 'max_interaction_bins': 16, 'interactions': 5, 'outer_bags': 4, 'inner_bags': 0, 'learning_rate': 0.001, 'validation_size': 0.5, 'min_samples_leaf': 1, 'max_leaves': 3}\n"
     ]
    },
    {
     "name": "stderr",
     "output_type": "stream",
     "text": [
      "/var/folders/s_/psmzh19x55n79gg5ssgdy5p00000gn/T/ipykernel_5042/74914493.py:89: FutureWarning: The frame.append method is deprecated and will be removed from pandas in a future version. Use pandas.concat instead.\n",
      "  ebm_grid_frame = ebm_grid_frame.append(row_dict, ignore_index=True)\n"
     ]
    },
    {
     "name": "stdout",
     "output_type": "stream",
     "text": [
      "---------- ----------\n",
      "Grid search run 4/10:\n",
      "Training with parameters: {'n_jobs': 4, 'early_stopping_rounds': 100, 'random_state': 12345, 'max_bins': 128, 'max_interaction_bins': 64, 'interactions': 5, 'outer_bags': 4, 'inner_bags': 4, 'learning_rate': 0.05, 'validation_size': 0.5, 'min_samples_leaf': 1, 'max_leaves': 5}\n"
     ]
    },
    {
     "name": "stderr",
     "output_type": "stream",
     "text": [
      "/var/folders/s_/psmzh19x55n79gg5ssgdy5p00000gn/T/ipykernel_5042/74914493.py:89: FutureWarning: The frame.append method is deprecated and will be removed from pandas in a future version. Use pandas.concat instead.\n",
      "  ebm_grid_frame = ebm_grid_frame.append(row_dict, ignore_index=True)\n"
     ]
    },
    {
     "name": "stdout",
     "output_type": "stream",
     "text": [
      "---------- ----------\n",
      "Grid search run 5/10:\n",
      "Training with parameters: {'n_jobs': 4, 'early_stopping_rounds': 100, 'random_state': 12345, 'max_bins': 512, 'max_interaction_bins': 64, 'interactions': 15, 'outer_bags': 4, 'inner_bags': 0, 'learning_rate': 0.05, 'validation_size': 0.1, 'min_samples_leaf': 10, 'max_leaves': 3}\n"
     ]
    },
    {
     "name": "stderr",
     "output_type": "stream",
     "text": [
      "/var/folders/s_/psmzh19x55n79gg5ssgdy5p00000gn/T/ipykernel_5042/74914493.py:89: FutureWarning: The frame.append method is deprecated and will be removed from pandas in a future version. Use pandas.concat instead.\n",
      "  ebm_grid_frame = ebm_grid_frame.append(row_dict, ignore_index=True)\n"
     ]
    },
    {
     "name": "stdout",
     "output_type": "stream",
     "text": [
      "Grid search new best score discovered at iteration 5/10: 0.8253.\n",
      "---------- ----------\n",
      "Grid search run 6/10:\n",
      "Training with parameters: {'n_jobs': 4, 'early_stopping_rounds': 100, 'random_state': 12345, 'max_bins': 256, 'max_interaction_bins': 16, 'interactions': 15, 'outer_bags': 12, 'inner_bags': 4, 'learning_rate': 0.01, 'validation_size': 0.1, 'min_samples_leaf': 2, 'max_leaves': 5}\n"
     ]
    },
    {
     "name": "stderr",
     "output_type": "stream",
     "text": [
      "/var/folders/s_/psmzh19x55n79gg5ssgdy5p00000gn/T/ipykernel_5042/74914493.py:89: FutureWarning: The frame.append method is deprecated and will be removed from pandas in a future version. Use pandas.concat instead.\n",
      "  ebm_grid_frame = ebm_grid_frame.append(row_dict, ignore_index=True)\n"
     ]
    },
    {
     "name": "stdout",
     "output_type": "stream",
     "text": [
      "---------- ----------\n",
      "Grid search run 7/10:\n",
      "Training with parameters: {'n_jobs': 4, 'early_stopping_rounds': 100, 'random_state': 12345, 'max_bins': 512, 'max_interaction_bins': 32, 'interactions': 15, 'outer_bags': 4, 'inner_bags': 4, 'learning_rate': 0.05, 'validation_size': 0.25, 'min_samples_leaf': 10, 'max_leaves': 1}\n"
     ]
    },
    {
     "name": "stderr",
     "output_type": "stream",
     "text": [
      "/var/folders/s_/psmzh19x55n79gg5ssgdy5p00000gn/T/ipykernel_5042/74914493.py:89: FutureWarning: The frame.append method is deprecated and will be removed from pandas in a future version. Use pandas.concat instead.\n",
      "  ebm_grid_frame = ebm_grid_frame.append(row_dict, ignore_index=True)\n"
     ]
    },
    {
     "name": "stdout",
     "output_type": "stream",
     "text": [
      "---------- ----------\n",
      "Grid search run 8/10:\n",
      "Training with parameters: {'n_jobs': 4, 'early_stopping_rounds': 100, 'random_state': 12345, 'max_bins': 256, 'max_interaction_bins': 16, 'interactions': 15, 'outer_bags': 8, 'inner_bags': 4, 'learning_rate': 0.001, 'validation_size': 0.5, 'min_samples_leaf': 5, 'max_leaves': 3}\n"
     ]
    },
    {
     "name": "stderr",
     "output_type": "stream",
     "text": [
      "/var/folders/s_/psmzh19x55n79gg5ssgdy5p00000gn/T/ipykernel_5042/74914493.py:89: FutureWarning: The frame.append method is deprecated and will be removed from pandas in a future version. Use pandas.concat instead.\n",
      "  ebm_grid_frame = ebm_grid_frame.append(row_dict, ignore_index=True)\n"
     ]
    },
    {
     "name": "stdout",
     "output_type": "stream",
     "text": [
      "---------- ----------\n",
      "Grid search run 9/10:\n",
      "Training with parameters: {'n_jobs': 4, 'early_stopping_rounds': 100, 'random_state': 12345, 'max_bins': 256, 'max_interaction_bins': 16, 'interactions': 10, 'outer_bags': 8, 'inner_bags': 0, 'learning_rate': 0.05, 'validation_size': 0.5, 'min_samples_leaf': 5, 'max_leaves': 1}\n"
     ]
    },
    {
     "name": "stderr",
     "output_type": "stream",
     "text": [
      "/var/folders/s_/psmzh19x55n79gg5ssgdy5p00000gn/T/ipykernel_5042/74914493.py:89: FutureWarning: The frame.append method is deprecated and will be removed from pandas in a future version. Use pandas.concat instead.\n",
      "  ebm_grid_frame = ebm_grid_frame.append(row_dict, ignore_index=True)\n"
     ]
    },
    {
     "name": "stdout",
     "output_type": "stream",
     "text": [
      "---------- ----------\n",
      "Grid search run 10/10:\n",
      "Training with parameters: {'n_jobs': 4, 'early_stopping_rounds': 100, 'random_state': 12345, 'max_bins': 512, 'max_interaction_bins': 64, 'interactions': 5, 'outer_bags': 4, 'inner_bags': 0, 'learning_rate': 0.001, 'validation_size': 0.25, 'min_samples_leaf': 2, 'max_leaves': 3}\n",
      "---------- ----------\n",
      "EBM training completed in 346.40 s.\n"
     ]
    },
    {
     "name": "stderr",
     "output_type": "stream",
     "text": [
      "/var/folders/s_/psmzh19x55n79gg5ssgdy5p00000gn/T/ipykernel_5042/74914493.py:89: FutureWarning: The frame.append method is deprecated and will be removed from pandas in a future version. Use pandas.concat instead.\n",
      "  ebm_grid_frame = ebm_grid_frame.append(row_dict, ignore_index=True)\n"
     ]
    }
   ],
   "source": [
    "# dictionary of hyperparameter value lists for grid search\n",
    "gs_params = {'max_bins': [128, 256, 512],\n",
    "             'max_interaction_bins': [16, 32, 64],\n",
    "             'interactions': [5, 10, 15],\n",
    "             'outer_bags': [4, 8, 12], \n",
    "             'inner_bags': [0, 4],\n",
    "             'learning_rate': [0.001, 0.01, 0.05],\n",
    "             'validation_size': [0.1, 0.25, 0.5],\n",
    "             'min_samples_leaf': [1, 2, 5, 10],\n",
    "             'max_leaves': [1, 3, 5]}\n",
    "\n",
    "# start local timer\n",
    "ebm_tic = time.time()\n",
    "\n",
    "# EBM grid search\n",
    "best_ebm, ebm_grid_frame = ebm_grid(train, valid, x_names, y_name, gs_params=gs_params, n_models=10, \n",
    "                                    early_stopping_rounds=100, seed=SEED)\n",
    "\n",
    "# end local timer\n",
    "ebm_toc = time.time() - ebm_tic\n",
    "print('EBM training completed in %.2f s.' % (ebm_toc))"
   ]
  },
  {
   "cell_type": "markdown",
   "id": "b80e0a69",
   "metadata": {},
   "source": [
    "#### Basic AUC assessment"
   ]
  },
  {
   "cell_type": "code",
   "execution_count": 12,
   "id": "8ee8801f",
   "metadata": {},
   "outputs": [
    {
     "name": "stdout",
     "output_type": "stream",
     "text": [
      "Validation AUC: 0.8253.\n"
     ]
    }
   ],
   "source": [
    "best_ebm_perf = ROC(best_ebm.predict_proba).explain_perf(valid[x_names], valid[y_name])\n",
    "print('Validation AUC: %.4f.' % best_ebm_perf._internal_obj['overall']['auc'])"
   ]
  },
  {
   "cell_type": "markdown",
   "id": "acb42bb6",
   "metadata": {},
   "source": [
    "#### Score validation data with model"
   ]
  },
  {
   "cell_type": "code",
   "execution_count": 13,
   "id": "0a8fbbc6",
   "metadata": {},
   "outputs": [
    {
     "data": {
      "text/html": [
       "<div>\n",
       "<style scoped>\n",
       "    .dataframe tbody tr th:only-of-type {\n",
       "        vertical-align: middle;\n",
       "    }\n",
       "\n",
       "    .dataframe tbody tr th {\n",
       "        vertical-align: top;\n",
       "    }\n",
       "\n",
       "    .dataframe thead th {\n",
       "        text-align: right;\n",
       "    }\n",
       "</style>\n",
       "<table border=\"1\" class=\"dataframe\">\n",
       "  <thead>\n",
       "    <tr style=\"text-align: right;\">\n",
       "      <th></th>\n",
       "      <th>row_id</th>\n",
       "      <th>black</th>\n",
       "      <th>asian</th>\n",
       "      <th>white</th>\n",
       "      <th>amind</th>\n",
       "      <th>hipac</th>\n",
       "      <th>hispanic</th>\n",
       "      <th>non_hispanic</th>\n",
       "      <th>male</th>\n",
       "      <th>female</th>\n",
       "      <th>...</th>\n",
       "      <th>debt_to_income_ratio_missing</th>\n",
       "      <th>loan_amount_std</th>\n",
       "      <th>loan_to_value_ratio_std</th>\n",
       "      <th>no_intro_rate_period_std</th>\n",
       "      <th>intro_rate_period_std</th>\n",
       "      <th>property_value_std</th>\n",
       "      <th>income_std</th>\n",
       "      <th>debt_to_income_ratio_std</th>\n",
       "      <th>high_priced</th>\n",
       "      <th>phat</th>\n",
       "    </tr>\n",
       "  </thead>\n",
       "  <tbody>\n",
       "    <tr>\n",
       "      <th>0</th>\n",
       "      <td>0</td>\n",
       "      <td>NaN</td>\n",
       "      <td>NaN</td>\n",
       "      <td>NaN</td>\n",
       "      <td>NaN</td>\n",
       "      <td>NaN</td>\n",
       "      <td>NaN</td>\n",
       "      <td>NaN</td>\n",
       "      <td>1.0</td>\n",
       "      <td>0.0</td>\n",
       "      <td>...</td>\n",
       "      <td>0</td>\n",
       "      <td>-0.514393</td>\n",
       "      <td>0.333922</td>\n",
       "      <td>0.244394</td>\n",
       "      <td>-0.215304</td>\n",
       "      <td>-0.535932</td>\n",
       "      <td>-0.040307</td>\n",
       "      <td>0.854601</td>\n",
       "      <td>0</td>\n",
       "      <td>0.165646</td>\n",
       "    </tr>\n",
       "    <tr>\n",
       "      <th>1</th>\n",
       "      <td>6</td>\n",
       "      <td>0.0</td>\n",
       "      <td>0.0</td>\n",
       "      <td>1.0</td>\n",
       "      <td>0.0</td>\n",
       "      <td>0.0</td>\n",
       "      <td>0.0</td>\n",
       "      <td>1.0</td>\n",
       "      <td>0.0</td>\n",
       "      <td>1.0</td>\n",
       "      <td>...</td>\n",
       "      <td>0</td>\n",
       "      <td>-0.426448</td>\n",
       "      <td>0.355249</td>\n",
       "      <td>0.244394</td>\n",
       "      <td>-0.215304</td>\n",
       "      <td>-0.474263</td>\n",
       "      <td>-0.020904</td>\n",
       "      <td>1.037419</td>\n",
       "      <td>0</td>\n",
       "      <td>0.314594</td>\n",
       "    </tr>\n",
       "    <tr>\n",
       "      <th>2</th>\n",
       "      <td>8</td>\n",
       "      <td>0.0</td>\n",
       "      <td>0.0</td>\n",
       "      <td>1.0</td>\n",
       "      <td>0.0</td>\n",
       "      <td>0.0</td>\n",
       "      <td>0.0</td>\n",
       "      <td>1.0</td>\n",
       "      <td>NaN</td>\n",
       "      <td>NaN</td>\n",
       "      <td>...</td>\n",
       "      <td>0</td>\n",
       "      <td>0.277109</td>\n",
       "      <td>0.142995</td>\n",
       "      <td>0.244394</td>\n",
       "      <td>-0.215304</td>\n",
       "      <td>0.111598</td>\n",
       "      <td>-0.019865</td>\n",
       "      <td>0.031916</td>\n",
       "      <td>0</td>\n",
       "      <td>0.022284</td>\n",
       "    </tr>\n",
       "    <tr>\n",
       "      <th>3</th>\n",
       "      <td>10</td>\n",
       "      <td>0.0</td>\n",
       "      <td>0.0</td>\n",
       "      <td>1.0</td>\n",
       "      <td>0.0</td>\n",
       "      <td>0.0</td>\n",
       "      <td>0.0</td>\n",
       "      <td>1.0</td>\n",
       "      <td>NaN</td>\n",
       "      <td>NaN</td>\n",
       "      <td>...</td>\n",
       "      <td>0</td>\n",
       "      <td>-0.382476</td>\n",
       "      <td>-0.240432</td>\n",
       "      <td>0.244394</td>\n",
       "      <td>-0.215304</td>\n",
       "      <td>-0.320089</td>\n",
       "      <td>-0.028181</td>\n",
       "      <td>0.946010</td>\n",
       "      <td>0</td>\n",
       "      <td>0.015600</td>\n",
       "    </tr>\n",
       "    <tr>\n",
       "      <th>4</th>\n",
       "      <td>11</td>\n",
       "      <td>0.0</td>\n",
       "      <td>0.0</td>\n",
       "      <td>1.0</td>\n",
       "      <td>0.0</td>\n",
       "      <td>0.0</td>\n",
       "      <td>1.0</td>\n",
       "      <td>0.0</td>\n",
       "      <td>NaN</td>\n",
       "      <td>NaN</td>\n",
       "      <td>...</td>\n",
       "      <td>0</td>\n",
       "      <td>0.101220</td>\n",
       "      <td>-0.266529</td>\n",
       "      <td>0.244394</td>\n",
       "      <td>-0.215304</td>\n",
       "      <td>0.111598</td>\n",
       "      <td>0.016515</td>\n",
       "      <td>-1.156406</td>\n",
       "      <td>0</td>\n",
       "      <td>0.004888</td>\n",
       "    </tr>\n",
       "  </tbody>\n",
       "</table>\n",
       "<p>5 rows × 24 columns</p>\n",
       "</div>"
      ],
      "text/plain": [
       "   row_id  black  asian  white  amind  hipac  hispanic  non_hispanic  male  \\\n",
       "0       0    NaN    NaN    NaN    NaN    NaN       NaN           NaN   1.0   \n",
       "1       6    0.0    0.0    1.0    0.0    0.0       0.0           1.0   0.0   \n",
       "2       8    0.0    0.0    1.0    0.0    0.0       0.0           1.0   NaN   \n",
       "3      10    0.0    0.0    1.0    0.0    0.0       0.0           1.0   NaN   \n",
       "4      11    0.0    0.0    1.0    0.0    0.0       1.0           0.0   NaN   \n",
       "\n",
       "   female  ...  debt_to_income_ratio_missing  loan_amount_std  \\\n",
       "0     0.0  ...                             0        -0.514393   \n",
       "1     1.0  ...                             0        -0.426448   \n",
       "2     NaN  ...                             0         0.277109   \n",
       "3     NaN  ...                             0        -0.382476   \n",
       "4     NaN  ...                             0         0.101220   \n",
       "\n",
       "   loan_to_value_ratio_std  no_intro_rate_period_std  intro_rate_period_std  \\\n",
       "0                 0.333922                  0.244394              -0.215304   \n",
       "1                 0.355249                  0.244394              -0.215304   \n",
       "2                 0.142995                  0.244394              -0.215304   \n",
       "3                -0.240432                  0.244394              -0.215304   \n",
       "4                -0.266529                  0.244394              -0.215304   \n",
       "\n",
       "   property_value_std  income_std  debt_to_income_ratio_std  high_priced  \\\n",
       "0           -0.535932   -0.040307                  0.854601            0   \n",
       "1           -0.474263   -0.020904                  1.037419            0   \n",
       "2            0.111598   -0.019865                  0.031916            0   \n",
       "3           -0.320089   -0.028181                  0.946010            0   \n",
       "4            0.111598    0.016515                 -1.156406            0   \n",
       "\n",
       "       phat  \n",
       "0  0.165646  \n",
       "1  0.314594  \n",
       "2  0.022284  \n",
       "3  0.015600  \n",
       "4  0.004888  \n",
       "\n",
       "[5 rows x 24 columns]"
      ]
     },
     "execution_count": 13,
     "metadata": {},
     "output_type": "execute_result"
    }
   ],
   "source": [
    "best_ebm_phat = pd.DataFrame(best_ebm.predict_proba(valid[x_names])[:, 1], columns=['phat']) \n",
    "best_ebm_phat = pd.concat([valid.reset_index(drop=True), best_ebm_phat], axis=1)\n",
    "best_ebm_phat.head()"
   ]
  },
  {
   "cell_type": "markdown",
   "id": "4661fcf7",
   "metadata": {},
   "source": [
    "#### Investigate Best Model (EBM) for Discrimination"
   ]
  },
  {
   "cell_type": "markdown",
   "id": "8d325dda",
   "metadata": {},
   "source": [
    "#### Find optimal cutoff based on F1"
   ]
  },
  {
   "cell_type": "markdown",
   "id": "3394273e",
   "metadata": {},
   "source": [
    "#### Cutoffs are normally selected by maximizing a quality statistic or a business metric, and not by considering bias and discrimination."
   ]
  },
  {
   "cell_type": "code",
   "execution_count": 19,
   "id": "a4ebe98b",
   "metadata": {},
   "outputs": [
    {
     "name": "stderr",
     "output_type": "stream",
     "text": [
      "/var/folders/s_/psmzh19x55n79gg5ssgdy5p00000gn/T/ipykernel_5042/1002360894.py:42: FutureWarning: The frame.append method is deprecated and will be removed from pandas in a future version. Use pandas.concat instead.\n",
      "  f1_frame = f1_frame.append(row_dict, ignore_index=True)\n",
      "/var/folders/s_/psmzh19x55n79gg5ssgdy5p00000gn/T/ipykernel_5042/1002360894.py:42: FutureWarning: The frame.append method is deprecated and will be removed from pandas in a future version. Use pandas.concat instead.\n",
      "  f1_frame = f1_frame.append(row_dict, ignore_index=True)\n",
      "/var/folders/s_/psmzh19x55n79gg5ssgdy5p00000gn/T/ipykernel_5042/1002360894.py:42: FutureWarning: The frame.append method is deprecated and will be removed from pandas in a future version. Use pandas.concat instead.\n",
      "  f1_frame = f1_frame.append(row_dict, ignore_index=True)\n",
      "/var/folders/s_/psmzh19x55n79gg5ssgdy5p00000gn/T/ipykernel_5042/1002360894.py:42: FutureWarning: The frame.append method is deprecated and will be removed from pandas in a future version. Use pandas.concat instead.\n",
      "  f1_frame = f1_frame.append(row_dict, ignore_index=True)\n",
      "/var/folders/s_/psmzh19x55n79gg5ssgdy5p00000gn/T/ipykernel_5042/1002360894.py:42: FutureWarning: The frame.append method is deprecated and will be removed from pandas in a future version. Use pandas.concat instead.\n",
      "  f1_frame = f1_frame.append(row_dict, ignore_index=True)\n",
      "/var/folders/s_/psmzh19x55n79gg5ssgdy5p00000gn/T/ipykernel_5042/1002360894.py:42: FutureWarning: The frame.append method is deprecated and will be removed from pandas in a future version. Use pandas.concat instead.\n",
      "  f1_frame = f1_frame.append(row_dict, ignore_index=True)\n",
      "/var/folders/s_/psmzh19x55n79gg5ssgdy5p00000gn/T/ipykernel_5042/1002360894.py:42: FutureWarning: The frame.append method is deprecated and will be removed from pandas in a future version. Use pandas.concat instead.\n",
      "  f1_frame = f1_frame.append(row_dict, ignore_index=True)\n",
      "/var/folders/s_/psmzh19x55n79gg5ssgdy5p00000gn/T/ipykernel_5042/1002360894.py:42: FutureWarning: The frame.append method is deprecated and will be removed from pandas in a future version. Use pandas.concat instead.\n",
      "  f1_frame = f1_frame.append(row_dict, ignore_index=True)\n",
      "/var/folders/s_/psmzh19x55n79gg5ssgdy5p00000gn/T/ipykernel_5042/1002360894.py:42: FutureWarning: The frame.append method is deprecated and will be removed from pandas in a future version. Use pandas.concat instead.\n",
      "  f1_frame = f1_frame.append(row_dict, ignore_index=True)\n",
      "/var/folders/s_/psmzh19x55n79gg5ssgdy5p00000gn/T/ipykernel_5042/1002360894.py:42: FutureWarning: The frame.append method is deprecated and will be removed from pandas in a future version. Use pandas.concat instead.\n",
      "  f1_frame = f1_frame.append(row_dict, ignore_index=True)\n",
      "/var/folders/s_/psmzh19x55n79gg5ssgdy5p00000gn/T/ipykernel_5042/1002360894.py:42: FutureWarning: The frame.append method is deprecated and will be removed from pandas in a future version. Use pandas.concat instead.\n",
      "  f1_frame = f1_frame.append(row_dict, ignore_index=True)\n",
      "/var/folders/s_/psmzh19x55n79gg5ssgdy5p00000gn/T/ipykernel_5042/1002360894.py:42: FutureWarning: The frame.append method is deprecated and will be removed from pandas in a future version. Use pandas.concat instead.\n",
      "  f1_frame = f1_frame.append(row_dict, ignore_index=True)\n",
      "/var/folders/s_/psmzh19x55n79gg5ssgdy5p00000gn/T/ipykernel_5042/1002360894.py:42: FutureWarning: The frame.append method is deprecated and will be removed from pandas in a future version. Use pandas.concat instead.\n",
      "  f1_frame = f1_frame.append(row_dict, ignore_index=True)\n",
      "/var/folders/s_/psmzh19x55n79gg5ssgdy5p00000gn/T/ipykernel_5042/1002360894.py:42: FutureWarning: The frame.append method is deprecated and will be removed from pandas in a future version. Use pandas.concat instead.\n",
      "  f1_frame = f1_frame.append(row_dict, ignore_index=True)\n",
      "/var/folders/s_/psmzh19x55n79gg5ssgdy5p00000gn/T/ipykernel_5042/1002360894.py:42: FutureWarning: The frame.append method is deprecated and will be removed from pandas in a future version. Use pandas.concat instead.\n",
      "  f1_frame = f1_frame.append(row_dict, ignore_index=True)\n",
      "/var/folders/s_/psmzh19x55n79gg5ssgdy5p00000gn/T/ipykernel_5042/1002360894.py:42: FutureWarning: The frame.append method is deprecated and will be removed from pandas in a future version. Use pandas.concat instead.\n",
      "  f1_frame = f1_frame.append(row_dict, ignore_index=True)\n",
      "/var/folders/s_/psmzh19x55n79gg5ssgdy5p00000gn/T/ipykernel_5042/1002360894.py:42: FutureWarning: The frame.append method is deprecated and will be removed from pandas in a future version. Use pandas.concat instead.\n",
      "  f1_frame = f1_frame.append(row_dict, ignore_index=True)\n",
      "/var/folders/s_/psmzh19x55n79gg5ssgdy5p00000gn/T/ipykernel_5042/1002360894.py:42: FutureWarning: The frame.append method is deprecated and will be removed from pandas in a future version. Use pandas.concat instead.\n",
      "  f1_frame = f1_frame.append(row_dict, ignore_index=True)\n",
      "/var/folders/s_/psmzh19x55n79gg5ssgdy5p00000gn/T/ipykernel_5042/1002360894.py:42: FutureWarning: The frame.append method is deprecated and will be removed from pandas in a future version. Use pandas.concat instead.\n",
      "  f1_frame = f1_frame.append(row_dict, ignore_index=True)\n",
      "/var/folders/s_/psmzh19x55n79gg5ssgdy5p00000gn/T/ipykernel_5042/1002360894.py:42: FutureWarning: The frame.append method is deprecated and will be removed from pandas in a future version. Use pandas.concat instead.\n",
      "  f1_frame = f1_frame.append(row_dict, ignore_index=True)\n",
      "/var/folders/s_/psmzh19x55n79gg5ssgdy5p00000gn/T/ipykernel_5042/1002360894.py:42: FutureWarning: The frame.append method is deprecated and will be removed from pandas in a future version. Use pandas.concat instead.\n",
      "  f1_frame = f1_frame.append(row_dict, ignore_index=True)\n",
      "/var/folders/s_/psmzh19x55n79gg5ssgdy5p00000gn/T/ipykernel_5042/1002360894.py:42: FutureWarning: The frame.append method is deprecated and will be removed from pandas in a future version. Use pandas.concat instead.\n",
      "  f1_frame = f1_frame.append(row_dict, ignore_index=True)\n",
      "/var/folders/s_/psmzh19x55n79gg5ssgdy5p00000gn/T/ipykernel_5042/1002360894.py:42: FutureWarning: The frame.append method is deprecated and will be removed from pandas in a future version. Use pandas.concat instead.\n",
      "  f1_frame = f1_frame.append(row_dict, ignore_index=True)\n",
      "/var/folders/s_/psmzh19x55n79gg5ssgdy5p00000gn/T/ipykernel_5042/1002360894.py:42: FutureWarning: The frame.append method is deprecated and will be removed from pandas in a future version. Use pandas.concat instead.\n",
      "  f1_frame = f1_frame.append(row_dict, ignore_index=True)\n",
      "/var/folders/s_/psmzh19x55n79gg5ssgdy5p00000gn/T/ipykernel_5042/1002360894.py:42: FutureWarning: The frame.append method is deprecated and will be removed from pandas in a future version. Use pandas.concat instead.\n",
      "  f1_frame = f1_frame.append(row_dict, ignore_index=True)\n",
      "/var/folders/s_/psmzh19x55n79gg5ssgdy5p00000gn/T/ipykernel_5042/1002360894.py:42: FutureWarning: The frame.append method is deprecated and will be removed from pandas in a future version. Use pandas.concat instead.\n",
      "  f1_frame = f1_frame.append(row_dict, ignore_index=True)\n",
      "/var/folders/s_/psmzh19x55n79gg5ssgdy5p00000gn/T/ipykernel_5042/1002360894.py:42: FutureWarning: The frame.append method is deprecated and will be removed from pandas in a future version. Use pandas.concat instead.\n",
      "  f1_frame = f1_frame.append(row_dict, ignore_index=True)\n",
      "/var/folders/s_/psmzh19x55n79gg5ssgdy5p00000gn/T/ipykernel_5042/1002360894.py:42: FutureWarning: The frame.append method is deprecated and will be removed from pandas in a future version. Use pandas.concat instead.\n",
      "  f1_frame = f1_frame.append(row_dict, ignore_index=True)\n",
      "/var/folders/s_/psmzh19x55n79gg5ssgdy5p00000gn/T/ipykernel_5042/1002360894.py:42: FutureWarning: The frame.append method is deprecated and will be removed from pandas in a future version. Use pandas.concat instead.\n",
      "  f1_frame = f1_frame.append(row_dict, ignore_index=True)\n",
      "/var/folders/s_/psmzh19x55n79gg5ssgdy5p00000gn/T/ipykernel_5042/1002360894.py:42: FutureWarning: The frame.append method is deprecated and will be removed from pandas in a future version. Use pandas.concat instead.\n",
      "  f1_frame = f1_frame.append(row_dict, ignore_index=True)\n",
      "/var/folders/s_/psmzh19x55n79gg5ssgdy5p00000gn/T/ipykernel_5042/1002360894.py:42: FutureWarning: The frame.append method is deprecated and will be removed from pandas in a future version. Use pandas.concat instead.\n",
      "  f1_frame = f1_frame.append(row_dict, ignore_index=True)\n",
      "/var/folders/s_/psmzh19x55n79gg5ssgdy5p00000gn/T/ipykernel_5042/1002360894.py:42: FutureWarning: The frame.append method is deprecated and will be removed from pandas in a future version. Use pandas.concat instead.\n",
      "  f1_frame = f1_frame.append(row_dict, ignore_index=True)\n",
      "/var/folders/s_/psmzh19x55n79gg5ssgdy5p00000gn/T/ipykernel_5042/1002360894.py:42: FutureWarning: The frame.append method is deprecated and will be removed from pandas in a future version. Use pandas.concat instead.\n",
      "  f1_frame = f1_frame.append(row_dict, ignore_index=True)\n",
      "/var/folders/s_/psmzh19x55n79gg5ssgdy5p00000gn/T/ipykernel_5042/1002360894.py:42: FutureWarning: The frame.append method is deprecated and will be removed from pandas in a future version. Use pandas.concat instead.\n",
      "  f1_frame = f1_frame.append(row_dict, ignore_index=True)\n",
      "/var/folders/s_/psmzh19x55n79gg5ssgdy5p00000gn/T/ipykernel_5042/1002360894.py:42: FutureWarning: The frame.append method is deprecated and will be removed from pandas in a future version. Use pandas.concat instead.\n",
      "  f1_frame = f1_frame.append(row_dict, ignore_index=True)\n",
      "/var/folders/s_/psmzh19x55n79gg5ssgdy5p00000gn/T/ipykernel_5042/1002360894.py:42: FutureWarning: The frame.append method is deprecated and will be removed from pandas in a future version. Use pandas.concat instead.\n",
      "  f1_frame = f1_frame.append(row_dict, ignore_index=True)\n",
      "/var/folders/s_/psmzh19x55n79gg5ssgdy5p00000gn/T/ipykernel_5042/1002360894.py:42: FutureWarning: The frame.append method is deprecated and will be removed from pandas in a future version. Use pandas.concat instead.\n",
      "  f1_frame = f1_frame.append(row_dict, ignore_index=True)\n",
      "/var/folders/s_/psmzh19x55n79gg5ssgdy5p00000gn/T/ipykernel_5042/1002360894.py:42: FutureWarning: The frame.append method is deprecated and will be removed from pandas in a future version. Use pandas.concat instead.\n",
      "  f1_frame = f1_frame.append(row_dict, ignore_index=True)\n",
      "/var/folders/s_/psmzh19x55n79gg5ssgdy5p00000gn/T/ipykernel_5042/1002360894.py:42: FutureWarning: The frame.append method is deprecated and will be removed from pandas in a future version. Use pandas.concat instead.\n",
      "  f1_frame = f1_frame.append(row_dict, ignore_index=True)\n",
      "/var/folders/s_/psmzh19x55n79gg5ssgdy5p00000gn/T/ipykernel_5042/1002360894.py:42: FutureWarning: The frame.append method is deprecated and will be removed from pandas in a future version. Use pandas.concat instead.\n",
      "  f1_frame = f1_frame.append(row_dict, ignore_index=True)\n",
      "/var/folders/s_/psmzh19x55n79gg5ssgdy5p00000gn/T/ipykernel_5042/1002360894.py:42: FutureWarning: The frame.append method is deprecated and will be removed from pandas in a future version. Use pandas.concat instead.\n",
      "  f1_frame = f1_frame.append(row_dict, ignore_index=True)\n",
      "/var/folders/s_/psmzh19x55n79gg5ssgdy5p00000gn/T/ipykernel_5042/1002360894.py:42: FutureWarning: The frame.append method is deprecated and will be removed from pandas in a future version. Use pandas.concat instead.\n",
      "  f1_frame = f1_frame.append(row_dict, ignore_index=True)\n",
      "/var/folders/s_/psmzh19x55n79gg5ssgdy5p00000gn/T/ipykernel_5042/1002360894.py:42: FutureWarning: The frame.append method is deprecated and will be removed from pandas in a future version. Use pandas.concat instead.\n",
      "  f1_frame = f1_frame.append(row_dict, ignore_index=True)\n",
      "/var/folders/s_/psmzh19x55n79gg5ssgdy5p00000gn/T/ipykernel_5042/1002360894.py:42: FutureWarning: The frame.append method is deprecated and will be removed from pandas in a future version. Use pandas.concat instead.\n",
      "  f1_frame = f1_frame.append(row_dict, ignore_index=True)\n",
      "/var/folders/s_/psmzh19x55n79gg5ssgdy5p00000gn/T/ipykernel_5042/1002360894.py:42: FutureWarning: The frame.append method is deprecated and will be removed from pandas in a future version. Use pandas.concat instead.\n",
      "  f1_frame = f1_frame.append(row_dict, ignore_index=True)\n",
      "/var/folders/s_/psmzh19x55n79gg5ssgdy5p00000gn/T/ipykernel_5042/1002360894.py:42: FutureWarning: The frame.append method is deprecated and will be removed from pandas in a future version. Use pandas.concat instead.\n",
      "  f1_frame = f1_frame.append(row_dict, ignore_index=True)\n",
      "/var/folders/s_/psmzh19x55n79gg5ssgdy5p00000gn/T/ipykernel_5042/1002360894.py:42: FutureWarning: The frame.append method is deprecated and will be removed from pandas in a future version. Use pandas.concat instead.\n",
      "  f1_frame = f1_frame.append(row_dict, ignore_index=True)\n",
      "/var/folders/s_/psmzh19x55n79gg5ssgdy5p00000gn/T/ipykernel_5042/1002360894.py:42: FutureWarning: The frame.append method is deprecated and will be removed from pandas in a future version. Use pandas.concat instead.\n",
      "  f1_frame = f1_frame.append(row_dict, ignore_index=True)\n",
      "/var/folders/s_/psmzh19x55n79gg5ssgdy5p00000gn/T/ipykernel_5042/1002360894.py:42: FutureWarning: The frame.append method is deprecated and will be removed from pandas in a future version. Use pandas.concat instead.\n",
      "  f1_frame = f1_frame.append(row_dict, ignore_index=True)\n",
      "/var/folders/s_/psmzh19x55n79gg5ssgdy5p00000gn/T/ipykernel_5042/1002360894.py:42: FutureWarning: The frame.append method is deprecated and will be removed from pandas in a future version. Use pandas.concat instead.\n",
      "  f1_frame = f1_frame.append(row_dict, ignore_index=True)\n",
      "/var/folders/s_/psmzh19x55n79gg5ssgdy5p00000gn/T/ipykernel_5042/1002360894.py:42: FutureWarning: The frame.append method is deprecated and will be removed from pandas in a future version. Use pandas.concat instead.\n",
      "  f1_frame = f1_frame.append(row_dict, ignore_index=True)\n",
      "/var/folders/s_/psmzh19x55n79gg5ssgdy5p00000gn/T/ipykernel_5042/1002360894.py:42: FutureWarning: The frame.append method is deprecated and will be removed from pandas in a future version. Use pandas.concat instead.\n",
      "  f1_frame = f1_frame.append(row_dict, ignore_index=True)\n",
      "/var/folders/s_/psmzh19x55n79gg5ssgdy5p00000gn/T/ipykernel_5042/1002360894.py:42: FutureWarning: The frame.append method is deprecated and will be removed from pandas in a future version. Use pandas.concat instead.\n",
      "  f1_frame = f1_frame.append(row_dict, ignore_index=True)\n",
      "/var/folders/s_/psmzh19x55n79gg5ssgdy5p00000gn/T/ipykernel_5042/1002360894.py:42: FutureWarning: The frame.append method is deprecated and will be removed from pandas in a future version. Use pandas.concat instead.\n",
      "  f1_frame = f1_frame.append(row_dict, ignore_index=True)\n",
      "/var/folders/s_/psmzh19x55n79gg5ssgdy5p00000gn/T/ipykernel_5042/1002360894.py:42: FutureWarning: The frame.append method is deprecated and will be removed from pandas in a future version. Use pandas.concat instead.\n",
      "  f1_frame = f1_frame.append(row_dict, ignore_index=True)\n",
      "/var/folders/s_/psmzh19x55n79gg5ssgdy5p00000gn/T/ipykernel_5042/1002360894.py:42: FutureWarning: The frame.append method is deprecated and will be removed from pandas in a future version. Use pandas.concat instead.\n",
      "  f1_frame = f1_frame.append(row_dict, ignore_index=True)\n",
      "/var/folders/s_/psmzh19x55n79gg5ssgdy5p00000gn/T/ipykernel_5042/1002360894.py:42: FutureWarning: The frame.append method is deprecated and will be removed from pandas in a future version. Use pandas.concat instead.\n",
      "  f1_frame = f1_frame.append(row_dict, ignore_index=True)\n",
      "/var/folders/s_/psmzh19x55n79gg5ssgdy5p00000gn/T/ipykernel_5042/1002360894.py:42: FutureWarning: The frame.append method is deprecated and will be removed from pandas in a future version. Use pandas.concat instead.\n",
      "  f1_frame = f1_frame.append(row_dict, ignore_index=True)\n",
      "/var/folders/s_/psmzh19x55n79gg5ssgdy5p00000gn/T/ipykernel_5042/1002360894.py:42: FutureWarning: The frame.append method is deprecated and will be removed from pandas in a future version. Use pandas.concat instead.\n",
      "  f1_frame = f1_frame.append(row_dict, ignore_index=True)\n",
      "/var/folders/s_/psmzh19x55n79gg5ssgdy5p00000gn/T/ipykernel_5042/1002360894.py:42: FutureWarning: The frame.append method is deprecated and will be removed from pandas in a future version. Use pandas.concat instead.\n",
      "  f1_frame = f1_frame.append(row_dict, ignore_index=True)\n",
      "/var/folders/s_/psmzh19x55n79gg5ssgdy5p00000gn/T/ipykernel_5042/1002360894.py:42: FutureWarning: The frame.append method is deprecated and will be removed from pandas in a future version. Use pandas.concat instead.\n",
      "  f1_frame = f1_frame.append(row_dict, ignore_index=True)\n",
      "/var/folders/s_/psmzh19x55n79gg5ssgdy5p00000gn/T/ipykernel_5042/1002360894.py:42: FutureWarning: The frame.append method is deprecated and will be removed from pandas in a future version. Use pandas.concat instead.\n",
      "  f1_frame = f1_frame.append(row_dict, ignore_index=True)\n",
      "/var/folders/s_/psmzh19x55n79gg5ssgdy5p00000gn/T/ipykernel_5042/1002360894.py:42: FutureWarning: The frame.append method is deprecated and will be removed from pandas in a future version. Use pandas.concat instead.\n",
      "  f1_frame = f1_frame.append(row_dict, ignore_index=True)\n",
      "/var/folders/s_/psmzh19x55n79gg5ssgdy5p00000gn/T/ipykernel_5042/1002360894.py:42: FutureWarning: The frame.append method is deprecated and will be removed from pandas in a future version. Use pandas.concat instead.\n",
      "  f1_frame = f1_frame.append(row_dict, ignore_index=True)\n",
      "/var/folders/s_/psmzh19x55n79gg5ssgdy5p00000gn/T/ipykernel_5042/1002360894.py:42: FutureWarning: The frame.append method is deprecated and will be removed from pandas in a future version. Use pandas.concat instead.\n",
      "  f1_frame = f1_frame.append(row_dict, ignore_index=True)\n",
      "/var/folders/s_/psmzh19x55n79gg5ssgdy5p00000gn/T/ipykernel_5042/1002360894.py:42: FutureWarning: The frame.append method is deprecated and will be removed from pandas in a future version. Use pandas.concat instead.\n",
      "  f1_frame = f1_frame.append(row_dict, ignore_index=True)\n",
      "/var/folders/s_/psmzh19x55n79gg5ssgdy5p00000gn/T/ipykernel_5042/1002360894.py:42: FutureWarning: The frame.append method is deprecated and will be removed from pandas in a future version. Use pandas.concat instead.\n",
      "  f1_frame = f1_frame.append(row_dict, ignore_index=True)\n",
      "/var/folders/s_/psmzh19x55n79gg5ssgdy5p00000gn/T/ipykernel_5042/1002360894.py:42: FutureWarning: The frame.append method is deprecated and will be removed from pandas in a future version. Use pandas.concat instead.\n",
      "  f1_frame = f1_frame.append(row_dict, ignore_index=True)\n",
      "/var/folders/s_/psmzh19x55n79gg5ssgdy5p00000gn/T/ipykernel_5042/1002360894.py:42: FutureWarning: The frame.append method is deprecated and will be removed from pandas in a future version. Use pandas.concat instead.\n",
      "  f1_frame = f1_frame.append(row_dict, ignore_index=True)\n",
      "/var/folders/s_/psmzh19x55n79gg5ssgdy5p00000gn/T/ipykernel_5042/1002360894.py:42: FutureWarning: The frame.append method is deprecated and will be removed from pandas in a future version. Use pandas.concat instead.\n",
      "  f1_frame = f1_frame.append(row_dict, ignore_index=True)\n",
      "/var/folders/s_/psmzh19x55n79gg5ssgdy5p00000gn/T/ipykernel_5042/1002360894.py:42: FutureWarning: The frame.append method is deprecated and will be removed from pandas in a future version. Use pandas.concat instead.\n",
      "  f1_frame = f1_frame.append(row_dict, ignore_index=True)\n",
      "/var/folders/s_/psmzh19x55n79gg5ssgdy5p00000gn/T/ipykernel_5042/1002360894.py:42: FutureWarning: The frame.append method is deprecated and will be removed from pandas in a future version. Use pandas.concat instead.\n",
      "  f1_frame = f1_frame.append(row_dict, ignore_index=True)\n",
      "/var/folders/s_/psmzh19x55n79gg5ssgdy5p00000gn/T/ipykernel_5042/1002360894.py:42: FutureWarning: The frame.append method is deprecated and will be removed from pandas in a future version. Use pandas.concat instead.\n",
      "  f1_frame = f1_frame.append(row_dict, ignore_index=True)\n",
      "/var/folders/s_/psmzh19x55n79gg5ssgdy5p00000gn/T/ipykernel_5042/1002360894.py:42: FutureWarning: The frame.append method is deprecated and will be removed from pandas in a future version. Use pandas.concat instead.\n",
      "  f1_frame = f1_frame.append(row_dict, ignore_index=True)\n",
      "/var/folders/s_/psmzh19x55n79gg5ssgdy5p00000gn/T/ipykernel_5042/1002360894.py:42: FutureWarning: The frame.append method is deprecated and will be removed from pandas in a future version. Use pandas.concat instead.\n",
      "  f1_frame = f1_frame.append(row_dict, ignore_index=True)\n",
      "/var/folders/s_/psmzh19x55n79gg5ssgdy5p00000gn/T/ipykernel_5042/1002360894.py:42: FutureWarning: The frame.append method is deprecated and will be removed from pandas in a future version. Use pandas.concat instead.\n",
      "  f1_frame = f1_frame.append(row_dict, ignore_index=True)\n",
      "/var/folders/s_/psmzh19x55n79gg5ssgdy5p00000gn/T/ipykernel_5042/1002360894.py:42: FutureWarning: The frame.append method is deprecated and will be removed from pandas in a future version. Use pandas.concat instead.\n",
      "  f1_frame = f1_frame.append(row_dict, ignore_index=True)\n",
      "/var/folders/s_/psmzh19x55n79gg5ssgdy5p00000gn/T/ipykernel_5042/1002360894.py:42: FutureWarning: The frame.append method is deprecated and will be removed from pandas in a future version. Use pandas.concat instead.\n",
      "  f1_frame = f1_frame.append(row_dict, ignore_index=True)\n",
      "/var/folders/s_/psmzh19x55n79gg5ssgdy5p00000gn/T/ipykernel_5042/1002360894.py:42: FutureWarning: The frame.append method is deprecated and will be removed from pandas in a future version. Use pandas.concat instead.\n",
      "  f1_frame = f1_frame.append(row_dict, ignore_index=True)\n",
      "/var/folders/s_/psmzh19x55n79gg5ssgdy5p00000gn/T/ipykernel_5042/1002360894.py:42: FutureWarning: The frame.append method is deprecated and will be removed from pandas in a future version. Use pandas.concat instead.\n",
      "  f1_frame = f1_frame.append(row_dict, ignore_index=True)\n",
      "/var/folders/s_/psmzh19x55n79gg5ssgdy5p00000gn/T/ipykernel_5042/1002360894.py:42: FutureWarning: The frame.append method is deprecated and will be removed from pandas in a future version. Use pandas.concat instead.\n",
      "  f1_frame = f1_frame.append(row_dict, ignore_index=True)\n",
      "/var/folders/s_/psmzh19x55n79gg5ssgdy5p00000gn/T/ipykernel_5042/1002360894.py:42: FutureWarning: The frame.append method is deprecated and will be removed from pandas in a future version. Use pandas.concat instead.\n",
      "  f1_frame = f1_frame.append(row_dict, ignore_index=True)\n",
      "/var/folders/s_/psmzh19x55n79gg5ssgdy5p00000gn/T/ipykernel_5042/1002360894.py:42: FutureWarning: The frame.append method is deprecated and will be removed from pandas in a future version. Use pandas.concat instead.\n",
      "  f1_frame = f1_frame.append(row_dict, ignore_index=True)\n",
      "/var/folders/s_/psmzh19x55n79gg5ssgdy5p00000gn/T/ipykernel_5042/1002360894.py:42: FutureWarning: The frame.append method is deprecated and will be removed from pandas in a future version. Use pandas.concat instead.\n",
      "  f1_frame = f1_frame.append(row_dict, ignore_index=True)\n",
      "/var/folders/s_/psmzh19x55n79gg5ssgdy5p00000gn/T/ipykernel_5042/1002360894.py:42: FutureWarning: The frame.append method is deprecated and will be removed from pandas in a future version. Use pandas.concat instead.\n",
      "  f1_frame = f1_frame.append(row_dict, ignore_index=True)\n",
      "/var/folders/s_/psmzh19x55n79gg5ssgdy5p00000gn/T/ipykernel_5042/1002360894.py:42: FutureWarning: The frame.append method is deprecated and will be removed from pandas in a future version. Use pandas.concat instead.\n",
      "  f1_frame = f1_frame.append(row_dict, ignore_index=True)\n",
      "/var/folders/s_/psmzh19x55n79gg5ssgdy5p00000gn/T/ipykernel_5042/1002360894.py:42: FutureWarning: The frame.append method is deprecated and will be removed from pandas in a future version. Use pandas.concat instead.\n",
      "  f1_frame = f1_frame.append(row_dict, ignore_index=True)\n",
      "/var/folders/s_/psmzh19x55n79gg5ssgdy5p00000gn/T/ipykernel_5042/1002360894.py:42: FutureWarning: The frame.append method is deprecated and will be removed from pandas in a future version. Use pandas.concat instead.\n",
      "  f1_frame = f1_frame.append(row_dict, ignore_index=True)\n",
      "/var/folders/s_/psmzh19x55n79gg5ssgdy5p00000gn/T/ipykernel_5042/1002360894.py:42: FutureWarning: The frame.append method is deprecated and will be removed from pandas in a future version. Use pandas.concat instead.\n",
      "  f1_frame = f1_frame.append(row_dict, ignore_index=True)\n",
      "/var/folders/s_/psmzh19x55n79gg5ssgdy5p00000gn/T/ipykernel_5042/1002360894.py:42: FutureWarning: The frame.append method is deprecated and will be removed from pandas in a future version. Use pandas.concat instead.\n",
      "  f1_frame = f1_frame.append(row_dict, ignore_index=True)\n",
      "/var/folders/s_/psmzh19x55n79gg5ssgdy5p00000gn/T/ipykernel_5042/1002360894.py:42: FutureWarning: The frame.append method is deprecated and will be removed from pandas in a future version. Use pandas.concat instead.\n",
      "  f1_frame = f1_frame.append(row_dict, ignore_index=True)\n",
      "/var/folders/s_/psmzh19x55n79gg5ssgdy5p00000gn/T/ipykernel_5042/1002360894.py:42: FutureWarning: The frame.append method is deprecated and will be removed from pandas in a future version. Use pandas.concat instead.\n",
      "  f1_frame = f1_frame.append(row_dict, ignore_index=True)\n",
      "/var/folders/s_/psmzh19x55n79gg5ssgdy5p00000gn/T/ipykernel_5042/1002360894.py:42: FutureWarning: The frame.append method is deprecated and will be removed from pandas in a future version. Use pandas.concat instead.\n",
      "  f1_frame = f1_frame.append(row_dict, ignore_index=True)\n",
      "/var/folders/s_/psmzh19x55n79gg5ssgdy5p00000gn/T/ipykernel_5042/1002360894.py:42: FutureWarning: The frame.append method is deprecated and will be removed from pandas in a future version. Use pandas.concat instead.\n",
      "  f1_frame = f1_frame.append(row_dict, ignore_index=True)\n",
      "/var/folders/s_/psmzh19x55n79gg5ssgdy5p00000gn/T/ipykernel_5042/1002360894.py:42: FutureWarning: The frame.append method is deprecated and will be removed from pandas in a future version. Use pandas.concat instead.\n",
      "  f1_frame = f1_frame.append(row_dict, ignore_index=True)\n",
      "/var/folders/s_/psmzh19x55n79gg5ssgdy5p00000gn/T/ipykernel_5042/1002360894.py:42: FutureWarning: The frame.append method is deprecated and will be removed from pandas in a future version. Use pandas.concat instead.\n",
      "  f1_frame = f1_frame.append(row_dict, ignore_index=True)\n",
      "/var/folders/s_/psmzh19x55n79gg5ssgdy5p00000gn/T/ipykernel_5042/1002360894.py:42: FutureWarning: The frame.append method is deprecated and will be removed from pandas in a future version. Use pandas.concat instead.\n",
      "  f1_frame = f1_frame.append(row_dict, ignore_index=True)\n",
      "/var/folders/s_/psmzh19x55n79gg5ssgdy5p00000gn/T/ipykernel_5042/1002360894.py:42: FutureWarning: The frame.append method is deprecated and will be removed from pandas in a future version. Use pandas.concat instead.\n",
      "  f1_frame = f1_frame.append(row_dict, ignore_index=True)\n",
      "/var/folders/s_/psmzh19x55n79gg5ssgdy5p00000gn/T/ipykernel_5042/1002360894.py:42: FutureWarning: The frame.append method is deprecated and will be removed from pandas in a future version. Use pandas.concat instead.\n",
      "  f1_frame = f1_frame.append(row_dict, ignore_index=True)\n"
     ]
    },
    {
     "name": "stdout",
     "output_type": "stream",
     "text": [
      "      cut        f1       acc\n",
      "0     0.0   0.17386  0.095206\n",
      "1    0.01  0.233938  0.384777\n",
      "2    0.02  0.262541  0.479048\n",
      "3    0.03  0.280733  0.530685\n",
      "4    0.04  0.295953  0.569783\n",
      "..    ...       ...       ...\n",
      "96   0.96       0.0  0.904794\n",
      "97   0.97       0.0  0.904794\n",
      "98   0.98       0.0  0.904794\n",
      "99   0.99       0.0  0.904794\n",
      "100   1.0       0.0  0.904794\n",
      "\n",
      "[101 rows x 3 columns]\n",
      "\n"
     ]
    },
    {
     "name": "stderr",
     "output_type": "stream",
     "text": [
      "/var/folders/s_/psmzh19x55n79gg5ssgdy5p00000gn/T/ipykernel_5042/1002360894.py:42: FutureWarning: The frame.append method is deprecated and will be removed from pandas in a future version. Use pandas.concat instead.\n",
      "  f1_frame = f1_frame.append(row_dict, ignore_index=True)\n",
      "/var/folders/s_/psmzh19x55n79gg5ssgdy5p00000gn/T/ipykernel_5042/1002360894.py:42: FutureWarning: The frame.append method is deprecated and will be removed from pandas in a future version. Use pandas.concat instead.\n",
      "  f1_frame = f1_frame.append(row_dict, ignore_index=True)\n"
     ]
    },
    {
     "ename": "TypeError",
     "evalue": "reduction operation 'argmax' not allowed for this dtype",
     "output_type": "error",
     "traceback": [
      "\u001b[0;31m---------------------------------------------------------------------------\u001b[0m",
      "\u001b[0;31mTypeError\u001b[0m                                 Traceback (most recent call last)",
      "Input \u001b[0;32mIn [19]\u001b[0m, in \u001b[0;36m<cell line: 7>\u001b[0;34m()\u001b[0m\n\u001b[1;32m      4\u001b[0m \u001b[38;5;28mprint\u001b[39m()\n\u001b[1;32m      6\u001b[0m max_f1 \u001b[38;5;241m=\u001b[39m f1_frame[\u001b[38;5;124m'\u001b[39m\u001b[38;5;124mf1\u001b[39m\u001b[38;5;124m'\u001b[39m]\u001b[38;5;241m.\u001b[39mmax()\n\u001b[0;32m----> 7\u001b[0m best_cut \u001b[38;5;241m=\u001b[39m f1_frame\u001b[38;5;241m.\u001b[39mloc[\u001b[38;5;28mint\u001b[39m(\u001b[43mf1_frame\u001b[49m\u001b[43m[\u001b[49m\u001b[38;5;124;43m'\u001b[39;49m\u001b[38;5;124;43mf1\u001b[39;49m\u001b[38;5;124;43m'\u001b[39;49m\u001b[43m]\u001b[49m\u001b[38;5;241;43m.\u001b[39;49m\u001b[43midxmax\u001b[49m\u001b[43m(\u001b[49m\u001b[43m)\u001b[49m), \u001b[38;5;124m'\u001b[39m\u001b[38;5;124mcut\u001b[39m\u001b[38;5;124m'\u001b[39m] \u001b[38;5;66;03m#idxmax() returns the index of the maximum value\u001b[39;00m\n\u001b[1;32m      8\u001b[0m acc \u001b[38;5;241m=\u001b[39m f1_frame\u001b[38;5;241m.\u001b[39mloc[\u001b[38;5;28mint\u001b[39m(f1_frame[\u001b[38;5;124m'\u001b[39m\u001b[38;5;124mf1\u001b[39m\u001b[38;5;124m'\u001b[39m]\u001b[38;5;241m.\u001b[39midxmax()), \u001b[38;5;124m'\u001b[39m\u001b[38;5;124macc\u001b[39m\u001b[38;5;124m'\u001b[39m]\n\u001b[1;32m     10\u001b[0m \u001b[38;5;28mprint\u001b[39m(\u001b[38;5;124m'\u001b[39m\u001b[38;5;124mBest EBM F1: \u001b[39m\u001b[38;5;132;01m%.4f\u001b[39;00m\u001b[38;5;124m achieved at cutoff: \u001b[39m\u001b[38;5;132;01m%.2f\u001b[39;00m\u001b[38;5;124m with accuracy: \u001b[39m\u001b[38;5;132;01m%.4f\u001b[39;00m\u001b[38;5;124m.\u001b[39m\u001b[38;5;124m'\u001b[39m \u001b[38;5;241m%\u001b[39m (max_f1, best_cut, acc))\n",
      "File \u001b[0;32m~/opt/anaconda3/lib/python3.9/site-packages/pandas/core/series.py:2404\u001b[0m, in \u001b[0;36mSeries.idxmax\u001b[0;34m(self, axis, skipna, *args, **kwargs)\u001b[0m\n\u001b[1;32m   2339\u001b[0m \u001b[38;5;28;01mdef\u001b[39;00m \u001b[38;5;21midxmax\u001b[39m(\u001b[38;5;28mself\u001b[39m, axis\u001b[38;5;241m=\u001b[39m\u001b[38;5;241m0\u001b[39m, skipna\u001b[38;5;241m=\u001b[39m\u001b[38;5;28;01mTrue\u001b[39;00m, \u001b[38;5;241m*\u001b[39margs, \u001b[38;5;241m*\u001b[39m\u001b[38;5;241m*\u001b[39mkwargs):\n\u001b[1;32m   2340\u001b[0m     \u001b[38;5;124;03m\"\"\"\u001b[39;00m\n\u001b[1;32m   2341\u001b[0m \u001b[38;5;124;03m    Return the row label of the maximum value.\u001b[39;00m\n\u001b[1;32m   2342\u001b[0m \n\u001b[0;32m   (...)\u001b[0m\n\u001b[1;32m   2402\u001b[0m \u001b[38;5;124;03m    nan\u001b[39;00m\n\u001b[1;32m   2403\u001b[0m \u001b[38;5;124;03m    \"\"\"\u001b[39;00m\n\u001b[0;32m-> 2404\u001b[0m     i \u001b[38;5;241m=\u001b[39m \u001b[38;5;28;43mself\u001b[39;49m\u001b[38;5;241;43m.\u001b[39;49m\u001b[43margmax\u001b[49m\u001b[43m(\u001b[49m\u001b[43maxis\u001b[49m\u001b[43m,\u001b[49m\u001b[43m \u001b[49m\u001b[43mskipna\u001b[49m\u001b[43m,\u001b[49m\u001b[43m \u001b[49m\u001b[38;5;241;43m*\u001b[39;49m\u001b[43margs\u001b[49m\u001b[43m,\u001b[49m\u001b[43m \u001b[49m\u001b[38;5;241;43m*\u001b[39;49m\u001b[38;5;241;43m*\u001b[39;49m\u001b[43mkwargs\u001b[49m\u001b[43m)\u001b[49m\n\u001b[1;32m   2405\u001b[0m     \u001b[38;5;28;01mif\u001b[39;00m i \u001b[38;5;241m==\u001b[39m \u001b[38;5;241m-\u001b[39m\u001b[38;5;241m1\u001b[39m:\n\u001b[1;32m   2406\u001b[0m         \u001b[38;5;28;01mreturn\u001b[39;00m np\u001b[38;5;241m.\u001b[39mnan\n",
      "File \u001b[0;32m~/opt/anaconda3/lib/python3.9/site-packages/pandas/core/base.py:657\u001b[0m, in \u001b[0;36mIndexOpsMixin.argmax\u001b[0;34m(self, axis, skipna, *args, **kwargs)\u001b[0m\n\u001b[1;32m    653\u001b[0m         \u001b[38;5;28;01mreturn\u001b[39;00m delegate\u001b[38;5;241m.\u001b[39margmax()\n\u001b[1;32m    654\u001b[0m \u001b[38;5;28;01melse\u001b[39;00m:\n\u001b[1;32m    655\u001b[0m     \u001b[38;5;66;03m# error: Incompatible return value type (got \"Union[int, ndarray]\", expected\u001b[39;00m\n\u001b[1;32m    656\u001b[0m     \u001b[38;5;66;03m# \"int\")\u001b[39;00m\n\u001b[0;32m--> 657\u001b[0m     \u001b[38;5;28;01mreturn\u001b[39;00m \u001b[43mnanops\u001b[49m\u001b[38;5;241;43m.\u001b[39;49m\u001b[43mnanargmax\u001b[49m\u001b[43m(\u001b[49m\u001b[43m  \u001b[49m\u001b[38;5;66;43;03m# type: ignore[return-value]\u001b[39;49;00m\n\u001b[1;32m    658\u001b[0m \u001b[43m        \u001b[49m\u001b[43mdelegate\u001b[49m\u001b[43m,\u001b[49m\u001b[43m \u001b[49m\u001b[43mskipna\u001b[49m\u001b[38;5;241;43m=\u001b[39;49m\u001b[43mskipna\u001b[49m\n\u001b[1;32m    659\u001b[0m \u001b[43m    \u001b[49m\u001b[43m)\u001b[49m\n",
      "File \u001b[0;32m~/opt/anaconda3/lib/python3.9/site-packages/pandas/core/nanops.py:88\u001b[0m, in \u001b[0;36mdisallow.__call__.<locals>._f\u001b[0;34m(*args, **kwargs)\u001b[0m\n\u001b[1;32m     86\u001b[0m \u001b[38;5;28;01mif\u001b[39;00m \u001b[38;5;28many\u001b[39m(\u001b[38;5;28mself\u001b[39m\u001b[38;5;241m.\u001b[39mcheck(obj) \u001b[38;5;28;01mfor\u001b[39;00m obj \u001b[38;5;129;01min\u001b[39;00m obj_iter):\n\u001b[1;32m     87\u001b[0m     f_name \u001b[38;5;241m=\u001b[39m f\u001b[38;5;241m.\u001b[39m\u001b[38;5;18m__name__\u001b[39m\u001b[38;5;241m.\u001b[39mreplace(\u001b[38;5;124m\"\u001b[39m\u001b[38;5;124mnan\u001b[39m\u001b[38;5;124m\"\u001b[39m, \u001b[38;5;124m\"\u001b[39m\u001b[38;5;124m\"\u001b[39m)\n\u001b[0;32m---> 88\u001b[0m     \u001b[38;5;28;01mraise\u001b[39;00m \u001b[38;5;167;01mTypeError\u001b[39;00m(\n\u001b[1;32m     89\u001b[0m         \u001b[38;5;124mf\u001b[39m\u001b[38;5;124m\"\u001b[39m\u001b[38;5;124mreduction operation \u001b[39m\u001b[38;5;124m'\u001b[39m\u001b[38;5;132;01m{\u001b[39;00mf_name\u001b[38;5;132;01m}\u001b[39;00m\u001b[38;5;124m'\u001b[39m\u001b[38;5;124m not allowed for this dtype\u001b[39m\u001b[38;5;124m\"\u001b[39m\n\u001b[1;32m     90\u001b[0m     )\n\u001b[1;32m     91\u001b[0m \u001b[38;5;28;01mtry\u001b[39;00m:\n\u001b[1;32m     92\u001b[0m     \u001b[38;5;28;01mwith\u001b[39;00m np\u001b[38;5;241m.\u001b[39merrstate(invalid\u001b[38;5;241m=\u001b[39m\u001b[38;5;124m\"\u001b[39m\u001b[38;5;124mignore\u001b[39m\u001b[38;5;124m\"\u001b[39m):\n",
      "\u001b[0;31mTypeError\u001b[0m: reduction operation 'argmax' not allowed for this dtype"
     ]
    }
   ],
   "source": [
    "f1_frame = get_max_f1_frame(best_ebm_phat, y_name, 'phat')\n",
    "\n",
    "print(f1_frame)\n",
    "print()\n",
    "\n",
    "max_f1 = f1_frame['f1'].max()\n",
    "best_cut = f1_frame.loc[int(f1_frame['f1'].idxmax()), 'cut'] #idxmax() returns the index of the maximum value\n",
    "acc = f1_frame.loc[int(f1_frame['f1'].idxmax()), 'acc']\n",
    "\n",
    "print('Best EBM F1: %.4f achieved at cutoff: %.2f with accuracy: %.4f.' % (max_f1, best_cut, acc))"
   ]
  },
  {
   "cell_type": "code",
   "execution_count": 44,
   "id": "e8568c18",
   "metadata": {},
   "outputs": [
    {
     "name": "stderr",
     "output_type": "stream",
     "text": [
      "/var/folders/s_/psmzh19x55n79gg5ssgdy5p00000gn/T/ipykernel_5042/1002360894.py:42: FutureWarning: The frame.append method is deprecated and will be removed from pandas in a future version. Use pandas.concat instead.\n",
      "  f1_frame = f1_frame.append(row_dict, ignore_index=True)\n",
      "/var/folders/s_/psmzh19x55n79gg5ssgdy5p00000gn/T/ipykernel_5042/1002360894.py:42: FutureWarning: The frame.append method is deprecated and will be removed from pandas in a future version. Use pandas.concat instead.\n",
      "  f1_frame = f1_frame.append(row_dict, ignore_index=True)\n",
      "/var/folders/s_/psmzh19x55n79gg5ssgdy5p00000gn/T/ipykernel_5042/1002360894.py:42: FutureWarning: The frame.append method is deprecated and will be removed from pandas in a future version. Use pandas.concat instead.\n",
      "  f1_frame = f1_frame.append(row_dict, ignore_index=True)\n",
      "/var/folders/s_/psmzh19x55n79gg5ssgdy5p00000gn/T/ipykernel_5042/1002360894.py:42: FutureWarning: The frame.append method is deprecated and will be removed from pandas in a future version. Use pandas.concat instead.\n",
      "  f1_frame = f1_frame.append(row_dict, ignore_index=True)\n",
      "/var/folders/s_/psmzh19x55n79gg5ssgdy5p00000gn/T/ipykernel_5042/1002360894.py:42: FutureWarning: The frame.append method is deprecated and will be removed from pandas in a future version. Use pandas.concat instead.\n",
      "  f1_frame = f1_frame.append(row_dict, ignore_index=True)\n",
      "/var/folders/s_/psmzh19x55n79gg5ssgdy5p00000gn/T/ipykernel_5042/1002360894.py:42: FutureWarning: The frame.append method is deprecated and will be removed from pandas in a future version. Use pandas.concat instead.\n",
      "  f1_frame = f1_frame.append(row_dict, ignore_index=True)\n",
      "/var/folders/s_/psmzh19x55n79gg5ssgdy5p00000gn/T/ipykernel_5042/1002360894.py:42: FutureWarning: The frame.append method is deprecated and will be removed from pandas in a future version. Use pandas.concat instead.\n",
      "  f1_frame = f1_frame.append(row_dict, ignore_index=True)\n",
      "/var/folders/s_/psmzh19x55n79gg5ssgdy5p00000gn/T/ipykernel_5042/1002360894.py:42: FutureWarning: The frame.append method is deprecated and will be removed from pandas in a future version. Use pandas.concat instead.\n",
      "  f1_frame = f1_frame.append(row_dict, ignore_index=True)\n",
      "/var/folders/s_/psmzh19x55n79gg5ssgdy5p00000gn/T/ipykernel_5042/1002360894.py:42: FutureWarning: The frame.append method is deprecated and will be removed from pandas in a future version. Use pandas.concat instead.\n",
      "  f1_frame = f1_frame.append(row_dict, ignore_index=True)\n",
      "/var/folders/s_/psmzh19x55n79gg5ssgdy5p00000gn/T/ipykernel_5042/1002360894.py:42: FutureWarning: The frame.append method is deprecated and will be removed from pandas in a future version. Use pandas.concat instead.\n",
      "  f1_frame = f1_frame.append(row_dict, ignore_index=True)\n",
      "/var/folders/s_/psmzh19x55n79gg5ssgdy5p00000gn/T/ipykernel_5042/1002360894.py:42: FutureWarning: The frame.append method is deprecated and will be removed from pandas in a future version. Use pandas.concat instead.\n",
      "  f1_frame = f1_frame.append(row_dict, ignore_index=True)\n",
      "/var/folders/s_/psmzh19x55n79gg5ssgdy5p00000gn/T/ipykernel_5042/1002360894.py:42: FutureWarning: The frame.append method is deprecated and will be removed from pandas in a future version. Use pandas.concat instead.\n",
      "  f1_frame = f1_frame.append(row_dict, ignore_index=True)\n",
      "/var/folders/s_/psmzh19x55n79gg5ssgdy5p00000gn/T/ipykernel_5042/1002360894.py:42: FutureWarning: The frame.append method is deprecated and will be removed from pandas in a future version. Use pandas.concat instead.\n",
      "  f1_frame = f1_frame.append(row_dict, ignore_index=True)\n",
      "/var/folders/s_/psmzh19x55n79gg5ssgdy5p00000gn/T/ipykernel_5042/1002360894.py:42: FutureWarning: The frame.append method is deprecated and will be removed from pandas in a future version. Use pandas.concat instead.\n",
      "  f1_frame = f1_frame.append(row_dict, ignore_index=True)\n",
      "/var/folders/s_/psmzh19x55n79gg5ssgdy5p00000gn/T/ipykernel_5042/1002360894.py:42: FutureWarning: The frame.append method is deprecated and will be removed from pandas in a future version. Use pandas.concat instead.\n",
      "  f1_frame = f1_frame.append(row_dict, ignore_index=True)\n",
      "/var/folders/s_/psmzh19x55n79gg5ssgdy5p00000gn/T/ipykernel_5042/1002360894.py:42: FutureWarning: The frame.append method is deprecated and will be removed from pandas in a future version. Use pandas.concat instead.\n",
      "  f1_frame = f1_frame.append(row_dict, ignore_index=True)\n",
      "/var/folders/s_/psmzh19x55n79gg5ssgdy5p00000gn/T/ipykernel_5042/1002360894.py:42: FutureWarning: The frame.append method is deprecated and will be removed from pandas in a future version. Use pandas.concat instead.\n",
      "  f1_frame = f1_frame.append(row_dict, ignore_index=True)\n",
      "/var/folders/s_/psmzh19x55n79gg5ssgdy5p00000gn/T/ipykernel_5042/1002360894.py:42: FutureWarning: The frame.append method is deprecated and will be removed from pandas in a future version. Use pandas.concat instead.\n",
      "  f1_frame = f1_frame.append(row_dict, ignore_index=True)\n",
      "/var/folders/s_/psmzh19x55n79gg5ssgdy5p00000gn/T/ipykernel_5042/1002360894.py:42: FutureWarning: The frame.append method is deprecated and will be removed from pandas in a future version. Use pandas.concat instead.\n",
      "  f1_frame = f1_frame.append(row_dict, ignore_index=True)\n",
      "/var/folders/s_/psmzh19x55n79gg5ssgdy5p00000gn/T/ipykernel_5042/1002360894.py:42: FutureWarning: The frame.append method is deprecated and will be removed from pandas in a future version. Use pandas.concat instead.\n",
      "  f1_frame = f1_frame.append(row_dict, ignore_index=True)\n",
      "/var/folders/s_/psmzh19x55n79gg5ssgdy5p00000gn/T/ipykernel_5042/1002360894.py:42: FutureWarning: The frame.append method is deprecated and will be removed from pandas in a future version. Use pandas.concat instead.\n",
      "  f1_frame = f1_frame.append(row_dict, ignore_index=True)\n",
      "/var/folders/s_/psmzh19x55n79gg5ssgdy5p00000gn/T/ipykernel_5042/1002360894.py:42: FutureWarning: The frame.append method is deprecated and will be removed from pandas in a future version. Use pandas.concat instead.\n",
      "  f1_frame = f1_frame.append(row_dict, ignore_index=True)\n",
      "/var/folders/s_/psmzh19x55n79gg5ssgdy5p00000gn/T/ipykernel_5042/1002360894.py:42: FutureWarning: The frame.append method is deprecated and will be removed from pandas in a future version. Use pandas.concat instead.\n",
      "  f1_frame = f1_frame.append(row_dict, ignore_index=True)\n",
      "/var/folders/s_/psmzh19x55n79gg5ssgdy5p00000gn/T/ipykernel_5042/1002360894.py:42: FutureWarning: The frame.append method is deprecated and will be removed from pandas in a future version. Use pandas.concat instead.\n",
      "  f1_frame = f1_frame.append(row_dict, ignore_index=True)\n",
      "/var/folders/s_/psmzh19x55n79gg5ssgdy5p00000gn/T/ipykernel_5042/1002360894.py:42: FutureWarning: The frame.append method is deprecated and will be removed from pandas in a future version. Use pandas.concat instead.\n",
      "  f1_frame = f1_frame.append(row_dict, ignore_index=True)\n",
      "/var/folders/s_/psmzh19x55n79gg5ssgdy5p00000gn/T/ipykernel_5042/1002360894.py:42: FutureWarning: The frame.append method is deprecated and will be removed from pandas in a future version. Use pandas.concat instead.\n",
      "  f1_frame = f1_frame.append(row_dict, ignore_index=True)\n",
      "/var/folders/s_/psmzh19x55n79gg5ssgdy5p00000gn/T/ipykernel_5042/1002360894.py:42: FutureWarning: The frame.append method is deprecated and will be removed from pandas in a future version. Use pandas.concat instead.\n",
      "  f1_frame = f1_frame.append(row_dict, ignore_index=True)\n",
      "/var/folders/s_/psmzh19x55n79gg5ssgdy5p00000gn/T/ipykernel_5042/1002360894.py:42: FutureWarning: The frame.append method is deprecated and will be removed from pandas in a future version. Use pandas.concat instead.\n",
      "  f1_frame = f1_frame.append(row_dict, ignore_index=True)\n",
      "/var/folders/s_/psmzh19x55n79gg5ssgdy5p00000gn/T/ipykernel_5042/1002360894.py:42: FutureWarning: The frame.append method is deprecated and will be removed from pandas in a future version. Use pandas.concat instead.\n",
      "  f1_frame = f1_frame.append(row_dict, ignore_index=True)\n",
      "/var/folders/s_/psmzh19x55n79gg5ssgdy5p00000gn/T/ipykernel_5042/1002360894.py:42: FutureWarning: The frame.append method is deprecated and will be removed from pandas in a future version. Use pandas.concat instead.\n",
      "  f1_frame = f1_frame.append(row_dict, ignore_index=True)\n",
      "/var/folders/s_/psmzh19x55n79gg5ssgdy5p00000gn/T/ipykernel_5042/1002360894.py:42: FutureWarning: The frame.append method is deprecated and will be removed from pandas in a future version. Use pandas.concat instead.\n",
      "  f1_frame = f1_frame.append(row_dict, ignore_index=True)\n",
      "/var/folders/s_/psmzh19x55n79gg5ssgdy5p00000gn/T/ipykernel_5042/1002360894.py:42: FutureWarning: The frame.append method is deprecated and will be removed from pandas in a future version. Use pandas.concat instead.\n",
      "  f1_frame = f1_frame.append(row_dict, ignore_index=True)\n",
      "/var/folders/s_/psmzh19x55n79gg5ssgdy5p00000gn/T/ipykernel_5042/1002360894.py:42: FutureWarning: The frame.append method is deprecated and will be removed from pandas in a future version. Use pandas.concat instead.\n",
      "  f1_frame = f1_frame.append(row_dict, ignore_index=True)\n",
      "/var/folders/s_/psmzh19x55n79gg5ssgdy5p00000gn/T/ipykernel_5042/1002360894.py:42: FutureWarning: The frame.append method is deprecated and will be removed from pandas in a future version. Use pandas.concat instead.\n",
      "  f1_frame = f1_frame.append(row_dict, ignore_index=True)\n",
      "/var/folders/s_/psmzh19x55n79gg5ssgdy5p00000gn/T/ipykernel_5042/1002360894.py:42: FutureWarning: The frame.append method is deprecated and will be removed from pandas in a future version. Use pandas.concat instead.\n",
      "  f1_frame = f1_frame.append(row_dict, ignore_index=True)\n",
      "/var/folders/s_/psmzh19x55n79gg5ssgdy5p00000gn/T/ipykernel_5042/1002360894.py:42: FutureWarning: The frame.append method is deprecated and will be removed from pandas in a future version. Use pandas.concat instead.\n",
      "  f1_frame = f1_frame.append(row_dict, ignore_index=True)\n",
      "/var/folders/s_/psmzh19x55n79gg5ssgdy5p00000gn/T/ipykernel_5042/1002360894.py:42: FutureWarning: The frame.append method is deprecated and will be removed from pandas in a future version. Use pandas.concat instead.\n",
      "  f1_frame = f1_frame.append(row_dict, ignore_index=True)\n",
      "/var/folders/s_/psmzh19x55n79gg5ssgdy5p00000gn/T/ipykernel_5042/1002360894.py:42: FutureWarning: The frame.append method is deprecated and will be removed from pandas in a future version. Use pandas.concat instead.\n",
      "  f1_frame = f1_frame.append(row_dict, ignore_index=True)\n",
      "/var/folders/s_/psmzh19x55n79gg5ssgdy5p00000gn/T/ipykernel_5042/1002360894.py:42: FutureWarning: The frame.append method is deprecated and will be removed from pandas in a future version. Use pandas.concat instead.\n",
      "  f1_frame = f1_frame.append(row_dict, ignore_index=True)\n",
      "/var/folders/s_/psmzh19x55n79gg5ssgdy5p00000gn/T/ipykernel_5042/1002360894.py:42: FutureWarning: The frame.append method is deprecated and will be removed from pandas in a future version. Use pandas.concat instead.\n",
      "  f1_frame = f1_frame.append(row_dict, ignore_index=True)\n",
      "/var/folders/s_/psmzh19x55n79gg5ssgdy5p00000gn/T/ipykernel_5042/1002360894.py:42: FutureWarning: The frame.append method is deprecated and will be removed from pandas in a future version. Use pandas.concat instead.\n",
      "  f1_frame = f1_frame.append(row_dict, ignore_index=True)\n",
      "/var/folders/s_/psmzh19x55n79gg5ssgdy5p00000gn/T/ipykernel_5042/1002360894.py:42: FutureWarning: The frame.append method is deprecated and will be removed from pandas in a future version. Use pandas.concat instead.\n",
      "  f1_frame = f1_frame.append(row_dict, ignore_index=True)\n",
      "/var/folders/s_/psmzh19x55n79gg5ssgdy5p00000gn/T/ipykernel_5042/1002360894.py:42: FutureWarning: The frame.append method is deprecated and will be removed from pandas in a future version. Use pandas.concat instead.\n",
      "  f1_frame = f1_frame.append(row_dict, ignore_index=True)\n",
      "/var/folders/s_/psmzh19x55n79gg5ssgdy5p00000gn/T/ipykernel_5042/1002360894.py:42: FutureWarning: The frame.append method is deprecated and will be removed from pandas in a future version. Use pandas.concat instead.\n",
      "  f1_frame = f1_frame.append(row_dict, ignore_index=True)\n",
      "/var/folders/s_/psmzh19x55n79gg5ssgdy5p00000gn/T/ipykernel_5042/1002360894.py:42: FutureWarning: The frame.append method is deprecated and will be removed from pandas in a future version. Use pandas.concat instead.\n",
      "  f1_frame = f1_frame.append(row_dict, ignore_index=True)\n",
      "/var/folders/s_/psmzh19x55n79gg5ssgdy5p00000gn/T/ipykernel_5042/1002360894.py:42: FutureWarning: The frame.append method is deprecated and will be removed from pandas in a future version. Use pandas.concat instead.\n",
      "  f1_frame = f1_frame.append(row_dict, ignore_index=True)\n",
      "/var/folders/s_/psmzh19x55n79gg5ssgdy5p00000gn/T/ipykernel_5042/1002360894.py:42: FutureWarning: The frame.append method is deprecated and will be removed from pandas in a future version. Use pandas.concat instead.\n",
      "  f1_frame = f1_frame.append(row_dict, ignore_index=True)\n",
      "/var/folders/s_/psmzh19x55n79gg5ssgdy5p00000gn/T/ipykernel_5042/1002360894.py:42: FutureWarning: The frame.append method is deprecated and will be removed from pandas in a future version. Use pandas.concat instead.\n",
      "  f1_frame = f1_frame.append(row_dict, ignore_index=True)\n",
      "/var/folders/s_/psmzh19x55n79gg5ssgdy5p00000gn/T/ipykernel_5042/1002360894.py:42: FutureWarning: The frame.append method is deprecated and will be removed from pandas in a future version. Use pandas.concat instead.\n",
      "  f1_frame = f1_frame.append(row_dict, ignore_index=True)\n",
      "/var/folders/s_/psmzh19x55n79gg5ssgdy5p00000gn/T/ipykernel_5042/1002360894.py:42: FutureWarning: The frame.append method is deprecated and will be removed from pandas in a future version. Use pandas.concat instead.\n",
      "  f1_frame = f1_frame.append(row_dict, ignore_index=True)\n",
      "/var/folders/s_/psmzh19x55n79gg5ssgdy5p00000gn/T/ipykernel_5042/1002360894.py:42: FutureWarning: The frame.append method is deprecated and will be removed from pandas in a future version. Use pandas.concat instead.\n",
      "  f1_frame = f1_frame.append(row_dict, ignore_index=True)\n",
      "/var/folders/s_/psmzh19x55n79gg5ssgdy5p00000gn/T/ipykernel_5042/1002360894.py:42: FutureWarning: The frame.append method is deprecated and will be removed from pandas in a future version. Use pandas.concat instead.\n",
      "  f1_frame = f1_frame.append(row_dict, ignore_index=True)\n",
      "/var/folders/s_/psmzh19x55n79gg5ssgdy5p00000gn/T/ipykernel_5042/1002360894.py:42: FutureWarning: The frame.append method is deprecated and will be removed from pandas in a future version. Use pandas.concat instead.\n",
      "  f1_frame = f1_frame.append(row_dict, ignore_index=True)\n",
      "/var/folders/s_/psmzh19x55n79gg5ssgdy5p00000gn/T/ipykernel_5042/1002360894.py:42: FutureWarning: The frame.append method is deprecated and will be removed from pandas in a future version. Use pandas.concat instead.\n",
      "  f1_frame = f1_frame.append(row_dict, ignore_index=True)\n",
      "/var/folders/s_/psmzh19x55n79gg5ssgdy5p00000gn/T/ipykernel_5042/1002360894.py:42: FutureWarning: The frame.append method is deprecated and will be removed from pandas in a future version. Use pandas.concat instead.\n",
      "  f1_frame = f1_frame.append(row_dict, ignore_index=True)\n",
      "/var/folders/s_/psmzh19x55n79gg5ssgdy5p00000gn/T/ipykernel_5042/1002360894.py:42: FutureWarning: The frame.append method is deprecated and will be removed from pandas in a future version. Use pandas.concat instead.\n",
      "  f1_frame = f1_frame.append(row_dict, ignore_index=True)\n",
      "/var/folders/s_/psmzh19x55n79gg5ssgdy5p00000gn/T/ipykernel_5042/1002360894.py:42: FutureWarning: The frame.append method is deprecated and will be removed from pandas in a future version. Use pandas.concat instead.\n",
      "  f1_frame = f1_frame.append(row_dict, ignore_index=True)\n",
      "/var/folders/s_/psmzh19x55n79gg5ssgdy5p00000gn/T/ipykernel_5042/1002360894.py:42: FutureWarning: The frame.append method is deprecated and will be removed from pandas in a future version. Use pandas.concat instead.\n",
      "  f1_frame = f1_frame.append(row_dict, ignore_index=True)\n",
      "/var/folders/s_/psmzh19x55n79gg5ssgdy5p00000gn/T/ipykernel_5042/1002360894.py:42: FutureWarning: The frame.append method is deprecated and will be removed from pandas in a future version. Use pandas.concat instead.\n",
      "  f1_frame = f1_frame.append(row_dict, ignore_index=True)\n",
      "/var/folders/s_/psmzh19x55n79gg5ssgdy5p00000gn/T/ipykernel_5042/1002360894.py:42: FutureWarning: The frame.append method is deprecated and will be removed from pandas in a future version. Use pandas.concat instead.\n",
      "  f1_frame = f1_frame.append(row_dict, ignore_index=True)\n",
      "/var/folders/s_/psmzh19x55n79gg5ssgdy5p00000gn/T/ipykernel_5042/1002360894.py:42: FutureWarning: The frame.append method is deprecated and will be removed from pandas in a future version. Use pandas.concat instead.\n",
      "  f1_frame = f1_frame.append(row_dict, ignore_index=True)\n",
      "/var/folders/s_/psmzh19x55n79gg5ssgdy5p00000gn/T/ipykernel_5042/1002360894.py:42: FutureWarning: The frame.append method is deprecated and will be removed from pandas in a future version. Use pandas.concat instead.\n",
      "  f1_frame = f1_frame.append(row_dict, ignore_index=True)\n",
      "/var/folders/s_/psmzh19x55n79gg5ssgdy5p00000gn/T/ipykernel_5042/1002360894.py:42: FutureWarning: The frame.append method is deprecated and will be removed from pandas in a future version. Use pandas.concat instead.\n",
      "  f1_frame = f1_frame.append(row_dict, ignore_index=True)\n",
      "/var/folders/s_/psmzh19x55n79gg5ssgdy5p00000gn/T/ipykernel_5042/1002360894.py:42: FutureWarning: The frame.append method is deprecated and will be removed from pandas in a future version. Use pandas.concat instead.\n",
      "  f1_frame = f1_frame.append(row_dict, ignore_index=True)\n",
      "/var/folders/s_/psmzh19x55n79gg5ssgdy5p00000gn/T/ipykernel_5042/1002360894.py:42: FutureWarning: The frame.append method is deprecated and will be removed from pandas in a future version. Use pandas.concat instead.\n",
      "  f1_frame = f1_frame.append(row_dict, ignore_index=True)\n",
      "/var/folders/s_/psmzh19x55n79gg5ssgdy5p00000gn/T/ipykernel_5042/1002360894.py:42: FutureWarning: The frame.append method is deprecated and will be removed from pandas in a future version. Use pandas.concat instead.\n",
      "  f1_frame = f1_frame.append(row_dict, ignore_index=True)\n",
      "/var/folders/s_/psmzh19x55n79gg5ssgdy5p00000gn/T/ipykernel_5042/1002360894.py:42: FutureWarning: The frame.append method is deprecated and will be removed from pandas in a future version. Use pandas.concat instead.\n",
      "  f1_frame = f1_frame.append(row_dict, ignore_index=True)\n",
      "/var/folders/s_/psmzh19x55n79gg5ssgdy5p00000gn/T/ipykernel_5042/1002360894.py:42: FutureWarning: The frame.append method is deprecated and will be removed from pandas in a future version. Use pandas.concat instead.\n",
      "  f1_frame = f1_frame.append(row_dict, ignore_index=True)\n",
      "/var/folders/s_/psmzh19x55n79gg5ssgdy5p00000gn/T/ipykernel_5042/1002360894.py:42: FutureWarning: The frame.append method is deprecated and will be removed from pandas in a future version. Use pandas.concat instead.\n",
      "  f1_frame = f1_frame.append(row_dict, ignore_index=True)\n",
      "/var/folders/s_/psmzh19x55n79gg5ssgdy5p00000gn/T/ipykernel_5042/1002360894.py:42: FutureWarning: The frame.append method is deprecated and will be removed from pandas in a future version. Use pandas.concat instead.\n",
      "  f1_frame = f1_frame.append(row_dict, ignore_index=True)\n",
      "/var/folders/s_/psmzh19x55n79gg5ssgdy5p00000gn/T/ipykernel_5042/1002360894.py:42: FutureWarning: The frame.append method is deprecated and will be removed from pandas in a future version. Use pandas.concat instead.\n",
      "  f1_frame = f1_frame.append(row_dict, ignore_index=True)\n",
      "/var/folders/s_/psmzh19x55n79gg5ssgdy5p00000gn/T/ipykernel_5042/1002360894.py:42: FutureWarning: The frame.append method is deprecated and will be removed from pandas in a future version. Use pandas.concat instead.\n",
      "  f1_frame = f1_frame.append(row_dict, ignore_index=True)\n",
      "/var/folders/s_/psmzh19x55n79gg5ssgdy5p00000gn/T/ipykernel_5042/1002360894.py:42: FutureWarning: The frame.append method is deprecated and will be removed from pandas in a future version. Use pandas.concat instead.\n",
      "  f1_frame = f1_frame.append(row_dict, ignore_index=True)\n",
      "/var/folders/s_/psmzh19x55n79gg5ssgdy5p00000gn/T/ipykernel_5042/1002360894.py:42: FutureWarning: The frame.append method is deprecated and will be removed from pandas in a future version. Use pandas.concat instead.\n",
      "  f1_frame = f1_frame.append(row_dict, ignore_index=True)\n",
      "/var/folders/s_/psmzh19x55n79gg5ssgdy5p00000gn/T/ipykernel_5042/1002360894.py:42: FutureWarning: The frame.append method is deprecated and will be removed from pandas in a future version. Use pandas.concat instead.\n",
      "  f1_frame = f1_frame.append(row_dict, ignore_index=True)\n",
      "/var/folders/s_/psmzh19x55n79gg5ssgdy5p00000gn/T/ipykernel_5042/1002360894.py:42: FutureWarning: The frame.append method is deprecated and will be removed from pandas in a future version. Use pandas.concat instead.\n",
      "  f1_frame = f1_frame.append(row_dict, ignore_index=True)\n",
      "/var/folders/s_/psmzh19x55n79gg5ssgdy5p00000gn/T/ipykernel_5042/1002360894.py:42: FutureWarning: The frame.append method is deprecated and will be removed from pandas in a future version. Use pandas.concat instead.\n",
      "  f1_frame = f1_frame.append(row_dict, ignore_index=True)\n",
      "/var/folders/s_/psmzh19x55n79gg5ssgdy5p00000gn/T/ipykernel_5042/1002360894.py:42: FutureWarning: The frame.append method is deprecated and will be removed from pandas in a future version. Use pandas.concat instead.\n",
      "  f1_frame = f1_frame.append(row_dict, ignore_index=True)\n",
      "/var/folders/s_/psmzh19x55n79gg5ssgdy5p00000gn/T/ipykernel_5042/1002360894.py:42: FutureWarning: The frame.append method is deprecated and will be removed from pandas in a future version. Use pandas.concat instead.\n",
      "  f1_frame = f1_frame.append(row_dict, ignore_index=True)\n",
      "/var/folders/s_/psmzh19x55n79gg5ssgdy5p00000gn/T/ipykernel_5042/1002360894.py:42: FutureWarning: The frame.append method is deprecated and will be removed from pandas in a future version. Use pandas.concat instead.\n",
      "  f1_frame = f1_frame.append(row_dict, ignore_index=True)\n",
      "/var/folders/s_/psmzh19x55n79gg5ssgdy5p00000gn/T/ipykernel_5042/1002360894.py:42: FutureWarning: The frame.append method is deprecated and will be removed from pandas in a future version. Use pandas.concat instead.\n",
      "  f1_frame = f1_frame.append(row_dict, ignore_index=True)\n",
      "/var/folders/s_/psmzh19x55n79gg5ssgdy5p00000gn/T/ipykernel_5042/1002360894.py:42: FutureWarning: The frame.append method is deprecated and will be removed from pandas in a future version. Use pandas.concat instead.\n",
      "  f1_frame = f1_frame.append(row_dict, ignore_index=True)\n",
      "/var/folders/s_/psmzh19x55n79gg5ssgdy5p00000gn/T/ipykernel_5042/1002360894.py:42: FutureWarning: The frame.append method is deprecated and will be removed from pandas in a future version. Use pandas.concat instead.\n",
      "  f1_frame = f1_frame.append(row_dict, ignore_index=True)\n",
      "/var/folders/s_/psmzh19x55n79gg5ssgdy5p00000gn/T/ipykernel_5042/1002360894.py:42: FutureWarning: The frame.append method is deprecated and will be removed from pandas in a future version. Use pandas.concat instead.\n",
      "  f1_frame = f1_frame.append(row_dict, ignore_index=True)\n",
      "/var/folders/s_/psmzh19x55n79gg5ssgdy5p00000gn/T/ipykernel_5042/1002360894.py:42: FutureWarning: The frame.append method is deprecated and will be removed from pandas in a future version. Use pandas.concat instead.\n",
      "  f1_frame = f1_frame.append(row_dict, ignore_index=True)\n",
      "/var/folders/s_/psmzh19x55n79gg5ssgdy5p00000gn/T/ipykernel_5042/1002360894.py:42: FutureWarning: The frame.append method is deprecated and will be removed from pandas in a future version. Use pandas.concat instead.\n",
      "  f1_frame = f1_frame.append(row_dict, ignore_index=True)\n",
      "/var/folders/s_/psmzh19x55n79gg5ssgdy5p00000gn/T/ipykernel_5042/1002360894.py:42: FutureWarning: The frame.append method is deprecated and will be removed from pandas in a future version. Use pandas.concat instead.\n",
      "  f1_frame = f1_frame.append(row_dict, ignore_index=True)\n",
      "/var/folders/s_/psmzh19x55n79gg5ssgdy5p00000gn/T/ipykernel_5042/1002360894.py:42: FutureWarning: The frame.append method is deprecated and will be removed from pandas in a future version. Use pandas.concat instead.\n",
      "  f1_frame = f1_frame.append(row_dict, ignore_index=True)\n",
      "/var/folders/s_/psmzh19x55n79gg5ssgdy5p00000gn/T/ipykernel_5042/1002360894.py:42: FutureWarning: The frame.append method is deprecated and will be removed from pandas in a future version. Use pandas.concat instead.\n",
      "  f1_frame = f1_frame.append(row_dict, ignore_index=True)\n",
      "/var/folders/s_/psmzh19x55n79gg5ssgdy5p00000gn/T/ipykernel_5042/1002360894.py:42: FutureWarning: The frame.append method is deprecated and will be removed from pandas in a future version. Use pandas.concat instead.\n",
      "  f1_frame = f1_frame.append(row_dict, ignore_index=True)\n",
      "/var/folders/s_/psmzh19x55n79gg5ssgdy5p00000gn/T/ipykernel_5042/1002360894.py:42: FutureWarning: The frame.append method is deprecated and will be removed from pandas in a future version. Use pandas.concat instead.\n",
      "  f1_frame = f1_frame.append(row_dict, ignore_index=True)\n",
      "/var/folders/s_/psmzh19x55n79gg5ssgdy5p00000gn/T/ipykernel_5042/1002360894.py:42: FutureWarning: The frame.append method is deprecated and will be removed from pandas in a future version. Use pandas.concat instead.\n",
      "  f1_frame = f1_frame.append(row_dict, ignore_index=True)\n"
     ]
    },
    {
     "name": "stdout",
     "output_type": "stream",
     "text": [
      "      cut        f1       acc\n",
      "0     0.0   0.17386  0.095206\n",
      "1    0.01  0.233938  0.384777\n",
      "2    0.02  0.262541  0.479048\n",
      "3    0.03  0.280733  0.530685\n",
      "4    0.04  0.295953  0.569783\n",
      "..    ...       ...       ...\n",
      "96   0.96       0.0  0.904794\n",
      "97   0.97       0.0  0.904794\n",
      "98   0.98       0.0  0.904794\n",
      "99   0.99       0.0  0.904794\n",
      "100   1.0       0.0  0.904794\n",
      "\n",
      "[101 rows x 3 columns]\n",
      "\n",
      "Best EBM F1: 0.3666 achieved at cutoff: 0.18 with accuracy: 0.7927.\n"
     ]
    },
    {
     "name": "stderr",
     "output_type": "stream",
     "text": [
      "/var/folders/s_/psmzh19x55n79gg5ssgdy5p00000gn/T/ipykernel_5042/1002360894.py:42: FutureWarning: The frame.append method is deprecated and will be removed from pandas in a future version. Use pandas.concat instead.\n",
      "  f1_frame = f1_frame.append(row_dict, ignore_index=True)\n",
      "/var/folders/s_/psmzh19x55n79gg5ssgdy5p00000gn/T/ipykernel_5042/1002360894.py:42: FutureWarning: The frame.append method is deprecated and will be removed from pandas in a future version. Use pandas.concat instead.\n",
      "  f1_frame = f1_frame.append(row_dict, ignore_index=True)\n",
      "/var/folders/s_/psmzh19x55n79gg5ssgdy5p00000gn/T/ipykernel_5042/1002360894.py:42: FutureWarning: The frame.append method is deprecated and will be removed from pandas in a future version. Use pandas.concat instead.\n",
      "  f1_frame = f1_frame.append(row_dict, ignore_index=True)\n",
      "/var/folders/s_/psmzh19x55n79gg5ssgdy5p00000gn/T/ipykernel_5042/1002360894.py:42: FutureWarning: The frame.append method is deprecated and will be removed from pandas in a future version. Use pandas.concat instead.\n",
      "  f1_frame = f1_frame.append(row_dict, ignore_index=True)\n",
      "/var/folders/s_/psmzh19x55n79gg5ssgdy5p00000gn/T/ipykernel_5042/1002360894.py:42: FutureWarning: The frame.append method is deprecated and will be removed from pandas in a future version. Use pandas.concat instead.\n",
      "  f1_frame = f1_frame.append(row_dict, ignore_index=True)\n",
      "/var/folders/s_/psmzh19x55n79gg5ssgdy5p00000gn/T/ipykernel_5042/1002360894.py:42: FutureWarning: The frame.append method is deprecated and will be removed from pandas in a future version. Use pandas.concat instead.\n",
      "  f1_frame = f1_frame.append(row_dict, ignore_index=True)\n",
      "/var/folders/s_/psmzh19x55n79gg5ssgdy5p00000gn/T/ipykernel_5042/1002360894.py:42: FutureWarning: The frame.append method is deprecated and will be removed from pandas in a future version. Use pandas.concat instead.\n",
      "  f1_frame = f1_frame.append(row_dict, ignore_index=True)\n",
      "/var/folders/s_/psmzh19x55n79gg5ssgdy5p00000gn/T/ipykernel_5042/1002360894.py:42: FutureWarning: The frame.append method is deprecated and will be removed from pandas in a future version. Use pandas.concat instead.\n",
      "  f1_frame = f1_frame.append(row_dict, ignore_index=True)\n",
      "/var/folders/s_/psmzh19x55n79gg5ssgdy5p00000gn/T/ipykernel_5042/1002360894.py:42: FutureWarning: The frame.append method is deprecated and will be removed from pandas in a future version. Use pandas.concat instead.\n",
      "  f1_frame = f1_frame.append(row_dict, ignore_index=True)\n"
     ]
    }
   ],
   "source": [
    "f1_frame = get_max_f1_frame(best_ebm_phat, y_name, 'phat')\n",
    "\n",
    "print(f1_frame)\n",
    "print()\n",
    "\n",
    "f1_frame['f1'] = f1_frame['f1'].astype(float)  # Convert 'f1' column to a numeric type\n",
    "\n",
    "max_f1 = f1_frame['f1'].max()\n",
    "best_cut = f1_frame.loc[int(f1_frame['f1'].idxmax()), 'cut']\n",
    "acc = f1_frame.loc[int(f1_frame['f1'].idxmax()), 'acc']\n",
    "\n",
    "print('Best EBM F1: %.4f achieved at cutoff: %.2f with accuracy: %.4f.' % (max_f1, best_cut, acc))\n"
   ]
  },
  {
   "cell_type": "markdown",
   "id": "0192c6c8",
   "metadata": {},
   "source": [
    "#### Find confusion matrices for demographic groups"
   ]
  },
  {
   "cell_type": "code",
   "execution_count": 45,
   "id": "6904004b",
   "metadata": {},
   "outputs": [
    {
     "name": "stdout",
     "output_type": "stream",
     "text": [
      "Confusion matrix by black=1\n",
      "             actual: 1 actual: 0\n",
      "predicted: 1       470       911\n",
      "predicted: 0       194      1617\n",
      "\n",
      "Confusion matrix by asian=1\n",
      "             actual: 1 actual: 0\n",
      "predicted: 1        95       176\n",
      "predicted: 0        53      2926\n",
      "\n",
      "Confusion matrix by white=1\n",
      "             actual: 1 actual: 0\n",
      "predicted: 1      1965      6117\n",
      "predicted: 0      1200     25243\n",
      "\n",
      "Confusion matrix by male=1\n",
      "             actual: 1 actual: 0\n",
      "predicted: 1      1036      3122\n",
      "predicted: 0       628     11046\n",
      "\n",
      "Confusion matrix by female=1\n",
      "             actual: 1 actual: 0\n",
      "predicted: 1       847      2175\n",
      "predicted: 0       393      6617\n",
      "\n"
     ]
    }
   ],
   "source": [
    "demographic_group_names = ['black', 'asian', 'white', 'male', 'female']\n",
    "cm_dict = {}\n",
    "\n",
    "for name in demographic_group_names:\n",
    "    cm_dict[name] = get_confusion_matrix(best_ebm_phat, y_name, 'phat', by=name, level=1, cutoff=best_cut)\n",
    "    print(cm_dict[name])\n",
    "    print()"
   ]
  },
  {
   "cell_type": "markdown",
   "id": "3f91812b",
   "metadata": {},
   "source": [
    "#### Find AIR for Asian people"
   ]
  },
  {
   "cell_type": "code",
   "execution_count": 46,
   "id": "e7819e3e",
   "metadata": {},
   "outputs": [
    {
     "name": "stdout",
     "output_type": "stream",
     "text": [
      "White proportion accepted: 0.766\n",
      "Asian proportion accepted: 0.917\n",
      "Adverse impact ratio for Asian people vs. White people: 1.197\n"
     ]
    }
   ],
   "source": [
    "print('Adverse impact ratio for Asian people vs. White people: %.3f' % air(cm_dict, 'white', 'asian'))"
   ]
  },
  {
   "cell_type": "markdown",
   "id": "d487eeed",
   "metadata": {},
   "source": [
    "#### Find AIR for Black people"
   ]
  },
  {
   "cell_type": "code",
   "execution_count": 47,
   "id": "fdf9add7",
   "metadata": {},
   "outputs": [
    {
     "name": "stdout",
     "output_type": "stream",
     "text": [
      "White proportion accepted: 0.766\n",
      "Black proportion accepted: 0.567\n",
      "Adverse impact ratio for Black people vs. White people: 0.741\n"
     ]
    }
   ],
   "source": [
    "print('Adverse impact ratio for Black people vs. White people: %.3f' % air(cm_dict, 'white', 'black'))"
   ]
  },
  {
   "cell_type": "markdown",
   "id": "bdf97b07",
   "metadata": {},
   "source": [
    "#### Find AIR for Females"
   ]
  },
  {
   "cell_type": "code",
   "execution_count": 48,
   "id": "1b282195",
   "metadata": {},
   "outputs": [
    {
     "name": "stdout",
     "output_type": "stream",
     "text": [
      "Male proportion accepted: 0.737\n",
      "Female proportion accepted: 0.699\n",
      "Adverse impact ratio for Females vs. Males: 0.948\n"
     ]
    }
   ],
   "source": [
    "print('Adverse impact ratio for Females vs. Males: %.3f' % air(cm_dict, 'male', 'female'))"
   ]
  },
  {
   "cell_type": "code",
   "execution_count": 4,
   "id": "560661f6",
   "metadata": {},
   "outputs": [
    {
     "data": {
      "image/png": "[encoded data removed]",
      "text/plain": [
       "<Figure size 720x432 with 1 Axes>"
      ]
     },
     "metadata": {
      "needs_background": "light"
     },
     "output_type": "display_data"
    }
   ],
   "source": [
    "import matplotlib.pyplot as plt\n",
    "\n",
    "# Adverse impact ratios\n",
    "ratios = [1.197, 0.741, 0.948]\n",
    "groups = ['Asian vs. White', 'Black vs. White', 'Females vs. Males']\n",
    "\n",
    "# Define light colors\n",
    "colors = ['blue', 'orange', 'green']\n",
    "\n",
    "\n",
    "\n",
    "\n",
    "\n",
    "# Plot bar chart\n",
    "plt.figure(figsize=(10, 6))\n",
    "plt.bar(groups, ratios, color=colors)\n",
    "plt.xlabel('Demographic Groups')\n",
    "plt.ylabel('Adverse Impact Ratio')\n",
    "plt.title('Adverse Impact Ratios for Different Groups')\n",
    "\n",
    "# Display the values on top of each bar\n",
    "for i, ratio in enumerate(ratios):\n",
    "    plt.text(i, ratio, f'{ratio:.3f}', ha='center', va='bottom')\n",
    "\n",
    "plt.show()"
   ]
  },
  {
   "cell_type": "markdown",
   "id": "52545aa7",
   "metadata": {},
   "source": [
    "#### Attempt remediation of discovered discrimination"
   ]
  },
  {
   "cell_type": "markdown",
   "id": "624c187d",
   "metadata": {},
   "source": [
    "#### Simplest remediation: Find cutoff with better Black vs. White AIR"
   ]
  },
  {
   "cell_type": "code",
   "execution_count": 49,
   "id": "63b58472",
   "metadata": {},
   "outputs": [
    {
     "name": "stderr",
     "output_type": "stream",
     "text": [
      "/var/folders/s_/psmzh19x55n79gg5ssgdy5p00000gn/T/ipykernel_5042/1002360894.py:42: FutureWarning: The frame.append method is deprecated and will be removed from pandas in a future version. Use pandas.concat instead.\n",
      "  f1_frame = f1_frame.append(row_dict, ignore_index=True)\n",
      "/var/folders/s_/psmzh19x55n79gg5ssgdy5p00000gn/T/ipykernel_5042/1002360894.py:42: FutureWarning: The frame.append method is deprecated and will be removed from pandas in a future version. Use pandas.concat instead.\n",
      "  f1_frame = f1_frame.append(row_dict, ignore_index=True)\n",
      "/var/folders/s_/psmzh19x55n79gg5ssgdy5p00000gn/T/ipykernel_5042/1002360894.py:42: FutureWarning: The frame.append method is deprecated and will be removed from pandas in a future version. Use pandas.concat instead.\n",
      "  f1_frame = f1_frame.append(row_dict, ignore_index=True)\n",
      "/var/folders/s_/psmzh19x55n79gg5ssgdy5p00000gn/T/ipykernel_5042/1002360894.py:42: FutureWarning: The frame.append method is deprecated and will be removed from pandas in a future version. Use pandas.concat instead.\n",
      "  f1_frame = f1_frame.append(row_dict, ignore_index=True)\n",
      "/var/folders/s_/psmzh19x55n79gg5ssgdy5p00000gn/T/ipykernel_5042/1002360894.py:42: FutureWarning: The frame.append method is deprecated and will be removed from pandas in a future version. Use pandas.concat instead.\n",
      "  f1_frame = f1_frame.append(row_dict, ignore_index=True)\n",
      "/var/folders/s_/psmzh19x55n79gg5ssgdy5p00000gn/T/ipykernel_5042/1002360894.py:42: FutureWarning: The frame.append method is deprecated and will be removed from pandas in a future version. Use pandas.concat instead.\n",
      "  f1_frame = f1_frame.append(row_dict, ignore_index=True)\n",
      "/var/folders/s_/psmzh19x55n79gg5ssgdy5p00000gn/T/ipykernel_5042/1002360894.py:42: FutureWarning: The frame.append method is deprecated and will be removed from pandas in a future version. Use pandas.concat instead.\n",
      "  f1_frame = f1_frame.append(row_dict, ignore_index=True)\n",
      "/var/folders/s_/psmzh19x55n79gg5ssgdy5p00000gn/T/ipykernel_5042/1002360894.py:42: FutureWarning: The frame.append method is deprecated and will be removed from pandas in a future version. Use pandas.concat instead.\n",
      "  f1_frame = f1_frame.append(row_dict, ignore_index=True)\n",
      "/var/folders/s_/psmzh19x55n79gg5ssgdy5p00000gn/T/ipykernel_5042/1002360894.py:42: FutureWarning: The frame.append method is deprecated and will be removed from pandas in a future version. Use pandas.concat instead.\n",
      "  f1_frame = f1_frame.append(row_dict, ignore_index=True)\n",
      "/var/folders/s_/psmzh19x55n79gg5ssgdy5p00000gn/T/ipykernel_5042/1002360894.py:42: FutureWarning: The frame.append method is deprecated and will be removed from pandas in a future version. Use pandas.concat instead.\n",
      "  f1_frame = f1_frame.append(row_dict, ignore_index=True)\n",
      "/var/folders/s_/psmzh19x55n79gg5ssgdy5p00000gn/T/ipykernel_5042/1002360894.py:42: FutureWarning: The frame.append method is deprecated and will be removed from pandas in a future version. Use pandas.concat instead.\n",
      "  f1_frame = f1_frame.append(row_dict, ignore_index=True)\n",
      "/var/folders/s_/psmzh19x55n79gg5ssgdy5p00000gn/T/ipykernel_5042/1002360894.py:42: FutureWarning: The frame.append method is deprecated and will be removed from pandas in a future version. Use pandas.concat instead.\n",
      "  f1_frame = f1_frame.append(row_dict, ignore_index=True)\n",
      "/var/folders/s_/psmzh19x55n79gg5ssgdy5p00000gn/T/ipykernel_5042/1002360894.py:42: FutureWarning: The frame.append method is deprecated and will be removed from pandas in a future version. Use pandas.concat instead.\n",
      "  f1_frame = f1_frame.append(row_dict, ignore_index=True)\n",
      "/var/folders/s_/psmzh19x55n79gg5ssgdy5p00000gn/T/ipykernel_5042/1002360894.py:42: FutureWarning: The frame.append method is deprecated and will be removed from pandas in a future version. Use pandas.concat instead.\n",
      "  f1_frame = f1_frame.append(row_dict, ignore_index=True)\n",
      "/var/folders/s_/psmzh19x55n79gg5ssgdy5p00000gn/T/ipykernel_5042/1002360894.py:42: FutureWarning: The frame.append method is deprecated and will be removed from pandas in a future version. Use pandas.concat instead.\n",
      "  f1_frame = f1_frame.append(row_dict, ignore_index=True)\n",
      "/var/folders/s_/psmzh19x55n79gg5ssgdy5p00000gn/T/ipykernel_5042/1002360894.py:42: FutureWarning: The frame.append method is deprecated and will be removed from pandas in a future version. Use pandas.concat instead.\n",
      "  f1_frame = f1_frame.append(row_dict, ignore_index=True)\n",
      "/var/folders/s_/psmzh19x55n79gg5ssgdy5p00000gn/T/ipykernel_5042/1002360894.py:42: FutureWarning: The frame.append method is deprecated and will be removed from pandas in a future version. Use pandas.concat instead.\n",
      "  f1_frame = f1_frame.append(row_dict, ignore_index=True)\n",
      "/var/folders/s_/psmzh19x55n79gg5ssgdy5p00000gn/T/ipykernel_5042/1002360894.py:42: FutureWarning: The frame.append method is deprecated and will be removed from pandas in a future version. Use pandas.concat instead.\n",
      "  f1_frame = f1_frame.append(row_dict, ignore_index=True)\n",
      "/var/folders/s_/psmzh19x55n79gg5ssgdy5p00000gn/T/ipykernel_5042/1002360894.py:42: FutureWarning: The frame.append method is deprecated and will be removed from pandas in a future version. Use pandas.concat instead.\n",
      "  f1_frame = f1_frame.append(row_dict, ignore_index=True)\n",
      "/var/folders/s_/psmzh19x55n79gg5ssgdy5p00000gn/T/ipykernel_5042/1002360894.py:42: FutureWarning: The frame.append method is deprecated and will be removed from pandas in a future version. Use pandas.concat instead.\n",
      "  f1_frame = f1_frame.append(row_dict, ignore_index=True)\n",
      "/var/folders/s_/psmzh19x55n79gg5ssgdy5p00000gn/T/ipykernel_5042/1002360894.py:42: FutureWarning: The frame.append method is deprecated and will be removed from pandas in a future version. Use pandas.concat instead.\n",
      "  f1_frame = f1_frame.append(row_dict, ignore_index=True)\n",
      "/var/folders/s_/psmzh19x55n79gg5ssgdy5p00000gn/T/ipykernel_5042/1002360894.py:42: FutureWarning: The frame.append method is deprecated and will be removed from pandas in a future version. Use pandas.concat instead.\n",
      "  f1_frame = f1_frame.append(row_dict, ignore_index=True)\n",
      "/var/folders/s_/psmzh19x55n79gg5ssgdy5p00000gn/T/ipykernel_5042/1002360894.py:42: FutureWarning: The frame.append method is deprecated and will be removed from pandas in a future version. Use pandas.concat instead.\n",
      "  f1_frame = f1_frame.append(row_dict, ignore_index=True)\n",
      "/var/folders/s_/psmzh19x55n79gg5ssgdy5p00000gn/T/ipykernel_5042/1002360894.py:42: FutureWarning: The frame.append method is deprecated and will be removed from pandas in a future version. Use pandas.concat instead.\n",
      "  f1_frame = f1_frame.append(row_dict, ignore_index=True)\n",
      "/var/folders/s_/psmzh19x55n79gg5ssgdy5p00000gn/T/ipykernel_5042/1002360894.py:42: FutureWarning: The frame.append method is deprecated and will be removed from pandas in a future version. Use pandas.concat instead.\n",
      "  f1_frame = f1_frame.append(row_dict, ignore_index=True)\n",
      "/var/folders/s_/psmzh19x55n79gg5ssgdy5p00000gn/T/ipykernel_5042/1002360894.py:42: FutureWarning: The frame.append method is deprecated and will be removed from pandas in a future version. Use pandas.concat instead.\n",
      "  f1_frame = f1_frame.append(row_dict, ignore_index=True)\n",
      "/var/folders/s_/psmzh19x55n79gg5ssgdy5p00000gn/T/ipykernel_5042/1002360894.py:42: FutureWarning: The frame.append method is deprecated and will be removed from pandas in a future version. Use pandas.concat instead.\n",
      "  f1_frame = f1_frame.append(row_dict, ignore_index=True)\n",
      "/var/folders/s_/psmzh19x55n79gg5ssgdy5p00000gn/T/ipykernel_5042/1002360894.py:42: FutureWarning: The frame.append method is deprecated and will be removed from pandas in a future version. Use pandas.concat instead.\n",
      "  f1_frame = f1_frame.append(row_dict, ignore_index=True)\n",
      "/var/folders/s_/psmzh19x55n79gg5ssgdy5p00000gn/T/ipykernel_5042/1002360894.py:42: FutureWarning: The frame.append method is deprecated and will be removed from pandas in a future version. Use pandas.concat instead.\n",
      "  f1_frame = f1_frame.append(row_dict, ignore_index=True)\n",
      "/var/folders/s_/psmzh19x55n79gg5ssgdy5p00000gn/T/ipykernel_5042/1002360894.py:42: FutureWarning: The frame.append method is deprecated and will be removed from pandas in a future version. Use pandas.concat instead.\n",
      "  f1_frame = f1_frame.append(row_dict, ignore_index=True)\n",
      "/var/folders/s_/psmzh19x55n79gg5ssgdy5p00000gn/T/ipykernel_5042/1002360894.py:42: FutureWarning: The frame.append method is deprecated and will be removed from pandas in a future version. Use pandas.concat instead.\n",
      "  f1_frame = f1_frame.append(row_dict, ignore_index=True)\n",
      "/var/folders/s_/psmzh19x55n79gg5ssgdy5p00000gn/T/ipykernel_5042/1002360894.py:42: FutureWarning: The frame.append method is deprecated and will be removed from pandas in a future version. Use pandas.concat instead.\n",
      "  f1_frame = f1_frame.append(row_dict, ignore_index=True)\n",
      "/var/folders/s_/psmzh19x55n79gg5ssgdy5p00000gn/T/ipykernel_5042/1002360894.py:42: FutureWarning: The frame.append method is deprecated and will be removed from pandas in a future version. Use pandas.concat instead.\n",
      "  f1_frame = f1_frame.append(row_dict, ignore_index=True)\n",
      "/var/folders/s_/psmzh19x55n79gg5ssgdy5p00000gn/T/ipykernel_5042/1002360894.py:42: FutureWarning: The frame.append method is deprecated and will be removed from pandas in a future version. Use pandas.concat instead.\n",
      "  f1_frame = f1_frame.append(row_dict, ignore_index=True)\n",
      "/var/folders/s_/psmzh19x55n79gg5ssgdy5p00000gn/T/ipykernel_5042/1002360894.py:42: FutureWarning: The frame.append method is deprecated and will be removed from pandas in a future version. Use pandas.concat instead.\n",
      "  f1_frame = f1_frame.append(row_dict, ignore_index=True)\n",
      "/var/folders/s_/psmzh19x55n79gg5ssgdy5p00000gn/T/ipykernel_5042/1002360894.py:42: FutureWarning: The frame.append method is deprecated and will be removed from pandas in a future version. Use pandas.concat instead.\n",
      "  f1_frame = f1_frame.append(row_dict, ignore_index=True)\n",
      "/var/folders/s_/psmzh19x55n79gg5ssgdy5p00000gn/T/ipykernel_5042/1002360894.py:42: FutureWarning: The frame.append method is deprecated and will be removed from pandas in a future version. Use pandas.concat instead.\n",
      "  f1_frame = f1_frame.append(row_dict, ignore_index=True)\n",
      "/var/folders/s_/psmzh19x55n79gg5ssgdy5p00000gn/T/ipykernel_5042/1002360894.py:42: FutureWarning: The frame.append method is deprecated and will be removed from pandas in a future version. Use pandas.concat instead.\n",
      "  f1_frame = f1_frame.append(row_dict, ignore_index=True)\n",
      "/var/folders/s_/psmzh19x55n79gg5ssgdy5p00000gn/T/ipykernel_5042/1002360894.py:42: FutureWarning: The frame.append method is deprecated and will be removed from pandas in a future version. Use pandas.concat instead.\n",
      "  f1_frame = f1_frame.append(row_dict, ignore_index=True)\n",
      "/var/folders/s_/psmzh19x55n79gg5ssgdy5p00000gn/T/ipykernel_5042/1002360894.py:42: FutureWarning: The frame.append method is deprecated and will be removed from pandas in a future version. Use pandas.concat instead.\n",
      "  f1_frame = f1_frame.append(row_dict, ignore_index=True)\n",
      "/var/folders/s_/psmzh19x55n79gg5ssgdy5p00000gn/T/ipykernel_5042/1002360894.py:42: FutureWarning: The frame.append method is deprecated and will be removed from pandas in a future version. Use pandas.concat instead.\n",
      "  f1_frame = f1_frame.append(row_dict, ignore_index=True)\n",
      "/var/folders/s_/psmzh19x55n79gg5ssgdy5p00000gn/T/ipykernel_5042/1002360894.py:42: FutureWarning: The frame.append method is deprecated and will be removed from pandas in a future version. Use pandas.concat instead.\n",
      "  f1_frame = f1_frame.append(row_dict, ignore_index=True)\n",
      "/var/folders/s_/psmzh19x55n79gg5ssgdy5p00000gn/T/ipykernel_5042/1002360894.py:42: FutureWarning: The frame.append method is deprecated and will be removed from pandas in a future version. Use pandas.concat instead.\n",
      "  f1_frame = f1_frame.append(row_dict, ignore_index=True)\n",
      "/var/folders/s_/psmzh19x55n79gg5ssgdy5p00000gn/T/ipykernel_5042/1002360894.py:42: FutureWarning: The frame.append method is deprecated and will be removed from pandas in a future version. Use pandas.concat instead.\n",
      "  f1_frame = f1_frame.append(row_dict, ignore_index=True)\n",
      "/var/folders/s_/psmzh19x55n79gg5ssgdy5p00000gn/T/ipykernel_5042/1002360894.py:42: FutureWarning: The frame.append method is deprecated and will be removed from pandas in a future version. Use pandas.concat instead.\n",
      "  f1_frame = f1_frame.append(row_dict, ignore_index=True)\n",
      "/var/folders/s_/psmzh19x55n79gg5ssgdy5p00000gn/T/ipykernel_5042/1002360894.py:42: FutureWarning: The frame.append method is deprecated and will be removed from pandas in a future version. Use pandas.concat instead.\n",
      "  f1_frame = f1_frame.append(row_dict, ignore_index=True)\n",
      "/var/folders/s_/psmzh19x55n79gg5ssgdy5p00000gn/T/ipykernel_5042/1002360894.py:42: FutureWarning: The frame.append method is deprecated and will be removed from pandas in a future version. Use pandas.concat instead.\n",
      "  f1_frame = f1_frame.append(row_dict, ignore_index=True)\n",
      "/var/folders/s_/psmzh19x55n79gg5ssgdy5p00000gn/T/ipykernel_5042/1002360894.py:42: FutureWarning: The frame.append method is deprecated and will be removed from pandas in a future version. Use pandas.concat instead.\n",
      "  f1_frame = f1_frame.append(row_dict, ignore_index=True)\n",
      "/var/folders/s_/psmzh19x55n79gg5ssgdy5p00000gn/T/ipykernel_5042/1002360894.py:42: FutureWarning: The frame.append method is deprecated and will be removed from pandas in a future version. Use pandas.concat instead.\n",
      "  f1_frame = f1_frame.append(row_dict, ignore_index=True)\n",
      "/var/folders/s_/psmzh19x55n79gg5ssgdy5p00000gn/T/ipykernel_5042/1002360894.py:42: FutureWarning: The frame.append method is deprecated and will be removed from pandas in a future version. Use pandas.concat instead.\n",
      "  f1_frame = f1_frame.append(row_dict, ignore_index=True)\n",
      "/var/folders/s_/psmzh19x55n79gg5ssgdy5p00000gn/T/ipykernel_5042/1002360894.py:42: FutureWarning: The frame.append method is deprecated and will be removed from pandas in a future version. Use pandas.concat instead.\n",
      "  f1_frame = f1_frame.append(row_dict, ignore_index=True)\n",
      "/var/folders/s_/psmzh19x55n79gg5ssgdy5p00000gn/T/ipykernel_5042/1002360894.py:42: FutureWarning: The frame.append method is deprecated and will be removed from pandas in a future version. Use pandas.concat instead.\n",
      "  f1_frame = f1_frame.append(row_dict, ignore_index=True)\n",
      "/var/folders/s_/psmzh19x55n79gg5ssgdy5p00000gn/T/ipykernel_5042/1002360894.py:42: FutureWarning: The frame.append method is deprecated and will be removed from pandas in a future version. Use pandas.concat instead.\n",
      "  f1_frame = f1_frame.append(row_dict, ignore_index=True)\n",
      "/var/folders/s_/psmzh19x55n79gg5ssgdy5p00000gn/T/ipykernel_5042/1002360894.py:42: FutureWarning: The frame.append method is deprecated and will be removed from pandas in a future version. Use pandas.concat instead.\n",
      "  f1_frame = f1_frame.append(row_dict, ignore_index=True)\n",
      "/var/folders/s_/psmzh19x55n79gg5ssgdy5p00000gn/T/ipykernel_5042/1002360894.py:42: FutureWarning: The frame.append method is deprecated and will be removed from pandas in a future version. Use pandas.concat instead.\n",
      "  f1_frame = f1_frame.append(row_dict, ignore_index=True)\n",
      "/var/folders/s_/psmzh19x55n79gg5ssgdy5p00000gn/T/ipykernel_5042/1002360894.py:42: FutureWarning: The frame.append method is deprecated and will be removed from pandas in a future version. Use pandas.concat instead.\n",
      "  f1_frame = f1_frame.append(row_dict, ignore_index=True)\n",
      "/var/folders/s_/psmzh19x55n79gg5ssgdy5p00000gn/T/ipykernel_5042/1002360894.py:42: FutureWarning: The frame.append method is deprecated and will be removed from pandas in a future version. Use pandas.concat instead.\n",
      "  f1_frame = f1_frame.append(row_dict, ignore_index=True)\n",
      "/var/folders/s_/psmzh19x55n79gg5ssgdy5p00000gn/T/ipykernel_5042/1002360894.py:42: FutureWarning: The frame.append method is deprecated and will be removed from pandas in a future version. Use pandas.concat instead.\n",
      "  f1_frame = f1_frame.append(row_dict, ignore_index=True)\n",
      "/var/folders/s_/psmzh19x55n79gg5ssgdy5p00000gn/T/ipykernel_5042/1002360894.py:42: FutureWarning: The frame.append method is deprecated and will be removed from pandas in a future version. Use pandas.concat instead.\n",
      "  f1_frame = f1_frame.append(row_dict, ignore_index=True)\n",
      "/var/folders/s_/psmzh19x55n79gg5ssgdy5p00000gn/T/ipykernel_5042/1002360894.py:42: FutureWarning: The frame.append method is deprecated and will be removed from pandas in a future version. Use pandas.concat instead.\n",
      "  f1_frame = f1_frame.append(row_dict, ignore_index=True)\n",
      "/var/folders/s_/psmzh19x55n79gg5ssgdy5p00000gn/T/ipykernel_5042/1002360894.py:42: FutureWarning: The frame.append method is deprecated and will be removed from pandas in a future version. Use pandas.concat instead.\n",
      "  f1_frame = f1_frame.append(row_dict, ignore_index=True)\n",
      "/var/folders/s_/psmzh19x55n79gg5ssgdy5p00000gn/T/ipykernel_5042/1002360894.py:42: FutureWarning: The frame.append method is deprecated and will be removed from pandas in a future version. Use pandas.concat instead.\n",
      "  f1_frame = f1_frame.append(row_dict, ignore_index=True)\n",
      "/var/folders/s_/psmzh19x55n79gg5ssgdy5p00000gn/T/ipykernel_5042/1002360894.py:42: FutureWarning: The frame.append method is deprecated and will be removed from pandas in a future version. Use pandas.concat instead.\n",
      "  f1_frame = f1_frame.append(row_dict, ignore_index=True)\n",
      "/var/folders/s_/psmzh19x55n79gg5ssgdy5p00000gn/T/ipykernel_5042/1002360894.py:42: FutureWarning: The frame.append method is deprecated and will be removed from pandas in a future version. Use pandas.concat instead.\n",
      "  f1_frame = f1_frame.append(row_dict, ignore_index=True)\n",
      "/var/folders/s_/psmzh19x55n79gg5ssgdy5p00000gn/T/ipykernel_5042/1002360894.py:42: FutureWarning: The frame.append method is deprecated and will be removed from pandas in a future version. Use pandas.concat instead.\n",
      "  f1_frame = f1_frame.append(row_dict, ignore_index=True)\n",
      "/var/folders/s_/psmzh19x55n79gg5ssgdy5p00000gn/T/ipykernel_5042/1002360894.py:42: FutureWarning: The frame.append method is deprecated and will be removed from pandas in a future version. Use pandas.concat instead.\n",
      "  f1_frame = f1_frame.append(row_dict, ignore_index=True)\n",
      "/var/folders/s_/psmzh19x55n79gg5ssgdy5p00000gn/T/ipykernel_5042/1002360894.py:42: FutureWarning: The frame.append method is deprecated and will be removed from pandas in a future version. Use pandas.concat instead.\n",
      "  f1_frame = f1_frame.append(row_dict, ignore_index=True)\n",
      "/var/folders/s_/psmzh19x55n79gg5ssgdy5p00000gn/T/ipykernel_5042/1002360894.py:42: FutureWarning: The frame.append method is deprecated and will be removed from pandas in a future version. Use pandas.concat instead.\n",
      "  f1_frame = f1_frame.append(row_dict, ignore_index=True)\n",
      "/var/folders/s_/psmzh19x55n79gg5ssgdy5p00000gn/T/ipykernel_5042/1002360894.py:42: FutureWarning: The frame.append method is deprecated and will be removed from pandas in a future version. Use pandas.concat instead.\n",
      "  f1_frame = f1_frame.append(row_dict, ignore_index=True)\n",
      "/var/folders/s_/psmzh19x55n79gg5ssgdy5p00000gn/T/ipykernel_5042/1002360894.py:42: FutureWarning: The frame.append method is deprecated and will be removed from pandas in a future version. Use pandas.concat instead.\n",
      "  f1_frame = f1_frame.append(row_dict, ignore_index=True)\n",
      "/var/folders/s_/psmzh19x55n79gg5ssgdy5p00000gn/T/ipykernel_5042/1002360894.py:42: FutureWarning: The frame.append method is deprecated and will be removed from pandas in a future version. Use pandas.concat instead.\n",
      "  f1_frame = f1_frame.append(row_dict, ignore_index=True)\n",
      "/var/folders/s_/psmzh19x55n79gg5ssgdy5p00000gn/T/ipykernel_5042/1002360894.py:42: FutureWarning: The frame.append method is deprecated and will be removed from pandas in a future version. Use pandas.concat instead.\n",
      "  f1_frame = f1_frame.append(row_dict, ignore_index=True)\n",
      "/var/folders/s_/psmzh19x55n79gg5ssgdy5p00000gn/T/ipykernel_5042/1002360894.py:42: FutureWarning: The frame.append method is deprecated and will be removed from pandas in a future version. Use pandas.concat instead.\n",
      "  f1_frame = f1_frame.append(row_dict, ignore_index=True)\n",
      "/var/folders/s_/psmzh19x55n79gg5ssgdy5p00000gn/T/ipykernel_5042/1002360894.py:42: FutureWarning: The frame.append method is deprecated and will be removed from pandas in a future version. Use pandas.concat instead.\n",
      "  f1_frame = f1_frame.append(row_dict, ignore_index=True)\n",
      "/var/folders/s_/psmzh19x55n79gg5ssgdy5p00000gn/T/ipykernel_5042/1002360894.py:42: FutureWarning: The frame.append method is deprecated and will be removed from pandas in a future version. Use pandas.concat instead.\n",
      "  f1_frame = f1_frame.append(row_dict, ignore_index=True)\n",
      "/var/folders/s_/psmzh19x55n79gg5ssgdy5p00000gn/T/ipykernel_5042/1002360894.py:42: FutureWarning: The frame.append method is deprecated and will be removed from pandas in a future version. Use pandas.concat instead.\n",
      "  f1_frame = f1_frame.append(row_dict, ignore_index=True)\n",
      "/var/folders/s_/psmzh19x55n79gg5ssgdy5p00000gn/T/ipykernel_5042/1002360894.py:42: FutureWarning: The frame.append method is deprecated and will be removed from pandas in a future version. Use pandas.concat instead.\n",
      "  f1_frame = f1_frame.append(row_dict, ignore_index=True)\n",
      "/var/folders/s_/psmzh19x55n79gg5ssgdy5p00000gn/T/ipykernel_5042/1002360894.py:42: FutureWarning: The frame.append method is deprecated and will be removed from pandas in a future version. Use pandas.concat instead.\n",
      "  f1_frame = f1_frame.append(row_dict, ignore_index=True)\n",
      "/var/folders/s_/psmzh19x55n79gg5ssgdy5p00000gn/T/ipykernel_5042/1002360894.py:42: FutureWarning: The frame.append method is deprecated and will be removed from pandas in a future version. Use pandas.concat instead.\n",
      "  f1_frame = f1_frame.append(row_dict, ignore_index=True)\n",
      "/var/folders/s_/psmzh19x55n79gg5ssgdy5p00000gn/T/ipykernel_5042/1002360894.py:42: FutureWarning: The frame.append method is deprecated and will be removed from pandas in a future version. Use pandas.concat instead.\n",
      "  f1_frame = f1_frame.append(row_dict, ignore_index=True)\n",
      "/var/folders/s_/psmzh19x55n79gg5ssgdy5p00000gn/T/ipykernel_5042/1002360894.py:42: FutureWarning: The frame.append method is deprecated and will be removed from pandas in a future version. Use pandas.concat instead.\n",
      "  f1_frame = f1_frame.append(row_dict, ignore_index=True)\n",
      "/var/folders/s_/psmzh19x55n79gg5ssgdy5p00000gn/T/ipykernel_5042/1002360894.py:42: FutureWarning: The frame.append method is deprecated and will be removed from pandas in a future version. Use pandas.concat instead.\n",
      "  f1_frame = f1_frame.append(row_dict, ignore_index=True)\n",
      "/var/folders/s_/psmzh19x55n79gg5ssgdy5p00000gn/T/ipykernel_5042/1002360894.py:42: FutureWarning: The frame.append method is deprecated and will be removed from pandas in a future version. Use pandas.concat instead.\n",
      "  f1_frame = f1_frame.append(row_dict, ignore_index=True)\n",
      "/var/folders/s_/psmzh19x55n79gg5ssgdy5p00000gn/T/ipykernel_5042/1002360894.py:42: FutureWarning: The frame.append method is deprecated and will be removed from pandas in a future version. Use pandas.concat instead.\n",
      "  f1_frame = f1_frame.append(row_dict, ignore_index=True)\n",
      "/var/folders/s_/psmzh19x55n79gg5ssgdy5p00000gn/T/ipykernel_5042/1002360894.py:42: FutureWarning: The frame.append method is deprecated and will be removed from pandas in a future version. Use pandas.concat instead.\n",
      "  f1_frame = f1_frame.append(row_dict, ignore_index=True)\n",
      "/var/folders/s_/psmzh19x55n79gg5ssgdy5p00000gn/T/ipykernel_5042/1002360894.py:42: FutureWarning: The frame.append method is deprecated and will be removed from pandas in a future version. Use pandas.concat instead.\n",
      "  f1_frame = f1_frame.append(row_dict, ignore_index=True)\n",
      "/var/folders/s_/psmzh19x55n79gg5ssgdy5p00000gn/T/ipykernel_5042/1002360894.py:42: FutureWarning: The frame.append method is deprecated and will be removed from pandas in a future version. Use pandas.concat instead.\n",
      "  f1_frame = f1_frame.append(row_dict, ignore_index=True)\n",
      "/var/folders/s_/psmzh19x55n79gg5ssgdy5p00000gn/T/ipykernel_5042/1002360894.py:42: FutureWarning: The frame.append method is deprecated and will be removed from pandas in a future version. Use pandas.concat instead.\n",
      "  f1_frame = f1_frame.append(row_dict, ignore_index=True)\n",
      "/var/folders/s_/psmzh19x55n79gg5ssgdy5p00000gn/T/ipykernel_5042/1002360894.py:42: FutureWarning: The frame.append method is deprecated and will be removed from pandas in a future version. Use pandas.concat instead.\n",
      "  f1_frame = f1_frame.append(row_dict, ignore_index=True)\n",
      "/var/folders/s_/psmzh19x55n79gg5ssgdy5p00000gn/T/ipykernel_5042/1002360894.py:42: FutureWarning: The frame.append method is deprecated and will be removed from pandas in a future version. Use pandas.concat instead.\n",
      "  f1_frame = f1_frame.append(row_dict, ignore_index=True)\n",
      "/var/folders/s_/psmzh19x55n79gg5ssgdy5p00000gn/T/ipykernel_5042/1002360894.py:42: FutureWarning: The frame.append method is deprecated and will be removed from pandas in a future version. Use pandas.concat instead.\n",
      "  f1_frame = f1_frame.append(row_dict, ignore_index=True)\n",
      "/var/folders/s_/psmzh19x55n79gg5ssgdy5p00000gn/T/ipykernel_5042/1002360894.py:42: FutureWarning: The frame.append method is deprecated and will be removed from pandas in a future version. Use pandas.concat instead.\n",
      "  f1_frame = f1_frame.append(row_dict, ignore_index=True)\n",
      "/var/folders/s_/psmzh19x55n79gg5ssgdy5p00000gn/T/ipykernel_5042/1002360894.py:42: FutureWarning: The frame.append method is deprecated and will be removed from pandas in a future version. Use pandas.concat instead.\n",
      "  f1_frame = f1_frame.append(row_dict, ignore_index=True)\n",
      "/var/folders/s_/psmzh19x55n79gg5ssgdy5p00000gn/T/ipykernel_5042/1002360894.py:42: FutureWarning: The frame.append method is deprecated and will be removed from pandas in a future version. Use pandas.concat instead.\n",
      "  f1_frame = f1_frame.append(row_dict, ignore_index=True)\n",
      "/var/folders/s_/psmzh19x55n79gg5ssgdy5p00000gn/T/ipykernel_5042/1002360894.py:42: FutureWarning: The frame.append method is deprecated and will be removed from pandas in a future version. Use pandas.concat instead.\n",
      "  f1_frame = f1_frame.append(row_dict, ignore_index=True)\n",
      "/var/folders/s_/psmzh19x55n79gg5ssgdy5p00000gn/T/ipykernel_5042/1002360894.py:42: FutureWarning: The frame.append method is deprecated and will be removed from pandas in a future version. Use pandas.concat instead.\n",
      "  f1_frame = f1_frame.append(row_dict, ignore_index=True)\n",
      "/var/folders/s_/psmzh19x55n79gg5ssgdy5p00000gn/T/ipykernel_5042/1002360894.py:42: FutureWarning: The frame.append method is deprecated and will be removed from pandas in a future version. Use pandas.concat instead.\n",
      "  f1_frame = f1_frame.append(row_dict, ignore_index=True)\n",
      "/var/folders/s_/psmzh19x55n79gg5ssgdy5p00000gn/T/ipykernel_5042/1002360894.py:42: FutureWarning: The frame.append method is deprecated and will be removed from pandas in a future version. Use pandas.concat instead.\n",
      "  f1_frame = f1_frame.append(row_dict, ignore_index=True)\n",
      "/var/folders/s_/psmzh19x55n79gg5ssgdy5p00000gn/T/ipykernel_5042/1002360894.py:42: FutureWarning: The frame.append method is deprecated and will be removed from pandas in a future version. Use pandas.concat instead.\n",
      "  f1_frame = f1_frame.append(row_dict, ignore_index=True)\n",
      "/var/folders/s_/psmzh19x55n79gg5ssgdy5p00000gn/T/ipykernel_5042/1002360894.py:42: FutureWarning: The frame.append method is deprecated and will be removed from pandas in a future version. Use pandas.concat instead.\n",
      "  f1_frame = f1_frame.append(row_dict, ignore_index=True)\n",
      "/var/folders/s_/psmzh19x55n79gg5ssgdy5p00000gn/T/ipykernel_5042/1002360894.py:42: FutureWarning: The frame.append method is deprecated and will be removed from pandas in a future version. Use pandas.concat instead.\n",
      "  f1_frame = f1_frame.append(row_dict, ignore_index=True)\n"
     ]
    },
    {
     "data": {
      "text/html": [
       "<div>\n",
       "<style scoped>\n",
       "    .dataframe tbody tr th:only-of-type {\n",
       "        vertical-align: middle;\n",
       "    }\n",
       "\n",
       "    .dataframe tbody tr th {\n",
       "        vertical-align: top;\n",
       "    }\n",
       "\n",
       "    .dataframe thead th {\n",
       "        text-align: right;\n",
       "    }\n",
       "</style>\n",
       "<table border=\"1\" class=\"dataframe\">\n",
       "  <thead>\n",
       "    <tr style=\"text-align: right;\">\n",
       "      <th></th>\n",
       "      <th>cut</th>\n",
       "      <th>f1</th>\n",
       "      <th>acc</th>\n",
       "      <th>air</th>\n",
       "    </tr>\n",
       "  </thead>\n",
       "  <tbody>\n",
       "    <tr>\n",
       "      <th>22</th>\n",
       "      <td>0.22</td>\n",
       "      <td>0.356794</td>\n",
       "      <td>0.832942</td>\n",
       "      <td>0.816260</td>\n",
       "    </tr>\n",
       "    <tr>\n",
       "      <th>23</th>\n",
       "      <td>0.23</td>\n",
       "      <td>0.350179</td>\n",
       "      <td>0.841156</td>\n",
       "      <td>0.843019</td>\n",
       "    </tr>\n",
       "    <tr>\n",
       "      <th>24</th>\n",
       "      <td>0.24</td>\n",
       "      <td>0.341709</td>\n",
       "      <td>0.850161</td>\n",
       "      <td>0.864101</td>\n",
       "    </tr>\n",
       "    <tr>\n",
       "      <th>25</th>\n",
       "      <td>0.25</td>\n",
       "      <td>0.330154</td>\n",
       "      <td>0.858313</td>\n",
       "      <td>0.878680</td>\n",
       "    </tr>\n",
       "    <tr>\n",
       "      <th>26</th>\n",
       "      <td>0.26</td>\n",
       "      <td>0.316466</td>\n",
       "      <td>0.865155</td>\n",
       "      <td>0.887407</td>\n",
       "    </tr>\n",
       "  </tbody>\n",
       "</table>\n",
       "</div>"
      ],
      "text/plain": [
       "     cut        f1       acc       air\n",
       "22  0.22  0.356794  0.832942  0.816260\n",
       "23  0.23  0.350179  0.841156  0.843019\n",
       "24  0.24  0.341709  0.850161  0.864101\n",
       "25  0.25  0.330154  0.858313  0.878680\n",
       "26  0.26  0.316466  0.865155  0.887407"
      ]
     },
     "execution_count": 49,
     "metadata": {},
     "output_type": "execute_result"
    }
   ],
   "source": [
    "f1_frame = get_max_f1_frame(best_ebm_phat, y_name, 'phat', air_reference='white', air_protected='black')\n",
    "# print highest quality cutoffs above four fifths rule cutoff\n",
    "f1_frame[f1_frame['air'] > 0.8].sort_values(by='f1', ascending=False).head()"
   ]
  },
  {
   "cell_type": "markdown",
   "id": "5d123efe",
   "metadata": {},
   "source": [
    "# Cutoffs in the 0.21-0.25range provide increased accuracy and less bias towards Black people."
   ]
  },
  {
   "cell_type": "markdown",
   "id": "ffc3fab6",
   "metadata": {},
   "source": [
    "#### Check that other groups are not adversely impacted by change"
   ]
  },
  {
   "cell_type": "code",
   "execution_count": 50,
   "id": "63ee4016",
   "metadata": {},
   "outputs": [
    {
     "name": "stdout",
     "output_type": "stream",
     "text": [
      "Adverse impact ratio for Asian people vs. White people: 1.128\n",
      "Adverse impact ratio for Black people vs. White people: 0.816\n",
      "Adverse impact ratio for Females vs. Males: 0.965\n"
     ]
    }
   ],
   "source": [
    "# calculate new confusion matrics for each group\n",
    "rem_cm_dict = {}\n",
    "for name in demographic_group_names:\n",
    "    rem_cm_dict[name] = get_confusion_matrix(best_ebm_phat, y_name, 'phat', by=name, level=1, cutoff=0.22, verbose=False)\n",
    "\n",
    "# calculate AIR for each group\n",
    "print('Adverse impact ratio for Asian people vs. White people: %.3f' % air(rem_cm_dict, 'white', 'asian', verbose=False))\n",
    "print('Adverse impact ratio for Black people vs. White people: %.3f' % air(rem_cm_dict, 'white', 'black', verbose=False))\n",
    "print('Adverse impact ratio for Females vs. Males: %.3f' % air(rem_cm_dict, 'male', 'female', verbose=False))"
   ]
  },
  {
   "cell_type": "code",
   "execution_count": 6,
   "id": "35642808",
   "metadata": {},
   "outputs": [
    {
     "data": {
      "image/png": "[encoded data removed]",
      "text/plain": [
       "<Figure size 720x432 with 1 Axes>"
      ]
     },
     "metadata": {
      "needs_background": "light"
     },
     "output_type": "display_data"
    }
   ],
   "source": [
    "# Adverse impact ratios\n",
    "ratios = [1.128, 0.816, 0.965]\n",
    "groups = ['Asian vs. White', 'Black vs. White', 'Females vs. Males']\n",
    "\n",
    "# Define light colors\n",
    "colors = ['blue', 'orange', 'green']\n",
    "\n",
    "\n",
    "\n",
    "# Plot bar chart\n",
    "plt.figure(figsize=(10, 6))\n",
    "plt.bar(groups, ratios, color=colors)\n",
    "plt.xlabel('Demographic Groups')\n",
    "plt.ylabel('Adverse Impact Ratio')\n",
    "plt.title('Adverse Impact Ratios for Different Groups')\n",
    "\n",
    "# Display the values on top of each bar\n",
    "for i, ratio in enumerate(ratios):\n",
    "    plt.text(i, ratio, f'{ratio:.3f}', ha='center', va='bottom')\n",
    "\n",
    "plt.show()"
   ]
  },
  {
   "cell_type": "markdown",
   "id": "87df900f",
   "metadata": {},
   "source": [
    "#### More sophisticated remdiation: Model selection via quality and fairness"
   ]
  },
  {
   "cell_type": "code",
   "execution_count": 85,
   "id": "e181f886",
   "metadata": {},
   "outputs": [
    {
     "name": "stdout",
     "output_type": "stream",
     "text": [
      "Grid search run 1/150:\n",
      "Training with parameters: {'n_jobs': 4, 'early_stopping_rounds': 100, 'random_state': 12345, 'max_bins': 512, 'max_interaction_bins': 16, 'interactions': 5, 'outer_bags': 4, 'inner_bags': 0, 'learning_rate': 0.05, 'validation_size': 0.25, 'min_samples_leaf': 1, 'max_leaves': 3}\n"
     ]
    },
    {
     "name": "stderr",
     "output_type": "stream",
     "text": [
      "/var/folders/s_/psmzh19x55n79gg5ssgdy5p00000gn/T/ipykernel_5042/74914493.py:89: FutureWarning: The frame.append method is deprecated and will be removed from pandas in a future version. Use pandas.concat instead.\n",
      "  ebm_grid_frame = ebm_grid_frame.append(row_dict, ignore_index=True)\n"
     ]
    },
    {
     "name": "stdout",
     "output_type": "stream",
     "text": [
      "Grid search new best score discovered at iteration 1/150: 0.5730.\n",
      "---------- ----------\n",
      "Grid search run 2/150:\n",
      "Training with parameters: {'n_jobs': 4, 'early_stopping_rounds': 100, 'random_state': 12345, 'max_bins': 128, 'max_interaction_bins': 32, 'interactions': 5, 'outer_bags': 8, 'inner_bags': 0, 'learning_rate': 0.001, 'validation_size': 0.25, 'min_samples_leaf': 2, 'max_leaves': 5}\n"
     ]
    },
    {
     "name": "stderr",
     "output_type": "stream",
     "text": [
      "/var/folders/s_/psmzh19x55n79gg5ssgdy5p00000gn/T/ipykernel_5042/74914493.py:89: FutureWarning: The frame.append method is deprecated and will be removed from pandas in a future version. Use pandas.concat instead.\n",
      "  ebm_grid_frame = ebm_grid_frame.append(row_dict, ignore_index=True)\n"
     ]
    },
    {
     "name": "stdout",
     "output_type": "stream",
     "text": [
      "Grid search new best score discovered at iteration 2/150: 0.8175.\n",
      "---------- ----------\n",
      "Grid search run 3/150:\n",
      "Training with parameters: {'n_jobs': 4, 'early_stopping_rounds': 100, 'random_state': 12345, 'max_bins': 512, 'max_interaction_bins': 16, 'interactions': 5, 'outer_bags': 4, 'inner_bags': 0, 'learning_rate': 0.001, 'validation_size': 0.5, 'min_samples_leaf': 1, 'max_leaves': 3}\n"
     ]
    },
    {
     "name": "stderr",
     "output_type": "stream",
     "text": [
      "/var/folders/s_/psmzh19x55n79gg5ssgdy5p00000gn/T/ipykernel_5042/74914493.py:89: FutureWarning: The frame.append method is deprecated and will be removed from pandas in a future version. Use pandas.concat instead.\n",
      "  ebm_grid_frame = ebm_grid_frame.append(row_dict, ignore_index=True)\n"
     ]
    },
    {
     "name": "stdout",
     "output_type": "stream",
     "text": [
      "---------- ----------\n",
      "Grid search run 4/150:\n",
      "Training with parameters: {'n_jobs': 4, 'early_stopping_rounds': 100, 'random_state': 12345, 'max_bins': 128, 'max_interaction_bins': 64, 'interactions': 5, 'outer_bags': 4, 'inner_bags': 4, 'learning_rate': 0.05, 'validation_size': 0.5, 'min_samples_leaf': 1, 'max_leaves': 5}\n"
     ]
    },
    {
     "name": "stderr",
     "output_type": "stream",
     "text": [
      "/var/folders/s_/psmzh19x55n79gg5ssgdy5p00000gn/T/ipykernel_5042/74914493.py:89: FutureWarning: The frame.append method is deprecated and will be removed from pandas in a future version. Use pandas.concat instead.\n",
      "  ebm_grid_frame = ebm_grid_frame.append(row_dict, ignore_index=True)\n"
     ]
    },
    {
     "name": "stdout",
     "output_type": "stream",
     "text": [
      "---------- ----------\n",
      "Grid search run 5/150:\n",
      "Training with parameters: {'n_jobs': 4, 'early_stopping_rounds': 100, 'random_state': 12345, 'max_bins': 512, 'max_interaction_bins': 64, 'interactions': 15, 'outer_bags': 4, 'inner_bags': 0, 'learning_rate': 0.05, 'validation_size': 0.1, 'min_samples_leaf': 10, 'max_leaves': 3}\n"
     ]
    },
    {
     "name": "stderr",
     "output_type": "stream",
     "text": [
      "/var/folders/s_/psmzh19x55n79gg5ssgdy5p00000gn/T/ipykernel_5042/74914493.py:89: FutureWarning: The frame.append method is deprecated and will be removed from pandas in a future version. Use pandas.concat instead.\n",
      "  ebm_grid_frame = ebm_grid_frame.append(row_dict, ignore_index=True)\n"
     ]
    },
    {
     "name": "stdout",
     "output_type": "stream",
     "text": [
      "---------- ----------\n",
      "Grid search run 6/150:\n",
      "Training with parameters: {'n_jobs': 4, 'early_stopping_rounds': 100, 'random_state': 12345, 'max_bins': 256, 'max_interaction_bins': 16, 'interactions': 15, 'outer_bags': 12, 'inner_bags': 4, 'learning_rate': 0.01, 'validation_size': 0.1, 'min_samples_leaf': 2, 'max_leaves': 5}\n"
     ]
    },
    {
     "name": "stderr",
     "output_type": "stream",
     "text": [
      "/var/folders/s_/psmzh19x55n79gg5ssgdy5p00000gn/T/ipykernel_5042/74914493.py:89: FutureWarning: The frame.append method is deprecated and will be removed from pandas in a future version. Use pandas.concat instead.\n",
      "  ebm_grid_frame = ebm_grid_frame.append(row_dict, ignore_index=True)\n"
     ]
    },
    {
     "name": "stdout",
     "output_type": "stream",
     "text": [
      "---------- ----------\n",
      "Grid search run 7/150:\n",
      "Training with parameters: {'n_jobs': 4, 'early_stopping_rounds': 100, 'random_state': 12345, 'max_bins': 512, 'max_interaction_bins': 32, 'interactions': 15, 'outer_bags': 4, 'inner_bags': 4, 'learning_rate': 0.05, 'validation_size': 0.25, 'min_samples_leaf': 10, 'max_leaves': 1}\n"
     ]
    },
    {
     "name": "stderr",
     "output_type": "stream",
     "text": [
      "/var/folders/s_/psmzh19x55n79gg5ssgdy5p00000gn/T/ipykernel_5042/74914493.py:89: FutureWarning: The frame.append method is deprecated and will be removed from pandas in a future version. Use pandas.concat instead.\n",
      "  ebm_grid_frame = ebm_grid_frame.append(row_dict, ignore_index=True)\n"
     ]
    },
    {
     "name": "stdout",
     "output_type": "stream",
     "text": [
      "---------- ----------\n",
      "Grid search run 8/150:\n",
      "Training with parameters: {'n_jobs': 4, 'early_stopping_rounds': 100, 'random_state': 12345, 'max_bins': 256, 'max_interaction_bins': 16, 'interactions': 15, 'outer_bags': 8, 'inner_bags': 4, 'learning_rate': 0.001, 'validation_size': 0.5, 'min_samples_leaf': 5, 'max_leaves': 3}\n"
     ]
    },
    {
     "name": "stderr",
     "output_type": "stream",
     "text": [
      "/var/folders/s_/psmzh19x55n79gg5ssgdy5p00000gn/T/ipykernel_5042/74914493.py:89: FutureWarning: The frame.append method is deprecated and will be removed from pandas in a future version. Use pandas.concat instead.\n",
      "  ebm_grid_frame = ebm_grid_frame.append(row_dict, ignore_index=True)\n"
     ]
    },
    {
     "name": "stdout",
     "output_type": "stream",
     "text": [
      "---------- ----------\n",
      "Grid search run 9/150:\n",
      "Training with parameters: {'n_jobs': 4, 'early_stopping_rounds': 100, 'random_state': 12345, 'max_bins': 256, 'max_interaction_bins': 16, 'interactions': 10, 'outer_bags': 8, 'inner_bags': 0, 'learning_rate': 0.05, 'validation_size': 0.5, 'min_samples_leaf': 5, 'max_leaves': 1}\n"
     ]
    },
    {
     "name": "stderr",
     "output_type": "stream",
     "text": [
      "/var/folders/s_/psmzh19x55n79gg5ssgdy5p00000gn/T/ipykernel_5042/74914493.py:89: FutureWarning: The frame.append method is deprecated and will be removed from pandas in a future version. Use pandas.concat instead.\n",
      "  ebm_grid_frame = ebm_grid_frame.append(row_dict, ignore_index=True)\n"
     ]
    },
    {
     "name": "stdout",
     "output_type": "stream",
     "text": [
      "---------- ----------\n",
      "Grid search run 10/150:\n",
      "Training with parameters: {'n_jobs': 4, 'early_stopping_rounds': 100, 'random_state': 12345, 'max_bins': 512, 'max_interaction_bins': 64, 'interactions': 5, 'outer_bags': 4, 'inner_bags': 0, 'learning_rate': 0.001, 'validation_size': 0.25, 'min_samples_leaf': 2, 'max_leaves': 3}\n"
     ]
    },
    {
     "name": "stderr",
     "output_type": "stream",
     "text": [
      "/var/folders/s_/psmzh19x55n79gg5ssgdy5p00000gn/T/ipykernel_5042/74914493.py:89: FutureWarning: The frame.append method is deprecated and will be removed from pandas in a future version. Use pandas.concat instead.\n",
      "  ebm_grid_frame = ebm_grid_frame.append(row_dict, ignore_index=True)\n"
     ]
    },
    {
     "name": "stdout",
     "output_type": "stream",
     "text": [
      "---------- ----------\n",
      "Grid search run 11/150:\n",
      "Training with parameters: {'n_jobs': 4, 'early_stopping_rounds': 100, 'random_state': 12345, 'max_bins': 256, 'max_interaction_bins': 32, 'interactions': 15, 'outer_bags': 4, 'inner_bags': 0, 'learning_rate': 0.001, 'validation_size': 0.1, 'min_samples_leaf': 1, 'max_leaves': 5}\n"
     ]
    },
    {
     "name": "stderr",
     "output_type": "stream",
     "text": [
      "/var/folders/s_/psmzh19x55n79gg5ssgdy5p00000gn/T/ipykernel_5042/74914493.py:89: FutureWarning: The frame.append method is deprecated and will be removed from pandas in a future version. Use pandas.concat instead.\n",
      "  ebm_grid_frame = ebm_grid_frame.append(row_dict, ignore_index=True)\n"
     ]
    },
    {
     "name": "stdout",
     "output_type": "stream",
     "text": [
      "---------- ----------\n",
      "Grid search run 12/150:\n",
      "Training with parameters: {'n_jobs': 4, 'early_stopping_rounds': 100, 'random_state': 12345, 'max_bins': 512, 'max_interaction_bins': 16, 'interactions': 15, 'outer_bags': 4, 'inner_bags': 0, 'learning_rate': 0.01, 'validation_size': 0.1, 'min_samples_leaf': 2, 'max_leaves': 5}\n"
     ]
    },
    {
     "name": "stderr",
     "output_type": "stream",
     "text": [
      "/var/folders/s_/psmzh19x55n79gg5ssgdy5p00000gn/T/ipykernel_5042/74914493.py:89: FutureWarning: The frame.append method is deprecated and will be removed from pandas in a future version. Use pandas.concat instead.\n",
      "  ebm_grid_frame = ebm_grid_frame.append(row_dict, ignore_index=True)\n"
     ]
    },
    {
     "name": "stdout",
     "output_type": "stream",
     "text": [
      "---------- ----------\n",
      "Grid search run 13/150:\n",
      "Training with parameters: {'n_jobs': 4, 'early_stopping_rounds': 100, 'random_state': 12345, 'max_bins': 512, 'max_interaction_bins': 16, 'interactions': 10, 'outer_bags': 8, 'inner_bags': 0, 'learning_rate': 0.001, 'validation_size': 0.5, 'min_samples_leaf': 2, 'max_leaves': 1}\n"
     ]
    },
    {
     "name": "stderr",
     "output_type": "stream",
     "text": [
      "/var/folders/s_/psmzh19x55n79gg5ssgdy5p00000gn/T/ipykernel_5042/74914493.py:89: FutureWarning: The frame.append method is deprecated and will be removed from pandas in a future version. Use pandas.concat instead.\n",
      "  ebm_grid_frame = ebm_grid_frame.append(row_dict, ignore_index=True)\n"
     ]
    },
    {
     "name": "stdout",
     "output_type": "stream",
     "text": [
      "---------- ----------\n",
      "Grid search run 14/150:\n",
      "Training with parameters: {'n_jobs': 4, 'early_stopping_rounds': 100, 'random_state': 12345, 'max_bins': 512, 'max_interaction_bins': 32, 'interactions': 15, 'outer_bags': 12, 'inner_bags': 0, 'learning_rate': 0.05, 'validation_size': 0.5, 'min_samples_leaf': 2, 'max_leaves': 5}\n"
     ]
    },
    {
     "name": "stderr",
     "output_type": "stream",
     "text": [
      "/var/folders/s_/psmzh19x55n79gg5ssgdy5p00000gn/T/ipykernel_5042/74914493.py:89: FutureWarning: The frame.append method is deprecated and will be removed from pandas in a future version. Use pandas.concat instead.\n",
      "  ebm_grid_frame = ebm_grid_frame.append(row_dict, ignore_index=True)\n"
     ]
    },
    {
     "name": "stdout",
     "output_type": "stream",
     "text": [
      "---------- ----------\n",
      "Grid search run 15/150:\n",
      "Training with parameters: {'n_jobs': 4, 'early_stopping_rounds': 100, 'random_state': 12345, 'max_bins': 256, 'max_interaction_bins': 16, 'interactions': 5, 'outer_bags': 4, 'inner_bags': 0, 'learning_rate': 0.001, 'validation_size': 0.1, 'min_samples_leaf': 10, 'max_leaves': 3}\n"
     ]
    },
    {
     "name": "stderr",
     "output_type": "stream",
     "text": [
      "/var/folders/s_/psmzh19x55n79gg5ssgdy5p00000gn/T/ipykernel_5042/74914493.py:89: FutureWarning: The frame.append method is deprecated and will be removed from pandas in a future version. Use pandas.concat instead.\n",
      "  ebm_grid_frame = ebm_grid_frame.append(row_dict, ignore_index=True)\n"
     ]
    },
    {
     "name": "stdout",
     "output_type": "stream",
     "text": [
      "---------- ----------\n",
      "Grid search run 16/150:\n",
      "Training with parameters: {'n_jobs': 4, 'early_stopping_rounds': 100, 'random_state': 12345, 'max_bins': 128, 'max_interaction_bins': 64, 'interactions': 5, 'outer_bags': 8, 'inner_bags': 0, 'learning_rate': 0.001, 'validation_size': 0.5, 'min_samples_leaf': 10, 'max_leaves': 5}\n"
     ]
    },
    {
     "name": "stderr",
     "output_type": "stream",
     "text": [
      "/var/folders/s_/psmzh19x55n79gg5ssgdy5p00000gn/T/ipykernel_5042/74914493.py:89: FutureWarning: The frame.append method is deprecated and will be removed from pandas in a future version. Use pandas.concat instead.\n",
      "  ebm_grid_frame = ebm_grid_frame.append(row_dict, ignore_index=True)\n"
     ]
    },
    {
     "name": "stdout",
     "output_type": "stream",
     "text": [
      "---------- ----------\n",
      "Grid search run 17/150:\n",
      "Training with parameters: {'n_jobs': 4, 'early_stopping_rounds': 100, 'random_state': 12345, 'max_bins': 512, 'max_interaction_bins': 64, 'interactions': 10, 'outer_bags': 8, 'inner_bags': 4, 'learning_rate': 0.05, 'validation_size': 0.25, 'min_samples_leaf': 5, 'max_leaves': 3}\n"
     ]
    },
    {
     "name": "stderr",
     "output_type": "stream",
     "text": [
      "/var/folders/s_/psmzh19x55n79gg5ssgdy5p00000gn/T/ipykernel_5042/74914493.py:89: FutureWarning: The frame.append method is deprecated and will be removed from pandas in a future version. Use pandas.concat instead.\n",
      "  ebm_grid_frame = ebm_grid_frame.append(row_dict, ignore_index=True)\n"
     ]
    },
    {
     "name": "stdout",
     "output_type": "stream",
     "text": [
      "---------- ----------\n",
      "Grid search run 18/150:\n",
      "Training with parameters: {'n_jobs': 4, 'early_stopping_rounds': 100, 'random_state': 12345, 'max_bins': 512, 'max_interaction_bins': 64, 'interactions': 15, 'outer_bags': 12, 'inner_bags': 4, 'learning_rate': 0.01, 'validation_size': 0.25, 'min_samples_leaf': 1, 'max_leaves': 3}\n"
     ]
    },
    {
     "name": "stderr",
     "output_type": "stream",
     "text": [
      "/var/folders/s_/psmzh19x55n79gg5ssgdy5p00000gn/T/ipykernel_5042/74914493.py:89: FutureWarning: The frame.append method is deprecated and will be removed from pandas in a future version. Use pandas.concat instead.\n",
      "  ebm_grid_frame = ebm_grid_frame.append(row_dict, ignore_index=True)\n"
     ]
    },
    {
     "name": "stdout",
     "output_type": "stream",
     "text": [
      "---------- ----------\n",
      "Grid search run 19/150:\n",
      "Training with parameters: {'n_jobs': 4, 'early_stopping_rounds': 100, 'random_state': 12345, 'max_bins': 128, 'max_interaction_bins': 32, 'interactions': 15, 'outer_bags': 8, 'inner_bags': 0, 'learning_rate': 0.01, 'validation_size': 0.25, 'min_samples_leaf': 5, 'max_leaves': 3}\n"
     ]
    },
    {
     "name": "stderr",
     "output_type": "stream",
     "text": [
      "/var/folders/s_/psmzh19x55n79gg5ssgdy5p00000gn/T/ipykernel_5042/74914493.py:89: FutureWarning: The frame.append method is deprecated and will be removed from pandas in a future version. Use pandas.concat instead.\n",
      "  ebm_grid_frame = ebm_grid_frame.append(row_dict, ignore_index=True)\n"
     ]
    },
    {
     "name": "stdout",
     "output_type": "stream",
     "text": [
      "---------- ----------\n",
      "Grid search run 20/150:\n",
      "Training with parameters: {'n_jobs': 4, 'early_stopping_rounds': 100, 'random_state': 12345, 'max_bins': 256, 'max_interaction_bins': 32, 'interactions': 15, 'outer_bags': 8, 'inner_bags': 4, 'learning_rate': 0.05, 'validation_size': 0.5, 'min_samples_leaf': 10, 'max_leaves': 5}\n"
     ]
    },
    {
     "name": "stderr",
     "output_type": "stream",
     "text": [
      "/var/folders/s_/psmzh19x55n79gg5ssgdy5p00000gn/T/ipykernel_5042/74914493.py:89: FutureWarning: The frame.append method is deprecated and will be removed from pandas in a future version. Use pandas.concat instead.\n",
      "  ebm_grid_frame = ebm_grid_frame.append(row_dict, ignore_index=True)\n"
     ]
    },
    {
     "name": "stdout",
     "output_type": "stream",
     "text": [
      "---------- ----------\n",
      "Grid search run 21/150:\n",
      "Training with parameters: {'n_jobs': 4, 'early_stopping_rounds': 100, 'random_state': 12345, 'max_bins': 512, 'max_interaction_bins': 64, 'interactions': 15, 'outer_bags': 8, 'inner_bags': 4, 'learning_rate': 0.01, 'validation_size': 0.5, 'min_samples_leaf': 5, 'max_leaves': 3}\n"
     ]
    },
    {
     "name": "stderr",
     "output_type": "stream",
     "text": [
      "/var/folders/s_/psmzh19x55n79gg5ssgdy5p00000gn/T/ipykernel_5042/74914493.py:89: FutureWarning: The frame.append method is deprecated and will be removed from pandas in a future version. Use pandas.concat instead.\n",
      "  ebm_grid_frame = ebm_grid_frame.append(row_dict, ignore_index=True)\n"
     ]
    },
    {
     "name": "stdout",
     "output_type": "stream",
     "text": [
      "---------- ----------\n",
      "Grid search run 22/150:\n",
      "Training with parameters: {'n_jobs': 4, 'early_stopping_rounds': 100, 'random_state': 12345, 'max_bins': 128, 'max_interaction_bins': 32, 'interactions': 10, 'outer_bags': 4, 'inner_bags': 0, 'learning_rate': 0.001, 'validation_size': 0.5, 'min_samples_leaf': 5, 'max_leaves': 5}\n"
     ]
    },
    {
     "name": "stderr",
     "output_type": "stream",
     "text": [
      "/var/folders/s_/psmzh19x55n79gg5ssgdy5p00000gn/T/ipykernel_5042/74914493.py:89: FutureWarning: The frame.append method is deprecated and will be removed from pandas in a future version. Use pandas.concat instead.\n",
      "  ebm_grid_frame = ebm_grid_frame.append(row_dict, ignore_index=True)\n"
     ]
    },
    {
     "name": "stdout",
     "output_type": "stream",
     "text": [
      "---------- ----------\n",
      "Grid search run 23/150:\n",
      "Training with parameters: {'n_jobs': 4, 'early_stopping_rounds': 100, 'random_state': 12345, 'max_bins': 128, 'max_interaction_bins': 64, 'interactions': 5, 'outer_bags': 12, 'inner_bags': 4, 'learning_rate': 0.01, 'validation_size': 0.25, 'min_samples_leaf': 5, 'max_leaves': 3}\n"
     ]
    },
    {
     "name": "stderr",
     "output_type": "stream",
     "text": [
      "/var/folders/s_/psmzh19x55n79gg5ssgdy5p00000gn/T/ipykernel_5042/74914493.py:89: FutureWarning: The frame.append method is deprecated and will be removed from pandas in a future version. Use pandas.concat instead.\n",
      "  ebm_grid_frame = ebm_grid_frame.append(row_dict, ignore_index=True)\n"
     ]
    },
    {
     "name": "stdout",
     "output_type": "stream",
     "text": [
      "Grid search new best score discovered at iteration 23/150: 0.8181.\n",
      "---------- ----------\n",
      "Grid search run 24/150:\n",
      "Training with parameters: {'n_jobs': 4, 'early_stopping_rounds': 100, 'random_state': 12345, 'max_bins': 128, 'max_interaction_bins': 32, 'interactions': 10, 'outer_bags': 8, 'inner_bags': 0, 'learning_rate': 0.001, 'validation_size': 0.1, 'min_samples_leaf': 2, 'max_leaves': 3}\n"
     ]
    },
    {
     "name": "stderr",
     "output_type": "stream",
     "text": [
      "/var/folders/s_/psmzh19x55n79gg5ssgdy5p00000gn/T/ipykernel_5042/74914493.py:89: FutureWarning: The frame.append method is deprecated and will be removed from pandas in a future version. Use pandas.concat instead.\n",
      "  ebm_grid_frame = ebm_grid_frame.append(row_dict, ignore_index=True)\n"
     ]
    },
    {
     "name": "stdout",
     "output_type": "stream",
     "text": [
      "---------- ----------\n",
      "Grid search run 25/150:\n",
      "Training with parameters: {'n_jobs': 4, 'early_stopping_rounds': 100, 'random_state': 12345, 'max_bins': 128, 'max_interaction_bins': 16, 'interactions': 10, 'outer_bags': 12, 'inner_bags': 0, 'learning_rate': 0.01, 'validation_size': 0.5, 'min_samples_leaf': 5, 'max_leaves': 5}\n"
     ]
    },
    {
     "name": "stderr",
     "output_type": "stream",
     "text": [
      "/var/folders/s_/psmzh19x55n79gg5ssgdy5p00000gn/T/ipykernel_5042/74914493.py:89: FutureWarning: The frame.append method is deprecated and will be removed from pandas in a future version. Use pandas.concat instead.\n",
      "  ebm_grid_frame = ebm_grid_frame.append(row_dict, ignore_index=True)\n"
     ]
    },
    {
     "name": "stdout",
     "output_type": "stream",
     "text": [
      "---------- ----------\n",
      "Grid search run 26/150:\n",
      "Training with parameters: {'n_jobs': 4, 'early_stopping_rounds': 100, 'random_state': 12345, 'max_bins': 128, 'max_interaction_bins': 32, 'interactions': 10, 'outer_bags': 12, 'inner_bags': 4, 'learning_rate': 0.05, 'validation_size': 0.1, 'min_samples_leaf': 10, 'max_leaves': 5}\n"
     ]
    },
    {
     "name": "stderr",
     "output_type": "stream",
     "text": [
      "/var/folders/s_/psmzh19x55n79gg5ssgdy5p00000gn/T/ipykernel_5042/74914493.py:89: FutureWarning: The frame.append method is deprecated and will be removed from pandas in a future version. Use pandas.concat instead.\n",
      "  ebm_grid_frame = ebm_grid_frame.append(row_dict, ignore_index=True)\n"
     ]
    },
    {
     "name": "stdout",
     "output_type": "stream",
     "text": [
      "---------- ----------\n",
      "Grid search run 27/150:\n",
      "Training with parameters: {'n_jobs': 4, 'early_stopping_rounds': 100, 'random_state': 12345, 'max_bins': 512, 'max_interaction_bins': 64, 'interactions': 15, 'outer_bags': 4, 'inner_bags': 4, 'learning_rate': 0.01, 'validation_size': 0.25, 'min_samples_leaf': 10, 'max_leaves': 5}\n"
     ]
    },
    {
     "name": "stderr",
     "output_type": "stream",
     "text": [
      "/var/folders/s_/psmzh19x55n79gg5ssgdy5p00000gn/T/ipykernel_5042/74914493.py:89: FutureWarning: The frame.append method is deprecated and will be removed from pandas in a future version. Use pandas.concat instead.\n",
      "  ebm_grid_frame = ebm_grid_frame.append(row_dict, ignore_index=True)\n"
     ]
    },
    {
     "name": "stdout",
     "output_type": "stream",
     "text": [
      "---------- ----------\n",
      "Grid search run 28/150:\n",
      "Training with parameters: {'n_jobs': 4, 'early_stopping_rounds': 100, 'random_state': 12345, 'max_bins': 512, 'max_interaction_bins': 64, 'interactions': 5, 'outer_bags': 4, 'inner_bags': 4, 'learning_rate': 0.01, 'validation_size': 0.5, 'min_samples_leaf': 10, 'max_leaves': 5}\n"
     ]
    },
    {
     "name": "stderr",
     "output_type": "stream",
     "text": [
      "/var/folders/s_/psmzh19x55n79gg5ssgdy5p00000gn/T/ipykernel_5042/74914493.py:89: FutureWarning: The frame.append method is deprecated and will be removed from pandas in a future version. Use pandas.concat instead.\n",
      "  ebm_grid_frame = ebm_grid_frame.append(row_dict, ignore_index=True)\n"
     ]
    },
    {
     "name": "stdout",
     "output_type": "stream",
     "text": [
      "Grid search new best score discovered at iteration 28/150: 0.8212.\n",
      "---------- ----------\n",
      "Grid search run 29/150:\n",
      "Training with parameters: {'n_jobs': 4, 'early_stopping_rounds': 100, 'random_state': 12345, 'max_bins': 256, 'max_interaction_bins': 32, 'interactions': 10, 'outer_bags': 4, 'inner_bags': 0, 'learning_rate': 0.05, 'validation_size': 0.5, 'min_samples_leaf': 10, 'max_leaves': 1}\n"
     ]
    },
    {
     "name": "stderr",
     "output_type": "stream",
     "text": [
      "/var/folders/s_/psmzh19x55n79gg5ssgdy5p00000gn/T/ipykernel_5042/74914493.py:89: FutureWarning: The frame.append method is deprecated and will be removed from pandas in a future version. Use pandas.concat instead.\n",
      "  ebm_grid_frame = ebm_grid_frame.append(row_dict, ignore_index=True)\n"
     ]
    },
    {
     "name": "stdout",
     "output_type": "stream",
     "text": [
      "---------- ----------\n",
      "Grid search run 30/150:\n",
      "Training with parameters: {'n_jobs': 4, 'early_stopping_rounds': 100, 'random_state': 12345, 'max_bins': 256, 'max_interaction_bins': 16, 'interactions': 5, 'outer_bags': 8, 'inner_bags': 4, 'learning_rate': 0.05, 'validation_size': 0.25, 'min_samples_leaf': 10, 'max_leaves': 5}\n"
     ]
    },
    {
     "name": "stderr",
     "output_type": "stream",
     "text": [
      "/var/folders/s_/psmzh19x55n79gg5ssgdy5p00000gn/T/ipykernel_5042/74914493.py:89: FutureWarning: The frame.append method is deprecated and will be removed from pandas in a future version. Use pandas.concat instead.\n",
      "  ebm_grid_frame = ebm_grid_frame.append(row_dict, ignore_index=True)\n"
     ]
    },
    {
     "name": "stdout",
     "output_type": "stream",
     "text": [
      "Grid search new best score discovered at iteration 30/150: 0.8222.\n",
      "---------- ----------\n",
      "Grid search run 31/150:\n",
      "Training with parameters: {'n_jobs': 4, 'early_stopping_rounds': 100, 'random_state': 12345, 'max_bins': 128, 'max_interaction_bins': 32, 'interactions': 5, 'outer_bags': 12, 'inner_bags': 0, 'learning_rate': 0.01, 'validation_size': 0.1, 'min_samples_leaf': 5, 'max_leaves': 3}\n"
     ]
    },
    {
     "name": "stderr",
     "output_type": "stream",
     "text": [
      "/var/folders/s_/psmzh19x55n79gg5ssgdy5p00000gn/T/ipykernel_5042/74914493.py:89: FutureWarning: The frame.append method is deprecated and will be removed from pandas in a future version. Use pandas.concat instead.\n",
      "  ebm_grid_frame = ebm_grid_frame.append(row_dict, ignore_index=True)\n"
     ]
    },
    {
     "name": "stdout",
     "output_type": "stream",
     "text": [
      "---------- ----------\n",
      "Grid search run 32/150:\n",
      "Training with parameters: {'n_jobs': 4, 'early_stopping_rounds': 100, 'random_state': 12345, 'max_bins': 256, 'max_interaction_bins': 16, 'interactions': 5, 'outer_bags': 8, 'inner_bags': 0, 'learning_rate': 0.05, 'validation_size': 0.5, 'min_samples_leaf': 2, 'max_leaves': 5}\n"
     ]
    },
    {
     "name": "stderr",
     "output_type": "stream",
     "text": [
      "/var/folders/s_/psmzh19x55n79gg5ssgdy5p00000gn/T/ipykernel_5042/74914493.py:89: FutureWarning: The frame.append method is deprecated and will be removed from pandas in a future version. Use pandas.concat instead.\n",
      "  ebm_grid_frame = ebm_grid_frame.append(row_dict, ignore_index=True)\n"
     ]
    },
    {
     "name": "stdout",
     "output_type": "stream",
     "text": [
      "---------- ----------\n",
      "Grid search run 33/150:\n",
      "Training with parameters: {'n_jobs': 4, 'early_stopping_rounds': 100, 'random_state': 12345, 'max_bins': 512, 'max_interaction_bins': 16, 'interactions': 10, 'outer_bags': 4, 'inner_bags': 4, 'learning_rate': 0.05, 'validation_size': 0.25, 'min_samples_leaf': 10, 'max_leaves': 3}\n"
     ]
    },
    {
     "name": "stderr",
     "output_type": "stream",
     "text": [
      "/var/folders/s_/psmzh19x55n79gg5ssgdy5p00000gn/T/ipykernel_5042/74914493.py:89: FutureWarning: The frame.append method is deprecated and will be removed from pandas in a future version. Use pandas.concat instead.\n",
      "  ebm_grid_frame = ebm_grid_frame.append(row_dict, ignore_index=True)\n"
     ]
    },
    {
     "name": "stdout",
     "output_type": "stream",
     "text": [
      "---------- ----------\n",
      "Grid search run 34/150:\n",
      "Training with parameters: {'n_jobs': 4, 'early_stopping_rounds': 100, 'random_state': 12345, 'max_bins': 128, 'max_interaction_bins': 64, 'interactions': 5, 'outer_bags': 8, 'inner_bags': 0, 'learning_rate': 0.05, 'validation_size': 0.5, 'min_samples_leaf': 2, 'max_leaves': 3}\n"
     ]
    },
    {
     "name": "stderr",
     "output_type": "stream",
     "text": [
      "/var/folders/s_/psmzh19x55n79gg5ssgdy5p00000gn/T/ipykernel_5042/74914493.py:89: FutureWarning: The frame.append method is deprecated and will be removed from pandas in a future version. Use pandas.concat instead.\n",
      "  ebm_grid_frame = ebm_grid_frame.append(row_dict, ignore_index=True)\n"
     ]
    },
    {
     "name": "stdout",
     "output_type": "stream",
     "text": [
      "---------- ----------\n",
      "Grid search run 35/150:\n",
      "Training with parameters: {'n_jobs': 4, 'early_stopping_rounds': 100, 'random_state': 12345, 'max_bins': 256, 'max_interaction_bins': 64, 'interactions': 10, 'outer_bags': 4, 'inner_bags': 4, 'learning_rate': 0.001, 'validation_size': 0.5, 'min_samples_leaf': 1, 'max_leaves': 3}\n"
     ]
    },
    {
     "name": "stderr",
     "output_type": "stream",
     "text": [
      "/var/folders/s_/psmzh19x55n79gg5ssgdy5p00000gn/T/ipykernel_5042/74914493.py:89: FutureWarning: The frame.append method is deprecated and will be removed from pandas in a future version. Use pandas.concat instead.\n",
      "  ebm_grid_frame = ebm_grid_frame.append(row_dict, ignore_index=True)\n"
     ]
    },
    {
     "name": "stdout",
     "output_type": "stream",
     "text": [
      "---------- ----------\n",
      "Grid search run 36/150:\n",
      "Training with parameters: {'n_jobs': 4, 'early_stopping_rounds': 100, 'random_state': 12345, 'max_bins': 256, 'max_interaction_bins': 64, 'interactions': 5, 'outer_bags': 12, 'inner_bags': 4, 'learning_rate': 0.01, 'validation_size': 0.5, 'min_samples_leaf': 2, 'max_leaves': 1}\n"
     ]
    },
    {
     "name": "stderr",
     "output_type": "stream",
     "text": [
      "/var/folders/s_/psmzh19x55n79gg5ssgdy5p00000gn/T/ipykernel_5042/74914493.py:89: FutureWarning: The frame.append method is deprecated and will be removed from pandas in a future version. Use pandas.concat instead.\n",
      "  ebm_grid_frame = ebm_grid_frame.append(row_dict, ignore_index=True)\n"
     ]
    },
    {
     "name": "stdout",
     "output_type": "stream",
     "text": [
      "---------- ----------\n",
      "Grid search run 37/150:\n",
      "Training with parameters: {'n_jobs': 4, 'early_stopping_rounds': 100, 'random_state': 12345, 'max_bins': 512, 'max_interaction_bins': 16, 'interactions': 5, 'outer_bags': 4, 'inner_bags': 4, 'learning_rate': 0.001, 'validation_size': 0.25, 'min_samples_leaf': 2, 'max_leaves': 3}\n"
     ]
    },
    {
     "name": "stderr",
     "output_type": "stream",
     "text": [
      "/var/folders/s_/psmzh19x55n79gg5ssgdy5p00000gn/T/ipykernel_5042/74914493.py:89: FutureWarning: The frame.append method is deprecated and will be removed from pandas in a future version. Use pandas.concat instead.\n",
      "  ebm_grid_frame = ebm_grid_frame.append(row_dict, ignore_index=True)\n"
     ]
    },
    {
     "name": "stdout",
     "output_type": "stream",
     "text": [
      "---------- ----------\n",
      "Grid search run 38/150:\n",
      "Training with parameters: {'n_jobs': 4, 'early_stopping_rounds': 100, 'random_state': 12345, 'max_bins': 256, 'max_interaction_bins': 64, 'interactions': 5, 'outer_bags': 8, 'inner_bags': 0, 'learning_rate': 0.01, 'validation_size': 0.1, 'min_samples_leaf': 5, 'max_leaves': 3}\n"
     ]
    },
    {
     "name": "stderr",
     "output_type": "stream",
     "text": [
      "/var/folders/s_/psmzh19x55n79gg5ssgdy5p00000gn/T/ipykernel_5042/74914493.py:89: FutureWarning: The frame.append method is deprecated and will be removed from pandas in a future version. Use pandas.concat instead.\n",
      "  ebm_grid_frame = ebm_grid_frame.append(row_dict, ignore_index=True)\n"
     ]
    },
    {
     "name": "stdout",
     "output_type": "stream",
     "text": [
      "---------- ----------\n",
      "Grid search run 39/150:\n",
      "Training with parameters: {'n_jobs': 4, 'early_stopping_rounds': 100, 'random_state': 12345, 'max_bins': 256, 'max_interaction_bins': 64, 'interactions': 10, 'outer_bags': 4, 'inner_bags': 0, 'learning_rate': 0.001, 'validation_size': 0.5, 'min_samples_leaf': 2, 'max_leaves': 1}\n"
     ]
    },
    {
     "name": "stderr",
     "output_type": "stream",
     "text": [
      "/var/folders/s_/psmzh19x55n79gg5ssgdy5p00000gn/T/ipykernel_5042/74914493.py:89: FutureWarning: The frame.append method is deprecated and will be removed from pandas in a future version. Use pandas.concat instead.\n",
      "  ebm_grid_frame = ebm_grid_frame.append(row_dict, ignore_index=True)\n"
     ]
    },
    {
     "name": "stdout",
     "output_type": "stream",
     "text": [
      "---------- ----------\n",
      "Grid search run 40/150:\n",
      "Training with parameters: {'n_jobs': 4, 'early_stopping_rounds': 100, 'random_state': 12345, 'max_bins': 256, 'max_interaction_bins': 16, 'interactions': 5, 'outer_bags': 4, 'inner_bags': 0, 'learning_rate': 0.001, 'validation_size': 0.5, 'min_samples_leaf': 10, 'max_leaves': 5}\n"
     ]
    },
    {
     "name": "stderr",
     "output_type": "stream",
     "text": [
      "/var/folders/s_/psmzh19x55n79gg5ssgdy5p00000gn/T/ipykernel_5042/74914493.py:89: FutureWarning: The frame.append method is deprecated and will be removed from pandas in a future version. Use pandas.concat instead.\n",
      "  ebm_grid_frame = ebm_grid_frame.append(row_dict, ignore_index=True)\n"
     ]
    },
    {
     "name": "stdout",
     "output_type": "stream",
     "text": [
      "---------- ----------\n",
      "Grid search run 41/150:\n",
      "Training with parameters: {'n_jobs': 4, 'early_stopping_rounds': 100, 'random_state': 12345, 'max_bins': 128, 'max_interaction_bins': 64, 'interactions': 15, 'outer_bags': 12, 'inner_bags': 0, 'learning_rate': 0.05, 'validation_size': 0.25, 'min_samples_leaf': 5, 'max_leaves': 1}\n"
     ]
    },
    {
     "name": "stderr",
     "output_type": "stream",
     "text": [
      "/var/folders/s_/psmzh19x55n79gg5ssgdy5p00000gn/T/ipykernel_5042/74914493.py:89: FutureWarning: The frame.append method is deprecated and will be removed from pandas in a future version. Use pandas.concat instead.\n",
      "  ebm_grid_frame = ebm_grid_frame.append(row_dict, ignore_index=True)\n"
     ]
    },
    {
     "name": "stdout",
     "output_type": "stream",
     "text": [
      "---------- ----------\n",
      "Grid search run 42/150:\n",
      "Training with parameters: {'n_jobs': 4, 'early_stopping_rounds': 100, 'random_state': 12345, 'max_bins': 128, 'max_interaction_bins': 32, 'interactions': 10, 'outer_bags': 12, 'inner_bags': 4, 'learning_rate': 0.001, 'validation_size': 0.25, 'min_samples_leaf': 2, 'max_leaves': 3}\n"
     ]
    },
    {
     "name": "stderr",
     "output_type": "stream",
     "text": [
      "/var/folders/s_/psmzh19x55n79gg5ssgdy5p00000gn/T/ipykernel_5042/74914493.py:89: FutureWarning: The frame.append method is deprecated and will be removed from pandas in a future version. Use pandas.concat instead.\n",
      "  ebm_grid_frame = ebm_grid_frame.append(row_dict, ignore_index=True)\n"
     ]
    },
    {
     "name": "stdout",
     "output_type": "stream",
     "text": [
      "---------- ----------\n",
      "Grid search run 43/150:\n",
      "Training with parameters: {'n_jobs': 4, 'early_stopping_rounds': 100, 'random_state': 12345, 'max_bins': 256, 'max_interaction_bins': 64, 'interactions': 5, 'outer_bags': 8, 'inner_bags': 0, 'learning_rate': 0.01, 'validation_size': 0.5, 'min_samples_leaf': 10, 'max_leaves': 3}\n"
     ]
    },
    {
     "name": "stderr",
     "output_type": "stream",
     "text": [
      "/var/folders/s_/psmzh19x55n79gg5ssgdy5p00000gn/T/ipykernel_5042/74914493.py:89: FutureWarning: The frame.append method is deprecated and will be removed from pandas in a future version. Use pandas.concat instead.\n",
      "  ebm_grid_frame = ebm_grid_frame.append(row_dict, ignore_index=True)\n"
     ]
    },
    {
     "name": "stdout",
     "output_type": "stream",
     "text": [
      "---------- ----------\n",
      "Grid search run 44/150:\n",
      "Training with parameters: {'n_jobs': 4, 'early_stopping_rounds': 100, 'random_state': 12345, 'max_bins': 256, 'max_interaction_bins': 64, 'interactions': 10, 'outer_bags': 12, 'inner_bags': 0, 'learning_rate': 0.001, 'validation_size': 0.25, 'min_samples_leaf': 1, 'max_leaves': 5}\n"
     ]
    },
    {
     "name": "stderr",
     "output_type": "stream",
     "text": [
      "/var/folders/s_/psmzh19x55n79gg5ssgdy5p00000gn/T/ipykernel_5042/74914493.py:89: FutureWarning: The frame.append method is deprecated and will be removed from pandas in a future version. Use pandas.concat instead.\n",
      "  ebm_grid_frame = ebm_grid_frame.append(row_dict, ignore_index=True)\n"
     ]
    },
    {
     "name": "stdout",
     "output_type": "stream",
     "text": [
      "---------- ----------\n",
      "Grid search run 45/150:\n",
      "Training with parameters: {'n_jobs': 4, 'early_stopping_rounds': 100, 'random_state': 12345, 'max_bins': 256, 'max_interaction_bins': 16, 'interactions': 5, 'outer_bags': 12, 'inner_bags': 4, 'learning_rate': 0.01, 'validation_size': 0.5, 'min_samples_leaf': 10, 'max_leaves': 1}\n"
     ]
    },
    {
     "name": "stderr",
     "output_type": "stream",
     "text": [
      "/var/folders/s_/psmzh19x55n79gg5ssgdy5p00000gn/T/ipykernel_5042/74914493.py:89: FutureWarning: The frame.append method is deprecated and will be removed from pandas in a future version. Use pandas.concat instead.\n",
      "  ebm_grid_frame = ebm_grid_frame.append(row_dict, ignore_index=True)\n"
     ]
    },
    {
     "name": "stdout",
     "output_type": "stream",
     "text": [
      "---------- ----------\n",
      "Grid search run 46/150:\n",
      "Training with parameters: {'n_jobs': 4, 'early_stopping_rounds': 100, 'random_state': 12345, 'max_bins': 128, 'max_interaction_bins': 64, 'interactions': 10, 'outer_bags': 8, 'inner_bags': 0, 'learning_rate': 0.001, 'validation_size': 0.5, 'min_samples_leaf': 10, 'max_leaves': 3}\n"
     ]
    },
    {
     "name": "stderr",
     "output_type": "stream",
     "text": [
      "/var/folders/s_/psmzh19x55n79gg5ssgdy5p00000gn/T/ipykernel_5042/74914493.py:89: FutureWarning: The frame.append method is deprecated and will be removed from pandas in a future version. Use pandas.concat instead.\n",
      "  ebm_grid_frame = ebm_grid_frame.append(row_dict, ignore_index=True)\n"
     ]
    },
    {
     "name": "stdout",
     "output_type": "stream",
     "text": [
      "---------- ----------\n",
      "Grid search run 47/150:\n",
      "Training with parameters: {'n_jobs': 4, 'early_stopping_rounds': 100, 'random_state': 12345, 'max_bins': 256, 'max_interaction_bins': 32, 'interactions': 10, 'outer_bags': 8, 'inner_bags': 4, 'learning_rate': 0.01, 'validation_size': 0.1, 'min_samples_leaf': 1, 'max_leaves': 5}\n"
     ]
    },
    {
     "name": "stderr",
     "output_type": "stream",
     "text": [
      "/var/folders/s_/psmzh19x55n79gg5ssgdy5p00000gn/T/ipykernel_5042/74914493.py:89: FutureWarning: The frame.append method is deprecated and will be removed from pandas in a future version. Use pandas.concat instead.\n",
      "  ebm_grid_frame = ebm_grid_frame.append(row_dict, ignore_index=True)\n"
     ]
    },
    {
     "name": "stdout",
     "output_type": "stream",
     "text": [
      "---------- ----------\n",
      "Grid search run 48/150:\n",
      "Training with parameters: {'n_jobs': 4, 'early_stopping_rounds': 100, 'random_state': 12345, 'max_bins': 256, 'max_interaction_bins': 16, 'interactions': 15, 'outer_bags': 4, 'inner_bags': 0, 'learning_rate': 0.05, 'validation_size': 0.5, 'min_samples_leaf': 1, 'max_leaves': 5}\n"
     ]
    },
    {
     "name": "stderr",
     "output_type": "stream",
     "text": [
      "/var/folders/s_/psmzh19x55n79gg5ssgdy5p00000gn/T/ipykernel_5042/74914493.py:89: FutureWarning: The frame.append method is deprecated and will be removed from pandas in a future version. Use pandas.concat instead.\n",
      "  ebm_grid_frame = ebm_grid_frame.append(row_dict, ignore_index=True)\n"
     ]
    },
    {
     "name": "stdout",
     "output_type": "stream",
     "text": [
      "---------- ----------\n",
      "Grid search run 49/150:\n",
      "Training with parameters: {'n_jobs': 4, 'early_stopping_rounds': 100, 'random_state': 12345, 'max_bins': 128, 'max_interaction_bins': 16, 'interactions': 5, 'outer_bags': 8, 'inner_bags': 0, 'learning_rate': 0.01, 'validation_size': 0.5, 'min_samples_leaf': 2, 'max_leaves': 1}\n"
     ]
    },
    {
     "name": "stderr",
     "output_type": "stream",
     "text": [
      "/var/folders/s_/psmzh19x55n79gg5ssgdy5p00000gn/T/ipykernel_5042/74914493.py:89: FutureWarning: The frame.append method is deprecated and will be removed from pandas in a future version. Use pandas.concat instead.\n",
      "  ebm_grid_frame = ebm_grid_frame.append(row_dict, ignore_index=True)\n"
     ]
    },
    {
     "name": "stdout",
     "output_type": "stream",
     "text": [
      "---------- ----------\n",
      "Grid search run 50/150:\n",
      "Training with parameters: {'n_jobs': 4, 'early_stopping_rounds': 100, 'random_state': 12345, 'max_bins': 256, 'max_interaction_bins': 16, 'interactions': 10, 'outer_bags': 4, 'inner_bags': 0, 'learning_rate': 0.05, 'validation_size': 0.1, 'min_samples_leaf': 1, 'max_leaves': 5}\n"
     ]
    },
    {
     "name": "stderr",
     "output_type": "stream",
     "text": [
      "/var/folders/s_/psmzh19x55n79gg5ssgdy5p00000gn/T/ipykernel_5042/74914493.py:89: FutureWarning: The frame.append method is deprecated and will be removed from pandas in a future version. Use pandas.concat instead.\n",
      "  ebm_grid_frame = ebm_grid_frame.append(row_dict, ignore_index=True)\n"
     ]
    },
    {
     "name": "stdout",
     "output_type": "stream",
     "text": [
      "Grid search new best score discovered at iteration 50/150: 0.8227.\n",
      "---------- ----------\n",
      "Grid search run 51/150:\n",
      "Training with parameters: {'n_jobs': 4, 'early_stopping_rounds': 100, 'random_state': 12345, 'max_bins': 128, 'max_interaction_bins': 16, 'interactions': 15, 'outer_bags': 8, 'inner_bags': 4, 'learning_rate': 0.05, 'validation_size': 0.25, 'min_samples_leaf': 2, 'max_leaves': 1}\n"
     ]
    },
    {
     "name": "stderr",
     "output_type": "stream",
     "text": [
      "/var/folders/s_/psmzh19x55n79gg5ssgdy5p00000gn/T/ipykernel_5042/74914493.py:89: FutureWarning: The frame.append method is deprecated and will be removed from pandas in a future version. Use pandas.concat instead.\n",
      "  ebm_grid_frame = ebm_grid_frame.append(row_dict, ignore_index=True)\n"
     ]
    },
    {
     "name": "stdout",
     "output_type": "stream",
     "text": [
      "---------- ----------\n",
      "Grid search run 52/150:\n",
      "Training with parameters: {'n_jobs': 4, 'early_stopping_rounds': 100, 'random_state': 12345, 'max_bins': 256, 'max_interaction_bins': 64, 'interactions': 5, 'outer_bags': 8, 'inner_bags': 4, 'learning_rate': 0.05, 'validation_size': 0.5, 'min_samples_leaf': 1, 'max_leaves': 5}\n"
     ]
    },
    {
     "name": "stderr",
     "output_type": "stream",
     "text": [
      "/var/folders/s_/psmzh19x55n79gg5ssgdy5p00000gn/T/ipykernel_5042/74914493.py:89: FutureWarning: The frame.append method is deprecated and will be removed from pandas in a future version. Use pandas.concat instead.\n",
      "  ebm_grid_frame = ebm_grid_frame.append(row_dict, ignore_index=True)\n"
     ]
    },
    {
     "name": "stdout",
     "output_type": "stream",
     "text": [
      "---------- ----------\n",
      "Grid search run 53/150:\n",
      "Training with parameters: {'n_jobs': 4, 'early_stopping_rounds': 100, 'random_state': 12345, 'max_bins': 512, 'max_interaction_bins': 64, 'interactions': 5, 'outer_bags': 4, 'inner_bags': 0, 'learning_rate': 0.01, 'validation_size': 0.5, 'min_samples_leaf': 5, 'max_leaves': 3}\n"
     ]
    },
    {
     "name": "stderr",
     "output_type": "stream",
     "text": [
      "/var/folders/s_/psmzh19x55n79gg5ssgdy5p00000gn/T/ipykernel_5042/74914493.py:89: FutureWarning: The frame.append method is deprecated and will be removed from pandas in a future version. Use pandas.concat instead.\n",
      "  ebm_grid_frame = ebm_grid_frame.append(row_dict, ignore_index=True)\n"
     ]
    },
    {
     "name": "stdout",
     "output_type": "stream",
     "text": [
      "---------- ----------\n",
      "Grid search run 54/150:\n",
      "Training with parameters: {'n_jobs': 4, 'early_stopping_rounds': 100, 'random_state': 12345, 'max_bins': 128, 'max_interaction_bins': 64, 'interactions': 15, 'outer_bags': 8, 'inner_bags': 4, 'learning_rate': 0.01, 'validation_size': 0.5, 'min_samples_leaf': 1, 'max_leaves': 1}\n"
     ]
    },
    {
     "name": "stderr",
     "output_type": "stream",
     "text": [
      "/var/folders/s_/psmzh19x55n79gg5ssgdy5p00000gn/T/ipykernel_5042/74914493.py:89: FutureWarning: The frame.append method is deprecated and will be removed from pandas in a future version. Use pandas.concat instead.\n",
      "  ebm_grid_frame = ebm_grid_frame.append(row_dict, ignore_index=True)\n"
     ]
    },
    {
     "name": "stdout",
     "output_type": "stream",
     "text": [
      "---------- ----------\n",
      "Grid search run 55/150:\n",
      "Training with parameters: {'n_jobs': 4, 'early_stopping_rounds': 100, 'random_state': 12345, 'max_bins': 512, 'max_interaction_bins': 64, 'interactions': 15, 'outer_bags': 4, 'inner_bags': 0, 'learning_rate': 0.01, 'validation_size': 0.25, 'min_samples_leaf': 5, 'max_leaves': 1}\n"
     ]
    },
    {
     "name": "stderr",
     "output_type": "stream",
     "text": [
      "/var/folders/s_/psmzh19x55n79gg5ssgdy5p00000gn/T/ipykernel_5042/74914493.py:89: FutureWarning: The frame.append method is deprecated and will be removed from pandas in a future version. Use pandas.concat instead.\n",
      "  ebm_grid_frame = ebm_grid_frame.append(row_dict, ignore_index=True)\n"
     ]
    },
    {
     "name": "stdout",
     "output_type": "stream",
     "text": [
      "---------- ----------\n",
      "Grid search run 56/150:\n",
      "Training with parameters: {'n_jobs': 4, 'early_stopping_rounds': 100, 'random_state': 12345, 'max_bins': 512, 'max_interaction_bins': 16, 'interactions': 5, 'outer_bags': 12, 'inner_bags': 4, 'learning_rate': 0.001, 'validation_size': 0.1, 'min_samples_leaf': 2, 'max_leaves': 5}\n"
     ]
    },
    {
     "name": "stderr",
     "output_type": "stream",
     "text": [
      "/var/folders/s_/psmzh19x55n79gg5ssgdy5p00000gn/T/ipykernel_5042/74914493.py:89: FutureWarning: The frame.append method is deprecated and will be removed from pandas in a future version. Use pandas.concat instead.\n",
      "  ebm_grid_frame = ebm_grid_frame.append(row_dict, ignore_index=True)\n"
     ]
    },
    {
     "name": "stdout",
     "output_type": "stream",
     "text": [
      "---------- ----------\n",
      "Grid search run 57/150:\n",
      "Training with parameters: {'n_jobs': 4, 'early_stopping_rounds': 100, 'random_state': 12345, 'max_bins': 512, 'max_interaction_bins': 64, 'interactions': 15, 'outer_bags': 8, 'inner_bags': 4, 'learning_rate': 0.05, 'validation_size': 0.5, 'min_samples_leaf': 5, 'max_leaves': 5}\n"
     ]
    },
    {
     "name": "stderr",
     "output_type": "stream",
     "text": [
      "/var/folders/s_/psmzh19x55n79gg5ssgdy5p00000gn/T/ipykernel_5042/74914493.py:89: FutureWarning: The frame.append method is deprecated and will be removed from pandas in a future version. Use pandas.concat instead.\n",
      "  ebm_grid_frame = ebm_grid_frame.append(row_dict, ignore_index=True)\n"
     ]
    },
    {
     "name": "stdout",
     "output_type": "stream",
     "text": [
      "---------- ----------\n",
      "Grid search run 58/150:\n",
      "Training with parameters: {'n_jobs': 4, 'early_stopping_rounds': 100, 'random_state': 12345, 'max_bins': 256, 'max_interaction_bins': 64, 'interactions': 15, 'outer_bags': 12, 'inner_bags': 0, 'learning_rate': 0.01, 'validation_size': 0.25, 'min_samples_leaf': 2, 'max_leaves': 3}\n"
     ]
    },
    {
     "name": "stderr",
     "output_type": "stream",
     "text": [
      "/var/folders/s_/psmzh19x55n79gg5ssgdy5p00000gn/T/ipykernel_5042/74914493.py:89: FutureWarning: The frame.append method is deprecated and will be removed from pandas in a future version. Use pandas.concat instead.\n",
      "  ebm_grid_frame = ebm_grid_frame.append(row_dict, ignore_index=True)\n"
     ]
    },
    {
     "name": "stdout",
     "output_type": "stream",
     "text": [
      "---------- ----------\n",
      "Grid search run 59/150:\n",
      "Training with parameters: {'n_jobs': 4, 'early_stopping_rounds': 100, 'random_state': 12345, 'max_bins': 512, 'max_interaction_bins': 16, 'interactions': 5, 'outer_bags': 4, 'inner_bags': 0, 'learning_rate': 0.01, 'validation_size': 0.25, 'min_samples_leaf': 5, 'max_leaves': 5}\n"
     ]
    },
    {
     "name": "stderr",
     "output_type": "stream",
     "text": [
      "/var/folders/s_/psmzh19x55n79gg5ssgdy5p00000gn/T/ipykernel_5042/74914493.py:89: FutureWarning: The frame.append method is deprecated and will be removed from pandas in a future version. Use pandas.concat instead.\n",
      "  ebm_grid_frame = ebm_grid_frame.append(row_dict, ignore_index=True)\n"
     ]
    },
    {
     "name": "stdout",
     "output_type": "stream",
     "text": [
      "---------- ----------\n",
      "Grid search run 60/150:\n",
      "Training with parameters: {'n_jobs': 4, 'early_stopping_rounds': 100, 'random_state': 12345, 'max_bins': 256, 'max_interaction_bins': 16, 'interactions': 5, 'outer_bags': 12, 'inner_bags': 0, 'learning_rate': 0.05, 'validation_size': 0.25, 'min_samples_leaf': 10, 'max_leaves': 3}\n"
     ]
    },
    {
     "name": "stderr",
     "output_type": "stream",
     "text": [
      "/var/folders/s_/psmzh19x55n79gg5ssgdy5p00000gn/T/ipykernel_5042/74914493.py:89: FutureWarning: The frame.append method is deprecated and will be removed from pandas in a future version. Use pandas.concat instead.\n",
      "  ebm_grid_frame = ebm_grid_frame.append(row_dict, ignore_index=True)\n"
     ]
    },
    {
     "name": "stdout",
     "output_type": "stream",
     "text": [
      "---------- ----------\n",
      "Grid search run 61/150:\n",
      "Training with parameters: {'n_jobs': 4, 'early_stopping_rounds': 100, 'random_state': 12345, 'max_bins': 256, 'max_interaction_bins': 64, 'interactions': 15, 'outer_bags': 4, 'inner_bags': 0, 'learning_rate': 0.001, 'validation_size': 0.25, 'min_samples_leaf': 1, 'max_leaves': 3}\n"
     ]
    },
    {
     "name": "stderr",
     "output_type": "stream",
     "text": [
      "/var/folders/s_/psmzh19x55n79gg5ssgdy5p00000gn/T/ipykernel_5042/74914493.py:89: FutureWarning: The frame.append method is deprecated and will be removed from pandas in a future version. Use pandas.concat instead.\n",
      "  ebm_grid_frame = ebm_grid_frame.append(row_dict, ignore_index=True)\n"
     ]
    },
    {
     "name": "stdout",
     "output_type": "stream",
     "text": [
      "---------- ----------\n",
      "Grid search run 62/150:\n",
      "Training with parameters: {'n_jobs': 4, 'early_stopping_rounds': 100, 'random_state': 12345, 'max_bins': 256, 'max_interaction_bins': 16, 'interactions': 10, 'outer_bags': 8, 'inner_bags': 0, 'learning_rate': 0.001, 'validation_size': 0.5, 'min_samples_leaf': 1, 'max_leaves': 3}\n"
     ]
    },
    {
     "name": "stderr",
     "output_type": "stream",
     "text": [
      "/var/folders/s_/psmzh19x55n79gg5ssgdy5p00000gn/T/ipykernel_5042/74914493.py:89: FutureWarning: The frame.append method is deprecated and will be removed from pandas in a future version. Use pandas.concat instead.\n",
      "  ebm_grid_frame = ebm_grid_frame.append(row_dict, ignore_index=True)\n"
     ]
    },
    {
     "name": "stdout",
     "output_type": "stream",
     "text": [
      "---------- ----------\n",
      "Grid search run 63/150:\n",
      "Training with parameters: {'n_jobs': 4, 'early_stopping_rounds': 100, 'random_state': 12345, 'max_bins': 256, 'max_interaction_bins': 16, 'interactions': 5, 'outer_bags': 4, 'inner_bags': 0, 'learning_rate': 0.01, 'validation_size': 0.5, 'min_samples_leaf': 1, 'max_leaves': 3}\n"
     ]
    },
    {
     "name": "stderr",
     "output_type": "stream",
     "text": [
      "/var/folders/s_/psmzh19x55n79gg5ssgdy5p00000gn/T/ipykernel_5042/74914493.py:89: FutureWarning: The frame.append method is deprecated and will be removed from pandas in a future version. Use pandas.concat instead.\n",
      "  ebm_grid_frame = ebm_grid_frame.append(row_dict, ignore_index=True)\n"
     ]
    },
    {
     "name": "stdout",
     "output_type": "stream",
     "text": [
      "---------- ----------\n",
      "Grid search run 64/150:\n",
      "Training with parameters: {'n_jobs': 4, 'early_stopping_rounds': 100, 'random_state': 12345, 'max_bins': 256, 'max_interaction_bins': 64, 'interactions': 5, 'outer_bags': 12, 'inner_bags': 4, 'learning_rate': 0.05, 'validation_size': 0.5, 'min_samples_leaf': 2, 'max_leaves': 5}\n"
     ]
    },
    {
     "name": "stderr",
     "output_type": "stream",
     "text": [
      "/var/folders/s_/psmzh19x55n79gg5ssgdy5p00000gn/T/ipykernel_5042/74914493.py:89: FutureWarning: The frame.append method is deprecated and will be removed from pandas in a future version. Use pandas.concat instead.\n",
      "  ebm_grid_frame = ebm_grid_frame.append(row_dict, ignore_index=True)\n"
     ]
    },
    {
     "name": "stdout",
     "output_type": "stream",
     "text": [
      "---------- ----------\n",
      "Grid search run 65/150:\n",
      "Training with parameters: {'n_jobs': 4, 'early_stopping_rounds': 100, 'random_state': 12345, 'max_bins': 256, 'max_interaction_bins': 64, 'interactions': 5, 'outer_bags': 4, 'inner_bags': 4, 'learning_rate': 0.05, 'validation_size': 0.5, 'min_samples_leaf': 2, 'max_leaves': 1}\n"
     ]
    },
    {
     "name": "stderr",
     "output_type": "stream",
     "text": [
      "/var/folders/s_/psmzh19x55n79gg5ssgdy5p00000gn/T/ipykernel_5042/74914493.py:89: FutureWarning: The frame.append method is deprecated and will be removed from pandas in a future version. Use pandas.concat instead.\n",
      "  ebm_grid_frame = ebm_grid_frame.append(row_dict, ignore_index=True)\n"
     ]
    },
    {
     "name": "stdout",
     "output_type": "stream",
     "text": [
      "---------- ----------\n",
      "Grid search run 66/150:\n",
      "Training with parameters: {'n_jobs': 4, 'early_stopping_rounds': 100, 'random_state': 12345, 'max_bins': 128, 'max_interaction_bins': 16, 'interactions': 15, 'outer_bags': 8, 'inner_bags': 4, 'learning_rate': 0.01, 'validation_size': 0.5, 'min_samples_leaf': 1, 'max_leaves': 5}\n"
     ]
    },
    {
     "name": "stderr",
     "output_type": "stream",
     "text": [
      "/var/folders/s_/psmzh19x55n79gg5ssgdy5p00000gn/T/ipykernel_5042/74914493.py:89: FutureWarning: The frame.append method is deprecated and will be removed from pandas in a future version. Use pandas.concat instead.\n",
      "  ebm_grid_frame = ebm_grid_frame.append(row_dict, ignore_index=True)\n"
     ]
    },
    {
     "name": "stdout",
     "output_type": "stream",
     "text": [
      "Grid search new best score discovered at iteration 66/150: 0.8233.\n",
      "---------- ----------\n",
      "Grid search run 67/150:\n",
      "Training with parameters: {'n_jobs': 4, 'early_stopping_rounds': 100, 'random_state': 12345, 'max_bins': 256, 'max_interaction_bins': 16, 'interactions': 10, 'outer_bags': 4, 'inner_bags': 0, 'learning_rate': 0.01, 'validation_size': 0.5, 'min_samples_leaf': 5, 'max_leaves': 1}\n"
     ]
    },
    {
     "name": "stderr",
     "output_type": "stream",
     "text": [
      "/var/folders/s_/psmzh19x55n79gg5ssgdy5p00000gn/T/ipykernel_5042/74914493.py:89: FutureWarning: The frame.append method is deprecated and will be removed from pandas in a future version. Use pandas.concat instead.\n",
      "  ebm_grid_frame = ebm_grid_frame.append(row_dict, ignore_index=True)\n"
     ]
    },
    {
     "name": "stdout",
     "output_type": "stream",
     "text": [
      "---------- ----------\n",
      "Grid search run 68/150:\n",
      "Training with parameters: {'n_jobs': 4, 'early_stopping_rounds': 100, 'random_state': 12345, 'max_bins': 256, 'max_interaction_bins': 16, 'interactions': 10, 'outer_bags': 12, 'inner_bags': 0, 'learning_rate': 0.01, 'validation_size': 0.1, 'min_samples_leaf': 1, 'max_leaves': 3}\n"
     ]
    },
    {
     "name": "stderr",
     "output_type": "stream",
     "text": [
      "/var/folders/s_/psmzh19x55n79gg5ssgdy5p00000gn/T/ipykernel_5042/74914493.py:89: FutureWarning: The frame.append method is deprecated and will be removed from pandas in a future version. Use pandas.concat instead.\n",
      "  ebm_grid_frame = ebm_grid_frame.append(row_dict, ignore_index=True)\n"
     ]
    },
    {
     "name": "stdout",
     "output_type": "stream",
     "text": [
      "---------- ----------\n",
      "Grid search run 69/150:\n",
      "Training with parameters: {'n_jobs': 4, 'early_stopping_rounds': 100, 'random_state': 12345, 'max_bins': 128, 'max_interaction_bins': 16, 'interactions': 5, 'outer_bags': 4, 'inner_bags': 4, 'learning_rate': 0.001, 'validation_size': 0.1, 'min_samples_leaf': 1, 'max_leaves': 1}\n"
     ]
    },
    {
     "name": "stderr",
     "output_type": "stream",
     "text": [
      "/var/folders/s_/psmzh19x55n79gg5ssgdy5p00000gn/T/ipykernel_5042/74914493.py:89: FutureWarning: The frame.append method is deprecated and will be removed from pandas in a future version. Use pandas.concat instead.\n",
      "  ebm_grid_frame = ebm_grid_frame.append(row_dict, ignore_index=True)\n"
     ]
    },
    {
     "name": "stdout",
     "output_type": "stream",
     "text": [
      "---------- ----------\n",
      "Grid search run 70/150:\n",
      "Training with parameters: {'n_jobs': 4, 'early_stopping_rounds': 100, 'random_state': 12345, 'max_bins': 128, 'max_interaction_bins': 32, 'interactions': 10, 'outer_bags': 4, 'inner_bags': 0, 'learning_rate': 0.01, 'validation_size': 0.5, 'min_samples_leaf': 10, 'max_leaves': 3}\n"
     ]
    },
    {
     "name": "stderr",
     "output_type": "stream",
     "text": [
      "/var/folders/s_/psmzh19x55n79gg5ssgdy5p00000gn/T/ipykernel_5042/74914493.py:89: FutureWarning: The frame.append method is deprecated and will be removed from pandas in a future version. Use pandas.concat instead.\n",
      "  ebm_grid_frame = ebm_grid_frame.append(row_dict, ignore_index=True)\n"
     ]
    },
    {
     "name": "stdout",
     "output_type": "stream",
     "text": [
      "---------- ----------\n",
      "Grid search run 71/150:\n",
      "Training with parameters: {'n_jobs': 4, 'early_stopping_rounds': 100, 'random_state': 12345, 'max_bins': 128, 'max_interaction_bins': 16, 'interactions': 5, 'outer_bags': 8, 'inner_bags': 4, 'learning_rate': 0.05, 'validation_size': 0.25, 'min_samples_leaf': 1, 'max_leaves': 3}\n"
     ]
    },
    {
     "name": "stderr",
     "output_type": "stream",
     "text": [
      "/var/folders/s_/psmzh19x55n79gg5ssgdy5p00000gn/T/ipykernel_5042/74914493.py:89: FutureWarning: The frame.append method is deprecated and will be removed from pandas in a future version. Use pandas.concat instead.\n",
      "  ebm_grid_frame = ebm_grid_frame.append(row_dict, ignore_index=True)\n"
     ]
    },
    {
     "name": "stdout",
     "output_type": "stream",
     "text": [
      "---------- ----------\n",
      "Grid search run 72/150:\n",
      "Training with parameters: {'n_jobs': 4, 'early_stopping_rounds': 100, 'random_state': 12345, 'max_bins': 256, 'max_interaction_bins': 32, 'interactions': 15, 'outer_bags': 8, 'inner_bags': 4, 'learning_rate': 0.05, 'validation_size': 0.25, 'min_samples_leaf': 1, 'max_leaves': 1}\n"
     ]
    },
    {
     "name": "stderr",
     "output_type": "stream",
     "text": [
      "/var/folders/s_/psmzh19x55n79gg5ssgdy5p00000gn/T/ipykernel_5042/74914493.py:89: FutureWarning: The frame.append method is deprecated and will be removed from pandas in a future version. Use pandas.concat instead.\n",
      "  ebm_grid_frame = ebm_grid_frame.append(row_dict, ignore_index=True)\n"
     ]
    },
    {
     "name": "stdout",
     "output_type": "stream",
     "text": [
      "---------- ----------\n",
      "Grid search run 73/150:\n",
      "Training with parameters: {'n_jobs': 4, 'early_stopping_rounds': 100, 'random_state': 12345, 'max_bins': 256, 'max_interaction_bins': 32, 'interactions': 5, 'outer_bags': 4, 'inner_bags': 0, 'learning_rate': 0.01, 'validation_size': 0.1, 'min_samples_leaf': 10, 'max_leaves': 5}\n"
     ]
    },
    {
     "name": "stderr",
     "output_type": "stream",
     "text": [
      "/var/folders/s_/psmzh19x55n79gg5ssgdy5p00000gn/T/ipykernel_5042/74914493.py:89: FutureWarning: The frame.append method is deprecated and will be removed from pandas in a future version. Use pandas.concat instead.\n",
      "  ebm_grid_frame = ebm_grid_frame.append(row_dict, ignore_index=True)\n"
     ]
    },
    {
     "name": "stdout",
     "output_type": "stream",
     "text": [
      "---------- ----------\n",
      "Grid search run 74/150:\n",
      "Training with parameters: {'n_jobs': 4, 'early_stopping_rounds': 100, 'random_state': 12345, 'max_bins': 128, 'max_interaction_bins': 64, 'interactions': 10, 'outer_bags': 12, 'inner_bags': 4, 'learning_rate': 0.05, 'validation_size': 0.1, 'min_samples_leaf': 2, 'max_leaves': 3}\n"
     ]
    },
    {
     "name": "stderr",
     "output_type": "stream",
     "text": [
      "/var/folders/s_/psmzh19x55n79gg5ssgdy5p00000gn/T/ipykernel_5042/74914493.py:89: FutureWarning: The frame.append method is deprecated and will be removed from pandas in a future version. Use pandas.concat instead.\n",
      "  ebm_grid_frame = ebm_grid_frame.append(row_dict, ignore_index=True)\n"
     ]
    },
    {
     "name": "stdout",
     "output_type": "stream",
     "text": [
      "Grid search new best score discovered at iteration 74/150: 0.8236.\n",
      "---------- ----------\n",
      "Grid search run 75/150:\n",
      "Training with parameters: {'n_jobs': 4, 'early_stopping_rounds': 100, 'random_state': 12345, 'max_bins': 128, 'max_interaction_bins': 16, 'interactions': 15, 'outer_bags': 8, 'inner_bags': 4, 'learning_rate': 0.001, 'validation_size': 0.25, 'min_samples_leaf': 1, 'max_leaves': 1}\n"
     ]
    },
    {
     "name": "stderr",
     "output_type": "stream",
     "text": [
      "/var/folders/s_/psmzh19x55n79gg5ssgdy5p00000gn/T/ipykernel_5042/74914493.py:89: FutureWarning: The frame.append method is deprecated and will be removed from pandas in a future version. Use pandas.concat instead.\n",
      "  ebm_grid_frame = ebm_grid_frame.append(row_dict, ignore_index=True)\n"
     ]
    },
    {
     "name": "stdout",
     "output_type": "stream",
     "text": [
      "---------- ----------\n",
      "Grid search run 76/150:\n",
      "Training with parameters: {'n_jobs': 4, 'early_stopping_rounds': 100, 'random_state': 12345, 'max_bins': 256, 'max_interaction_bins': 64, 'interactions': 5, 'outer_bags': 12, 'inner_bags': 4, 'learning_rate': 0.01, 'validation_size': 0.25, 'min_samples_leaf': 1, 'max_leaves': 3}\n"
     ]
    },
    {
     "name": "stderr",
     "output_type": "stream",
     "text": [
      "/var/folders/s_/psmzh19x55n79gg5ssgdy5p00000gn/T/ipykernel_5042/74914493.py:89: FutureWarning: The frame.append method is deprecated and will be removed from pandas in a future version. Use pandas.concat instead.\n",
      "  ebm_grid_frame = ebm_grid_frame.append(row_dict, ignore_index=True)\n"
     ]
    },
    {
     "name": "stdout",
     "output_type": "stream",
     "text": [
      "---------- ----------\n",
      "Grid search run 77/150:\n",
      "Training with parameters: {'n_jobs': 4, 'early_stopping_rounds': 100, 'random_state': 12345, 'max_bins': 512, 'max_interaction_bins': 32, 'interactions': 5, 'outer_bags': 12, 'inner_bags': 0, 'learning_rate': 0.01, 'validation_size': 0.1, 'min_samples_leaf': 5, 'max_leaves': 5}\n"
     ]
    },
    {
     "name": "stderr",
     "output_type": "stream",
     "text": [
      "/var/folders/s_/psmzh19x55n79gg5ssgdy5p00000gn/T/ipykernel_5042/74914493.py:89: FutureWarning: The frame.append method is deprecated and will be removed from pandas in a future version. Use pandas.concat instead.\n",
      "  ebm_grid_frame = ebm_grid_frame.append(row_dict, ignore_index=True)\n"
     ]
    },
    {
     "name": "stdout",
     "output_type": "stream",
     "text": [
      "---------- ----------\n",
      "Grid search run 78/150:\n",
      "Training with parameters: {'n_jobs': 4, 'early_stopping_rounds': 100, 'random_state': 12345, 'max_bins': 512, 'max_interaction_bins': 32, 'interactions': 10, 'outer_bags': 8, 'inner_bags': 4, 'learning_rate': 0.001, 'validation_size': 0.5, 'min_samples_leaf': 1, 'max_leaves': 3}\n"
     ]
    },
    {
     "name": "stderr",
     "output_type": "stream",
     "text": [
      "/var/folders/s_/psmzh19x55n79gg5ssgdy5p00000gn/T/ipykernel_5042/74914493.py:89: FutureWarning: The frame.append method is deprecated and will be removed from pandas in a future version. Use pandas.concat instead.\n",
      "  ebm_grid_frame = ebm_grid_frame.append(row_dict, ignore_index=True)\n"
     ]
    },
    {
     "name": "stdout",
     "output_type": "stream",
     "text": [
      "---------- ----------\n",
      "Grid search run 79/150:\n",
      "Training with parameters: {'n_jobs': 4, 'early_stopping_rounds': 100, 'random_state': 12345, 'max_bins': 256, 'max_interaction_bins': 64, 'interactions': 15, 'outer_bags': 12, 'inner_bags': 0, 'learning_rate': 0.05, 'validation_size': 0.1, 'min_samples_leaf': 2, 'max_leaves': 5}\n"
     ]
    },
    {
     "name": "stderr",
     "output_type": "stream",
     "text": [
      "/var/folders/s_/psmzh19x55n79gg5ssgdy5p00000gn/T/ipykernel_5042/74914493.py:89: FutureWarning: The frame.append method is deprecated and will be removed from pandas in a future version. Use pandas.concat instead.\n",
      "  ebm_grid_frame = ebm_grid_frame.append(row_dict, ignore_index=True)\n"
     ]
    },
    {
     "name": "stdout",
     "output_type": "stream",
     "text": [
      "Grid search new best score discovered at iteration 79/150: 0.8251.\n",
      "---------- ----------\n",
      "Grid search run 80/150:\n",
      "Training with parameters: {'n_jobs': 4, 'early_stopping_rounds': 100, 'random_state': 12345, 'max_bins': 512, 'max_interaction_bins': 16, 'interactions': 15, 'outer_bags': 12, 'inner_bags': 0, 'learning_rate': 0.01, 'validation_size': 0.1, 'min_samples_leaf': 10, 'max_leaves': 3}\n"
     ]
    },
    {
     "name": "stderr",
     "output_type": "stream",
     "text": [
      "/var/folders/s_/psmzh19x55n79gg5ssgdy5p00000gn/T/ipykernel_5042/74914493.py:89: FutureWarning: The frame.append method is deprecated and will be removed from pandas in a future version. Use pandas.concat instead.\n",
      "  ebm_grid_frame = ebm_grid_frame.append(row_dict, ignore_index=True)\n"
     ]
    },
    {
     "name": "stdout",
     "output_type": "stream",
     "text": [
      "---------- ----------\n",
      "Grid search run 81/150:\n",
      "Training with parameters: {'n_jobs': 4, 'early_stopping_rounds': 100, 'random_state': 12345, 'max_bins': 128, 'max_interaction_bins': 16, 'interactions': 5, 'outer_bags': 12, 'inner_bags': 0, 'learning_rate': 0.05, 'validation_size': 0.1, 'min_samples_leaf': 10, 'max_leaves': 3}\n"
     ]
    },
    {
     "name": "stderr",
     "output_type": "stream",
     "text": [
      "/var/folders/s_/psmzh19x55n79gg5ssgdy5p00000gn/T/ipykernel_5042/74914493.py:89: FutureWarning: The frame.append method is deprecated and will be removed from pandas in a future version. Use pandas.concat instead.\n",
      "  ebm_grid_frame = ebm_grid_frame.append(row_dict, ignore_index=True)\n"
     ]
    },
    {
     "name": "stdout",
     "output_type": "stream",
     "text": [
      "---------- ----------\n",
      "Grid search run 82/150:\n",
      "Training with parameters: {'n_jobs': 4, 'early_stopping_rounds': 100, 'random_state': 12345, 'max_bins': 128, 'max_interaction_bins': 16, 'interactions': 15, 'outer_bags': 4, 'inner_bags': 4, 'learning_rate': 0.05, 'validation_size': 0.25, 'min_samples_leaf': 5, 'max_leaves': 5}\n"
     ]
    },
    {
     "name": "stderr",
     "output_type": "stream",
     "text": [
      "/var/folders/s_/psmzh19x55n79gg5ssgdy5p00000gn/T/ipykernel_5042/74914493.py:89: FutureWarning: The frame.append method is deprecated and will be removed from pandas in a future version. Use pandas.concat instead.\n",
      "  ebm_grid_frame = ebm_grid_frame.append(row_dict, ignore_index=True)\n"
     ]
    },
    {
     "name": "stdout",
     "output_type": "stream",
     "text": [
      "---------- ----------\n",
      "Grid search run 83/150:\n",
      "Training with parameters: {'n_jobs': 4, 'early_stopping_rounds': 100, 'random_state': 12345, 'max_bins': 512, 'max_interaction_bins': 32, 'interactions': 10, 'outer_bags': 8, 'inner_bags': 0, 'learning_rate': 0.01, 'validation_size': 0.1, 'min_samples_leaf': 2, 'max_leaves': 3}\n"
     ]
    },
    {
     "name": "stderr",
     "output_type": "stream",
     "text": [
      "/var/folders/s_/psmzh19x55n79gg5ssgdy5p00000gn/T/ipykernel_5042/74914493.py:89: FutureWarning: The frame.append method is deprecated and will be removed from pandas in a future version. Use pandas.concat instead.\n",
      "  ebm_grid_frame = ebm_grid_frame.append(row_dict, ignore_index=True)\n"
     ]
    },
    {
     "name": "stdout",
     "output_type": "stream",
     "text": [
      "---------- ----------\n",
      "Grid search run 84/150:\n",
      "Training with parameters: {'n_jobs': 4, 'early_stopping_rounds': 100, 'random_state': 12345, 'max_bins': 128, 'max_interaction_bins': 16, 'interactions': 10, 'outer_bags': 8, 'inner_bags': 0, 'learning_rate': 0.05, 'validation_size': 0.1, 'min_samples_leaf': 1, 'max_leaves': 3}\n"
     ]
    },
    {
     "name": "stderr",
     "output_type": "stream",
     "text": [
      "/var/folders/s_/psmzh19x55n79gg5ssgdy5p00000gn/T/ipykernel_5042/74914493.py:89: FutureWarning: The frame.append method is deprecated and will be removed from pandas in a future version. Use pandas.concat instead.\n",
      "  ebm_grid_frame = ebm_grid_frame.append(row_dict, ignore_index=True)\n"
     ]
    },
    {
     "name": "stdout",
     "output_type": "stream",
     "text": [
      "---------- ----------\n",
      "Grid search run 85/150:\n",
      "Training with parameters: {'n_jobs': 4, 'early_stopping_rounds': 100, 'random_state': 12345, 'max_bins': 256, 'max_interaction_bins': 32, 'interactions': 15, 'outer_bags': 12, 'inner_bags': 4, 'learning_rate': 0.001, 'validation_size': 0.25, 'min_samples_leaf': 10, 'max_leaves': 5}\n"
     ]
    },
    {
     "name": "stderr",
     "output_type": "stream",
     "text": [
      "/var/folders/s_/psmzh19x55n79gg5ssgdy5p00000gn/T/ipykernel_5042/74914493.py:89: FutureWarning: The frame.append method is deprecated and will be removed from pandas in a future version. Use pandas.concat instead.\n",
      "  ebm_grid_frame = ebm_grid_frame.append(row_dict, ignore_index=True)\n"
     ]
    },
    {
     "name": "stdout",
     "output_type": "stream",
     "text": [
      "---------- ----------\n",
      "Grid search run 86/150:\n",
      "Training with parameters: {'n_jobs': 4, 'early_stopping_rounds': 100, 'random_state': 12345, 'max_bins': 256, 'max_interaction_bins': 64, 'interactions': 15, 'outer_bags': 12, 'inner_bags': 4, 'learning_rate': 0.001, 'validation_size': 0.25, 'min_samples_leaf': 2, 'max_leaves': 1}\n"
     ]
    },
    {
     "name": "stderr",
     "output_type": "stream",
     "text": [
      "/var/folders/s_/psmzh19x55n79gg5ssgdy5p00000gn/T/ipykernel_5042/74914493.py:89: FutureWarning: The frame.append method is deprecated and will be removed from pandas in a future version. Use pandas.concat instead.\n",
      "  ebm_grid_frame = ebm_grid_frame.append(row_dict, ignore_index=True)\n"
     ]
    },
    {
     "name": "stdout",
     "output_type": "stream",
     "text": [
      "---------- ----------\n",
      "Grid search run 87/150:\n",
      "Training with parameters: {'n_jobs': 4, 'early_stopping_rounds': 100, 'random_state': 12345, 'max_bins': 512, 'max_interaction_bins': 32, 'interactions': 5, 'outer_bags': 8, 'inner_bags': 0, 'learning_rate': 0.001, 'validation_size': 0.5, 'min_samples_leaf': 1, 'max_leaves': 1}\n"
     ]
    },
    {
     "name": "stderr",
     "output_type": "stream",
     "text": [
      "/var/folders/s_/psmzh19x55n79gg5ssgdy5p00000gn/T/ipykernel_5042/74914493.py:89: FutureWarning: The frame.append method is deprecated and will be removed from pandas in a future version. Use pandas.concat instead.\n",
      "  ebm_grid_frame = ebm_grid_frame.append(row_dict, ignore_index=True)\n"
     ]
    },
    {
     "name": "stdout",
     "output_type": "stream",
     "text": [
      "---------- ----------\n",
      "Grid search run 88/150:\n",
      "Training with parameters: {'n_jobs': 4, 'early_stopping_rounds': 100, 'random_state': 12345, 'max_bins': 256, 'max_interaction_bins': 64, 'interactions': 10, 'outer_bags': 12, 'inner_bags': 4, 'learning_rate': 0.05, 'validation_size': 0.1, 'min_samples_leaf': 2, 'max_leaves': 5}\n"
     ]
    },
    {
     "name": "stderr",
     "output_type": "stream",
     "text": [
      "/var/folders/s_/psmzh19x55n79gg5ssgdy5p00000gn/T/ipykernel_5042/74914493.py:89: FutureWarning: The frame.append method is deprecated and will be removed from pandas in a future version. Use pandas.concat instead.\n",
      "  ebm_grid_frame = ebm_grid_frame.append(row_dict, ignore_index=True)\n"
     ]
    },
    {
     "name": "stdout",
     "output_type": "stream",
     "text": [
      "---------- ----------\n",
      "Grid search run 89/150:\n",
      "Training with parameters: {'n_jobs': 4, 'early_stopping_rounds': 100, 'random_state': 12345, 'max_bins': 128, 'max_interaction_bins': 64, 'interactions': 5, 'outer_bags': 8, 'inner_bags': 0, 'learning_rate': 0.01, 'validation_size': 0.5, 'min_samples_leaf': 10, 'max_leaves': 3}\n"
     ]
    },
    {
     "name": "stderr",
     "output_type": "stream",
     "text": [
      "/var/folders/s_/psmzh19x55n79gg5ssgdy5p00000gn/T/ipykernel_5042/74914493.py:89: FutureWarning: The frame.append method is deprecated and will be removed from pandas in a future version. Use pandas.concat instead.\n",
      "  ebm_grid_frame = ebm_grid_frame.append(row_dict, ignore_index=True)\n"
     ]
    },
    {
     "name": "stdout",
     "output_type": "stream",
     "text": [
      "---------- ----------\n",
      "Grid search run 90/150:\n",
      "Training with parameters: {'n_jobs': 4, 'early_stopping_rounds': 100, 'random_state': 12345, 'max_bins': 512, 'max_interaction_bins': 64, 'interactions': 15, 'outer_bags': 4, 'inner_bags': 4, 'learning_rate': 0.001, 'validation_size': 0.1, 'min_samples_leaf': 1, 'max_leaves': 3}\n"
     ]
    },
    {
     "name": "stderr",
     "output_type": "stream",
     "text": [
      "/var/folders/s_/psmzh19x55n79gg5ssgdy5p00000gn/T/ipykernel_5042/74914493.py:89: FutureWarning: The frame.append method is deprecated and will be removed from pandas in a future version. Use pandas.concat instead.\n",
      "  ebm_grid_frame = ebm_grid_frame.append(row_dict, ignore_index=True)\n"
     ]
    },
    {
     "name": "stdout",
     "output_type": "stream",
     "text": [
      "---------- ----------\n",
      "Grid search run 91/150:\n",
      "Training with parameters: {'n_jobs': 4, 'early_stopping_rounds': 100, 'random_state': 12345, 'max_bins': 256, 'max_interaction_bins': 32, 'interactions': 5, 'outer_bags': 4, 'inner_bags': 4, 'learning_rate': 0.001, 'validation_size': 0.5, 'min_samples_leaf': 10, 'max_leaves': 3}\n"
     ]
    },
    {
     "name": "stderr",
     "output_type": "stream",
     "text": [
      "/var/folders/s_/psmzh19x55n79gg5ssgdy5p00000gn/T/ipykernel_5042/74914493.py:89: FutureWarning: The frame.append method is deprecated and will be removed from pandas in a future version. Use pandas.concat instead.\n",
      "  ebm_grid_frame = ebm_grid_frame.append(row_dict, ignore_index=True)\n"
     ]
    },
    {
     "name": "stdout",
     "output_type": "stream",
     "text": [
      "---------- ----------\n",
      "Grid search run 92/150:\n",
      "Training with parameters: {'n_jobs': 4, 'early_stopping_rounds': 100, 'random_state': 12345, 'max_bins': 512, 'max_interaction_bins': 16, 'interactions': 5, 'outer_bags': 8, 'inner_bags': 4, 'learning_rate': 0.01, 'validation_size': 0.5, 'min_samples_leaf': 5, 'max_leaves': 5}\n"
     ]
    },
    {
     "name": "stderr",
     "output_type": "stream",
     "text": [
      "/var/folders/s_/psmzh19x55n79gg5ssgdy5p00000gn/T/ipykernel_5042/74914493.py:89: FutureWarning: The frame.append method is deprecated and will be removed from pandas in a future version. Use pandas.concat instead.\n",
      "  ebm_grid_frame = ebm_grid_frame.append(row_dict, ignore_index=True)\n"
     ]
    },
    {
     "name": "stdout",
     "output_type": "stream",
     "text": [
      "---------- ----------\n",
      "Grid search run 93/150:\n",
      "Training with parameters: {'n_jobs': 4, 'early_stopping_rounds': 100, 'random_state': 12345, 'max_bins': 128, 'max_interaction_bins': 64, 'interactions': 5, 'outer_bags': 8, 'inner_bags': 4, 'learning_rate': 0.001, 'validation_size': 0.1, 'min_samples_leaf': 2, 'max_leaves': 5}\n"
     ]
    },
    {
     "name": "stderr",
     "output_type": "stream",
     "text": [
      "/var/folders/s_/psmzh19x55n79gg5ssgdy5p00000gn/T/ipykernel_5042/74914493.py:89: FutureWarning: The frame.append method is deprecated and will be removed from pandas in a future version. Use pandas.concat instead.\n",
      "  ebm_grid_frame = ebm_grid_frame.append(row_dict, ignore_index=True)\n"
     ]
    },
    {
     "name": "stdout",
     "output_type": "stream",
     "text": [
      "---------- ----------\n",
      "Grid search run 94/150:\n",
      "Training with parameters: {'n_jobs': 4, 'early_stopping_rounds': 100, 'random_state': 12345, 'max_bins': 512, 'max_interaction_bins': 32, 'interactions': 10, 'outer_bags': 4, 'inner_bags': 0, 'learning_rate': 0.001, 'validation_size': 0.1, 'min_samples_leaf': 5, 'max_leaves': 3}\n"
     ]
    },
    {
     "name": "stderr",
     "output_type": "stream",
     "text": [
      "/var/folders/s_/psmzh19x55n79gg5ssgdy5p00000gn/T/ipykernel_5042/74914493.py:89: FutureWarning: The frame.append method is deprecated and will be removed from pandas in a future version. Use pandas.concat instead.\n",
      "  ebm_grid_frame = ebm_grid_frame.append(row_dict, ignore_index=True)\n"
     ]
    },
    {
     "name": "stdout",
     "output_type": "stream",
     "text": [
      "---------- ----------\n",
      "Grid search run 95/150:\n",
      "Training with parameters: {'n_jobs': 4, 'early_stopping_rounds': 100, 'random_state': 12345, 'max_bins': 128, 'max_interaction_bins': 32, 'interactions': 10, 'outer_bags': 8, 'inner_bags': 4, 'learning_rate': 0.001, 'validation_size': 0.1, 'min_samples_leaf': 5, 'max_leaves': 5}\n"
     ]
    },
    {
     "name": "stderr",
     "output_type": "stream",
     "text": [
      "/var/folders/s_/psmzh19x55n79gg5ssgdy5p00000gn/T/ipykernel_5042/74914493.py:89: FutureWarning: The frame.append method is deprecated and will be removed from pandas in a future version. Use pandas.concat instead.\n",
      "  ebm_grid_frame = ebm_grid_frame.append(row_dict, ignore_index=True)\n"
     ]
    },
    {
     "name": "stdout",
     "output_type": "stream",
     "text": [
      "---------- ----------\n",
      "Grid search run 96/150:\n",
      "Training with parameters: {'n_jobs': 4, 'early_stopping_rounds': 100, 'random_state': 12345, 'max_bins': 128, 'max_interaction_bins': 64, 'interactions': 5, 'outer_bags': 4, 'inner_bags': 4, 'learning_rate': 0.01, 'validation_size': 0.5, 'min_samples_leaf': 1, 'max_leaves': 3}\n"
     ]
    },
    {
     "name": "stderr",
     "output_type": "stream",
     "text": [
      "/var/folders/s_/psmzh19x55n79gg5ssgdy5p00000gn/T/ipykernel_5042/74914493.py:89: FutureWarning: The frame.append method is deprecated and will be removed from pandas in a future version. Use pandas.concat instead.\n",
      "  ebm_grid_frame = ebm_grid_frame.append(row_dict, ignore_index=True)\n"
     ]
    },
    {
     "name": "stdout",
     "output_type": "stream",
     "text": [
      "---------- ----------\n",
      "Grid search run 97/150:\n",
      "Training with parameters: {'n_jobs': 4, 'early_stopping_rounds': 100, 'random_state': 12345, 'max_bins': 512, 'max_interaction_bins': 16, 'interactions': 15, 'outer_bags': 12, 'inner_bags': 4, 'learning_rate': 0.01, 'validation_size': 0.1, 'min_samples_leaf': 5, 'max_leaves': 5}\n"
     ]
    },
    {
     "name": "stderr",
     "output_type": "stream",
     "text": [
      "/var/folders/s_/psmzh19x55n79gg5ssgdy5p00000gn/T/ipykernel_5042/74914493.py:89: FutureWarning: The frame.append method is deprecated and will be removed from pandas in a future version. Use pandas.concat instead.\n",
      "  ebm_grid_frame = ebm_grid_frame.append(row_dict, ignore_index=True)\n"
     ]
    },
    {
     "name": "stdout",
     "output_type": "stream",
     "text": [
      "---------- ----------\n",
      "Grid search run 98/150:\n",
      "Training with parameters: {'n_jobs': 4, 'early_stopping_rounds': 100, 'random_state': 12345, 'max_bins': 128, 'max_interaction_bins': 32, 'interactions': 5, 'outer_bags': 12, 'inner_bags': 4, 'learning_rate': 0.05, 'validation_size': 0.5, 'min_samples_leaf': 2, 'max_leaves': 5}\n"
     ]
    },
    {
     "name": "stderr",
     "output_type": "stream",
     "text": [
      "/var/folders/s_/psmzh19x55n79gg5ssgdy5p00000gn/T/ipykernel_5042/74914493.py:89: FutureWarning: The frame.append method is deprecated and will be removed from pandas in a future version. Use pandas.concat instead.\n",
      "  ebm_grid_frame = ebm_grid_frame.append(row_dict, ignore_index=True)\n"
     ]
    },
    {
     "name": "stdout",
     "output_type": "stream",
     "text": [
      "---------- ----------\n",
      "Grid search run 99/150:\n",
      "Training with parameters: {'n_jobs': 4, 'early_stopping_rounds': 100, 'random_state': 12345, 'max_bins': 256, 'max_interaction_bins': 64, 'interactions': 15, 'outer_bags': 8, 'inner_bags': 4, 'learning_rate': 0.001, 'validation_size': 0.25, 'min_samples_leaf': 5, 'max_leaves': 5}\n"
     ]
    },
    {
     "name": "stderr",
     "output_type": "stream",
     "text": [
      "/var/folders/s_/psmzh19x55n79gg5ssgdy5p00000gn/T/ipykernel_5042/74914493.py:89: FutureWarning: The frame.append method is deprecated and will be removed from pandas in a future version. Use pandas.concat instead.\n",
      "  ebm_grid_frame = ebm_grid_frame.append(row_dict, ignore_index=True)\n"
     ]
    },
    {
     "name": "stdout",
     "output_type": "stream",
     "text": [
      "---------- ----------\n",
      "Grid search run 100/150:\n",
      "Training with parameters: {'n_jobs': 4, 'early_stopping_rounds': 100, 'random_state': 12345, 'max_bins': 512, 'max_interaction_bins': 32, 'interactions': 5, 'outer_bags': 8, 'inner_bags': 0, 'learning_rate': 0.01, 'validation_size': 0.5, 'min_samples_leaf': 1, 'max_leaves': 5}\n"
     ]
    },
    {
     "name": "stderr",
     "output_type": "stream",
     "text": [
      "/var/folders/s_/psmzh19x55n79gg5ssgdy5p00000gn/T/ipykernel_5042/74914493.py:89: FutureWarning: The frame.append method is deprecated and will be removed from pandas in a future version. Use pandas.concat instead.\n",
      "  ebm_grid_frame = ebm_grid_frame.append(row_dict, ignore_index=True)\n"
     ]
    },
    {
     "name": "stdout",
     "output_type": "stream",
     "text": [
      "---------- ----------\n",
      "Grid search run 101/150:\n",
      "Training with parameters: {'n_jobs': 4, 'early_stopping_rounds': 100, 'random_state': 12345, 'max_bins': 512, 'max_interaction_bins': 16, 'interactions': 10, 'outer_bags': 12, 'inner_bags': 0, 'learning_rate': 0.001, 'validation_size': 0.5, 'min_samples_leaf': 1, 'max_leaves': 1}\n"
     ]
    },
    {
     "name": "stderr",
     "output_type": "stream",
     "text": [
      "/var/folders/s_/psmzh19x55n79gg5ssgdy5p00000gn/T/ipykernel_5042/74914493.py:89: FutureWarning: The frame.append method is deprecated and will be removed from pandas in a future version. Use pandas.concat instead.\n",
      "  ebm_grid_frame = ebm_grid_frame.append(row_dict, ignore_index=True)\n"
     ]
    },
    {
     "name": "stdout",
     "output_type": "stream",
     "text": [
      "---------- ----------\n",
      "Grid search run 102/150:\n",
      "Training with parameters: {'n_jobs': 4, 'early_stopping_rounds': 100, 'random_state': 12345, 'max_bins': 256, 'max_interaction_bins': 16, 'interactions': 15, 'outer_bags': 4, 'inner_bags': 4, 'learning_rate': 0.05, 'validation_size': 0.1, 'min_samples_leaf': 10, 'max_leaves': 5}\n"
     ]
    },
    {
     "name": "stderr",
     "output_type": "stream",
     "text": [
      "/var/folders/s_/psmzh19x55n79gg5ssgdy5p00000gn/T/ipykernel_5042/74914493.py:89: FutureWarning: The frame.append method is deprecated and will be removed from pandas in a future version. Use pandas.concat instead.\n",
      "  ebm_grid_frame = ebm_grid_frame.append(row_dict, ignore_index=True)\n"
     ]
    },
    {
     "name": "stdout",
     "output_type": "stream",
     "text": [
      "---------- ----------\n",
      "Grid search run 103/150:\n",
      "Training with parameters: {'n_jobs': 4, 'early_stopping_rounds': 100, 'random_state': 12345, 'max_bins': 256, 'max_interaction_bins': 64, 'interactions': 10, 'outer_bags': 4, 'inner_bags': 0, 'learning_rate': 0.05, 'validation_size': 0.1, 'min_samples_leaf': 10, 'max_leaves': 3}\n"
     ]
    },
    {
     "name": "stderr",
     "output_type": "stream",
     "text": [
      "/var/folders/s_/psmzh19x55n79gg5ssgdy5p00000gn/T/ipykernel_5042/74914493.py:89: FutureWarning: The frame.append method is deprecated and will be removed from pandas in a future version. Use pandas.concat instead.\n",
      "  ebm_grid_frame = ebm_grid_frame.append(row_dict, ignore_index=True)\n"
     ]
    },
    {
     "name": "stdout",
     "output_type": "stream",
     "text": [
      "---------- ----------\n",
      "Grid search run 104/150:\n",
      "Training with parameters: {'n_jobs': 4, 'early_stopping_rounds': 100, 'random_state': 12345, 'max_bins': 128, 'max_interaction_bins': 64, 'interactions': 10, 'outer_bags': 8, 'inner_bags': 0, 'learning_rate': 0.01, 'validation_size': 0.1, 'min_samples_leaf': 1, 'max_leaves': 3}\n"
     ]
    },
    {
     "name": "stderr",
     "output_type": "stream",
     "text": [
      "/var/folders/s_/psmzh19x55n79gg5ssgdy5p00000gn/T/ipykernel_5042/74914493.py:89: FutureWarning: The frame.append method is deprecated and will be removed from pandas in a future version. Use pandas.concat instead.\n",
      "  ebm_grid_frame = ebm_grid_frame.append(row_dict, ignore_index=True)\n"
     ]
    },
    {
     "name": "stdout",
     "output_type": "stream",
     "text": [
      "---------- ----------\n",
      "Grid search run 105/150:\n",
      "Training with parameters: {'n_jobs': 4, 'early_stopping_rounds': 100, 'random_state': 12345, 'max_bins': 512, 'max_interaction_bins': 64, 'interactions': 5, 'outer_bags': 12, 'inner_bags': 0, 'learning_rate': 0.05, 'validation_size': 0.1, 'min_samples_leaf': 5, 'max_leaves': 5}\n"
     ]
    },
    {
     "name": "stderr",
     "output_type": "stream",
     "text": [
      "/var/folders/s_/psmzh19x55n79gg5ssgdy5p00000gn/T/ipykernel_5042/74914493.py:89: FutureWarning: The frame.append method is deprecated and will be removed from pandas in a future version. Use pandas.concat instead.\n",
      "  ebm_grid_frame = ebm_grid_frame.append(row_dict, ignore_index=True)\n"
     ]
    },
    {
     "name": "stdout",
     "output_type": "stream",
     "text": [
      "---------- ----------\n",
      "Grid search run 106/150:\n",
      "Training with parameters: {'n_jobs': 4, 'early_stopping_rounds': 100, 'random_state': 12345, 'max_bins': 256, 'max_interaction_bins': 16, 'interactions': 10, 'outer_bags': 8, 'inner_bags': 4, 'learning_rate': 0.01, 'validation_size': 0.1, 'min_samples_leaf': 2, 'max_leaves': 1}\n"
     ]
    },
    {
     "name": "stderr",
     "output_type": "stream",
     "text": [
      "/var/folders/s_/psmzh19x55n79gg5ssgdy5p00000gn/T/ipykernel_5042/74914493.py:89: FutureWarning: The frame.append method is deprecated and will be removed from pandas in a future version. Use pandas.concat instead.\n",
      "  ebm_grid_frame = ebm_grid_frame.append(row_dict, ignore_index=True)\n"
     ]
    },
    {
     "name": "stdout",
     "output_type": "stream",
     "text": [
      "---------- ----------\n",
      "Grid search run 107/150:\n",
      "Training with parameters: {'n_jobs': 4, 'early_stopping_rounds': 100, 'random_state': 12345, 'max_bins': 512, 'max_interaction_bins': 64, 'interactions': 10, 'outer_bags': 12, 'inner_bags': 0, 'learning_rate': 0.01, 'validation_size': 0.5, 'min_samples_leaf': 2, 'max_leaves': 3}\n"
     ]
    },
    {
     "name": "stderr",
     "output_type": "stream",
     "text": [
      "/var/folders/s_/psmzh19x55n79gg5ssgdy5p00000gn/T/ipykernel_5042/74914493.py:89: FutureWarning: The frame.append method is deprecated and will be removed from pandas in a future version. Use pandas.concat instead.\n",
      "  ebm_grid_frame = ebm_grid_frame.append(row_dict, ignore_index=True)\n"
     ]
    },
    {
     "name": "stdout",
     "output_type": "stream",
     "text": [
      "---------- ----------\n",
      "Grid search run 108/150:\n",
      "Training with parameters: {'n_jobs': 4, 'early_stopping_rounds': 100, 'random_state': 12345, 'max_bins': 256, 'max_interaction_bins': 32, 'interactions': 15, 'outer_bags': 12, 'inner_bags': 4, 'learning_rate': 0.001, 'validation_size': 0.1, 'min_samples_leaf': 1, 'max_leaves': 1}\n"
     ]
    },
    {
     "name": "stderr",
     "output_type": "stream",
     "text": [
      "/var/folders/s_/psmzh19x55n79gg5ssgdy5p00000gn/T/ipykernel_5042/74914493.py:89: FutureWarning: The frame.append method is deprecated and will be removed from pandas in a future version. Use pandas.concat instead.\n",
      "  ebm_grid_frame = ebm_grid_frame.append(row_dict, ignore_index=True)\n"
     ]
    },
    {
     "name": "stdout",
     "output_type": "stream",
     "text": [
      "---------- ----------\n",
      "Grid search run 109/150:\n",
      "Training with parameters: {'n_jobs': 4, 'early_stopping_rounds': 100, 'random_state': 12345, 'max_bins': 128, 'max_interaction_bins': 16, 'interactions': 10, 'outer_bags': 12, 'inner_bags': 4, 'learning_rate': 0.01, 'validation_size': 0.25, 'min_samples_leaf': 5, 'max_leaves': 1}\n"
     ]
    },
    {
     "name": "stderr",
     "output_type": "stream",
     "text": [
      "/var/folders/s_/psmzh19x55n79gg5ssgdy5p00000gn/T/ipykernel_5042/74914493.py:89: FutureWarning: The frame.append method is deprecated and will be removed from pandas in a future version. Use pandas.concat instead.\n",
      "  ebm_grid_frame = ebm_grid_frame.append(row_dict, ignore_index=True)\n"
     ]
    },
    {
     "name": "stdout",
     "output_type": "stream",
     "text": [
      "---------- ----------\n",
      "Grid search run 110/150:\n",
      "Training with parameters: {'n_jobs': 4, 'early_stopping_rounds': 100, 'random_state': 12345, 'max_bins': 512, 'max_interaction_bins': 32, 'interactions': 15, 'outer_bags': 8, 'inner_bags': 0, 'learning_rate': 0.001, 'validation_size': 0.1, 'min_samples_leaf': 5, 'max_leaves': 3}\n"
     ]
    },
    {
     "name": "stderr",
     "output_type": "stream",
     "text": [
      "/var/folders/s_/psmzh19x55n79gg5ssgdy5p00000gn/T/ipykernel_5042/74914493.py:89: FutureWarning: The frame.append method is deprecated and will be removed from pandas in a future version. Use pandas.concat instead.\n",
      "  ebm_grid_frame = ebm_grid_frame.append(row_dict, ignore_index=True)\n"
     ]
    },
    {
     "name": "stdout",
     "output_type": "stream",
     "text": [
      "---------- ----------\n",
      "Grid search run 111/150:\n",
      "Training with parameters: {'n_jobs': 4, 'early_stopping_rounds': 100, 'random_state': 12345, 'max_bins': 512, 'max_interaction_bins': 16, 'interactions': 10, 'outer_bags': 12, 'inner_bags': 4, 'learning_rate': 0.01, 'validation_size': 0.1, 'min_samples_leaf': 5, 'max_leaves': 3}\n"
     ]
    },
    {
     "name": "stderr",
     "output_type": "stream",
     "text": [
      "/var/folders/s_/psmzh19x55n79gg5ssgdy5p00000gn/T/ipykernel_5042/74914493.py:89: FutureWarning: The frame.append method is deprecated and will be removed from pandas in a future version. Use pandas.concat instead.\n",
      "  ebm_grid_frame = ebm_grid_frame.append(row_dict, ignore_index=True)\n"
     ]
    },
    {
     "name": "stdout",
     "output_type": "stream",
     "text": [
      "---------- ----------\n",
      "Grid search run 112/150:\n",
      "Training with parameters: {'n_jobs': 4, 'early_stopping_rounds': 100, 'random_state': 12345, 'max_bins': 128, 'max_interaction_bins': 64, 'interactions': 10, 'outer_bags': 4, 'inner_bags': 0, 'learning_rate': 0.01, 'validation_size': 0.5, 'min_samples_leaf': 2, 'max_leaves': 5}\n"
     ]
    },
    {
     "name": "stderr",
     "output_type": "stream",
     "text": [
      "/var/folders/s_/psmzh19x55n79gg5ssgdy5p00000gn/T/ipykernel_5042/74914493.py:89: FutureWarning: The frame.append method is deprecated and will be removed from pandas in a future version. Use pandas.concat instead.\n",
      "  ebm_grid_frame = ebm_grid_frame.append(row_dict, ignore_index=True)\n"
     ]
    },
    {
     "name": "stdout",
     "output_type": "stream",
     "text": [
      "---------- ----------\n",
      "Grid search run 113/150:\n",
      "Training with parameters: {'n_jobs': 4, 'early_stopping_rounds': 100, 'random_state': 12345, 'max_bins': 128, 'max_interaction_bins': 64, 'interactions': 10, 'outer_bags': 12, 'inner_bags': 0, 'learning_rate': 0.001, 'validation_size': 0.25, 'min_samples_leaf': 1, 'max_leaves': 3}\n"
     ]
    },
    {
     "name": "stderr",
     "output_type": "stream",
     "text": [
      "/var/folders/s_/psmzh19x55n79gg5ssgdy5p00000gn/T/ipykernel_5042/74914493.py:89: FutureWarning: The frame.append method is deprecated and will be removed from pandas in a future version. Use pandas.concat instead.\n",
      "  ebm_grid_frame = ebm_grid_frame.append(row_dict, ignore_index=True)\n"
     ]
    },
    {
     "name": "stdout",
     "output_type": "stream",
     "text": [
      "---------- ----------\n",
      "Grid search run 114/150:\n",
      "Training with parameters: {'n_jobs': 4, 'early_stopping_rounds': 100, 'random_state': 12345, 'max_bins': 512, 'max_interaction_bins': 32, 'interactions': 10, 'outer_bags': 8, 'inner_bags': 4, 'learning_rate': 0.05, 'validation_size': 0.1, 'min_samples_leaf': 10, 'max_leaves': 1}\n"
     ]
    },
    {
     "name": "stderr",
     "output_type": "stream",
     "text": [
      "/var/folders/s_/psmzh19x55n79gg5ssgdy5p00000gn/T/ipykernel_5042/74914493.py:89: FutureWarning: The frame.append method is deprecated and will be removed from pandas in a future version. Use pandas.concat instead.\n",
      "  ebm_grid_frame = ebm_grid_frame.append(row_dict, ignore_index=True)\n"
     ]
    },
    {
     "name": "stdout",
     "output_type": "stream",
     "text": [
      "---------- ----------\n",
      "Grid search run 115/150:\n",
      "Training with parameters: {'n_jobs': 4, 'early_stopping_rounds': 100, 'random_state': 12345, 'max_bins': 128, 'max_interaction_bins': 64, 'interactions': 10, 'outer_bags': 12, 'inner_bags': 0, 'learning_rate': 0.05, 'validation_size': 0.25, 'min_samples_leaf': 2, 'max_leaves': 3}\n"
     ]
    },
    {
     "name": "stderr",
     "output_type": "stream",
     "text": [
      "/var/folders/s_/psmzh19x55n79gg5ssgdy5p00000gn/T/ipykernel_5042/74914493.py:89: FutureWarning: The frame.append method is deprecated and will be removed from pandas in a future version. Use pandas.concat instead.\n",
      "  ebm_grid_frame = ebm_grid_frame.append(row_dict, ignore_index=True)\n"
     ]
    },
    {
     "name": "stdout",
     "output_type": "stream",
     "text": [
      "---------- ----------\n",
      "Grid search run 116/150:\n",
      "Training with parameters: {'n_jobs': 4, 'early_stopping_rounds': 100, 'random_state': 12345, 'max_bins': 512, 'max_interaction_bins': 16, 'interactions': 5, 'outer_bags': 4, 'inner_bags': 0, 'learning_rate': 0.001, 'validation_size': 0.25, 'min_samples_leaf': 2, 'max_leaves': 1}\n"
     ]
    },
    {
     "name": "stderr",
     "output_type": "stream",
     "text": [
      "/var/folders/s_/psmzh19x55n79gg5ssgdy5p00000gn/T/ipykernel_5042/74914493.py:89: FutureWarning: The frame.append method is deprecated and will be removed from pandas in a future version. Use pandas.concat instead.\n",
      "  ebm_grid_frame = ebm_grid_frame.append(row_dict, ignore_index=True)\n"
     ]
    },
    {
     "name": "stdout",
     "output_type": "stream",
     "text": [
      "---------- ----------\n",
      "Grid search run 117/150:\n",
      "Training with parameters: {'n_jobs': 4, 'early_stopping_rounds': 100, 'random_state': 12345, 'max_bins': 512, 'max_interaction_bins': 16, 'interactions': 15, 'outer_bags': 4, 'inner_bags': 4, 'learning_rate': 0.01, 'validation_size': 0.25, 'min_samples_leaf': 5, 'max_leaves': 1}\n"
     ]
    },
    {
     "name": "stderr",
     "output_type": "stream",
     "text": [
      "/var/folders/s_/psmzh19x55n79gg5ssgdy5p00000gn/T/ipykernel_5042/74914493.py:89: FutureWarning: The frame.append method is deprecated and will be removed from pandas in a future version. Use pandas.concat instead.\n",
      "  ebm_grid_frame = ebm_grid_frame.append(row_dict, ignore_index=True)\n"
     ]
    },
    {
     "name": "stdout",
     "output_type": "stream",
     "text": [
      "---------- ----------\n",
      "Grid search run 118/150:\n",
      "Training with parameters: {'n_jobs': 4, 'early_stopping_rounds': 100, 'random_state': 12345, 'max_bins': 512, 'max_interaction_bins': 64, 'interactions': 10, 'outer_bags': 8, 'inner_bags': 4, 'learning_rate': 0.001, 'validation_size': 0.5, 'min_samples_leaf': 5, 'max_leaves': 1}\n"
     ]
    },
    {
     "name": "stderr",
     "output_type": "stream",
     "text": [
      "/var/folders/s_/psmzh19x55n79gg5ssgdy5p00000gn/T/ipykernel_5042/74914493.py:89: FutureWarning: The frame.append method is deprecated and will be removed from pandas in a future version. Use pandas.concat instead.\n",
      "  ebm_grid_frame = ebm_grid_frame.append(row_dict, ignore_index=True)\n"
     ]
    },
    {
     "name": "stdout",
     "output_type": "stream",
     "text": [
      "---------- ----------\n",
      "Grid search run 119/150:\n",
      "Training with parameters: {'n_jobs': 4, 'early_stopping_rounds': 100, 'random_state': 12345, 'max_bins': 512, 'max_interaction_bins': 64, 'interactions': 15, 'outer_bags': 4, 'inner_bags': 0, 'learning_rate': 0.05, 'validation_size': 0.5, 'min_samples_leaf': 1, 'max_leaves': 3}\n"
     ]
    },
    {
     "name": "stderr",
     "output_type": "stream",
     "text": [
      "/var/folders/s_/psmzh19x55n79gg5ssgdy5p00000gn/T/ipykernel_5042/74914493.py:89: FutureWarning: The frame.append method is deprecated and will be removed from pandas in a future version. Use pandas.concat instead.\n",
      "  ebm_grid_frame = ebm_grid_frame.append(row_dict, ignore_index=True)\n"
     ]
    },
    {
     "name": "stdout",
     "output_type": "stream",
     "text": [
      "---------- ----------\n",
      "Grid search run 120/150:\n",
      "Training with parameters: {'n_jobs': 4, 'early_stopping_rounds': 100, 'random_state': 12345, 'max_bins': 256, 'max_interaction_bins': 64, 'interactions': 15, 'outer_bags': 12, 'inner_bags': 0, 'learning_rate': 0.01, 'validation_size': 0.5, 'min_samples_leaf': 2, 'max_leaves': 5}\n"
     ]
    },
    {
     "name": "stderr",
     "output_type": "stream",
     "text": [
      "/var/folders/s_/psmzh19x55n79gg5ssgdy5p00000gn/T/ipykernel_5042/74914493.py:89: FutureWarning: The frame.append method is deprecated and will be removed from pandas in a future version. Use pandas.concat instead.\n",
      "  ebm_grid_frame = ebm_grid_frame.append(row_dict, ignore_index=True)\n"
     ]
    },
    {
     "name": "stdout",
     "output_type": "stream",
     "text": [
      "---------- ----------\n",
      "Grid search run 121/150:\n",
      "Training with parameters: {'n_jobs': 4, 'early_stopping_rounds': 100, 'random_state': 12345, 'max_bins': 256, 'max_interaction_bins': 64, 'interactions': 10, 'outer_bags': 12, 'inner_bags': 4, 'learning_rate': 0.001, 'validation_size': 0.25, 'min_samples_leaf': 10, 'max_leaves': 5}\n"
     ]
    },
    {
     "name": "stderr",
     "output_type": "stream",
     "text": [
      "/var/folders/s_/psmzh19x55n79gg5ssgdy5p00000gn/T/ipykernel_5042/74914493.py:89: FutureWarning: The frame.append method is deprecated and will be removed from pandas in a future version. Use pandas.concat instead.\n",
      "  ebm_grid_frame = ebm_grid_frame.append(row_dict, ignore_index=True)\n"
     ]
    },
    {
     "name": "stdout",
     "output_type": "stream",
     "text": [
      "---------- ----------\n",
      "Grid search run 122/150:\n",
      "Training with parameters: {'n_jobs': 4, 'early_stopping_rounds': 100, 'random_state': 12345, 'max_bins': 256, 'max_interaction_bins': 32, 'interactions': 15, 'outer_bags': 12, 'inner_bags': 0, 'learning_rate': 0.001, 'validation_size': 0.5, 'min_samples_leaf': 2, 'max_leaves': 3}\n"
     ]
    },
    {
     "name": "stderr",
     "output_type": "stream",
     "text": [
      "/var/folders/s_/psmzh19x55n79gg5ssgdy5p00000gn/T/ipykernel_5042/74914493.py:89: FutureWarning: The frame.append method is deprecated and will be removed from pandas in a future version. Use pandas.concat instead.\n",
      "  ebm_grid_frame = ebm_grid_frame.append(row_dict, ignore_index=True)\n"
     ]
    },
    {
     "name": "stdout",
     "output_type": "stream",
     "text": [
      "---------- ----------\n",
      "Grid search run 123/150:\n",
      "Training with parameters: {'n_jobs': 4, 'early_stopping_rounds': 100, 'random_state': 12345, 'max_bins': 256, 'max_interaction_bins': 64, 'interactions': 10, 'outer_bags': 12, 'inner_bags': 4, 'learning_rate': 0.05, 'validation_size': 0.1, 'min_samples_leaf': 5, 'max_leaves': 3}\n"
     ]
    },
    {
     "name": "stderr",
     "output_type": "stream",
     "text": [
      "/var/folders/s_/psmzh19x55n79gg5ssgdy5p00000gn/T/ipykernel_5042/74914493.py:89: FutureWarning: The frame.append method is deprecated and will be removed from pandas in a future version. Use pandas.concat instead.\n",
      "  ebm_grid_frame = ebm_grid_frame.append(row_dict, ignore_index=True)\n"
     ]
    },
    {
     "name": "stdout",
     "output_type": "stream",
     "text": [
      "---------- ----------\n",
      "Grid search run 124/150:\n",
      "Training with parameters: {'n_jobs': 4, 'early_stopping_rounds': 100, 'random_state': 12345, 'max_bins': 256, 'max_interaction_bins': 32, 'interactions': 15, 'outer_bags': 8, 'inner_bags': 4, 'learning_rate': 0.05, 'validation_size': 0.1, 'min_samples_leaf': 2, 'max_leaves': 3}\n"
     ]
    },
    {
     "name": "stderr",
     "output_type": "stream",
     "text": [
      "/var/folders/s_/psmzh19x55n79gg5ssgdy5p00000gn/T/ipykernel_5042/74914493.py:89: FutureWarning: The frame.append method is deprecated and will be removed from pandas in a future version. Use pandas.concat instead.\n",
      "  ebm_grid_frame = ebm_grid_frame.append(row_dict, ignore_index=True)\n"
     ]
    },
    {
     "name": "stdout",
     "output_type": "stream",
     "text": [
      "---------- ----------\n",
      "Grid search run 125/150:\n",
      "Training with parameters: {'n_jobs': 4, 'early_stopping_rounds': 100, 'random_state': 12345, 'max_bins': 512, 'max_interaction_bins': 64, 'interactions': 10, 'outer_bags': 8, 'inner_bags': 0, 'learning_rate': 0.001, 'validation_size': 0.1, 'min_samples_leaf': 5, 'max_leaves': 3}\n"
     ]
    },
    {
     "name": "stderr",
     "output_type": "stream",
     "text": [
      "/var/folders/s_/psmzh19x55n79gg5ssgdy5p00000gn/T/ipykernel_5042/74914493.py:89: FutureWarning: The frame.append method is deprecated and will be removed from pandas in a future version. Use pandas.concat instead.\n",
      "  ebm_grid_frame = ebm_grid_frame.append(row_dict, ignore_index=True)\n"
     ]
    },
    {
     "name": "stdout",
     "output_type": "stream",
     "text": [
      "---------- ----------\n",
      "Grid search run 126/150:\n",
      "Training with parameters: {'n_jobs': 4, 'early_stopping_rounds': 100, 'random_state': 12345, 'max_bins': 128, 'max_interaction_bins': 16, 'interactions': 10, 'outer_bags': 12, 'inner_bags': 0, 'learning_rate': 0.05, 'validation_size': 0.1, 'min_samples_leaf': 2, 'max_leaves': 1}\n"
     ]
    },
    {
     "name": "stderr",
     "output_type": "stream",
     "text": [
      "/var/folders/s_/psmzh19x55n79gg5ssgdy5p00000gn/T/ipykernel_5042/74914493.py:89: FutureWarning: The frame.append method is deprecated and will be removed from pandas in a future version. Use pandas.concat instead.\n",
      "  ebm_grid_frame = ebm_grid_frame.append(row_dict, ignore_index=True)\n"
     ]
    },
    {
     "name": "stdout",
     "output_type": "stream",
     "text": [
      "---------- ----------\n",
      "Grid search run 127/150:\n",
      "Training with parameters: {'n_jobs': 4, 'early_stopping_rounds': 100, 'random_state': 12345, 'max_bins': 256, 'max_interaction_bins': 16, 'interactions': 5, 'outer_bags': 12, 'inner_bags': 0, 'learning_rate': 0.001, 'validation_size': 0.5, 'min_samples_leaf': 1, 'max_leaves': 3}\n"
     ]
    },
    {
     "name": "stderr",
     "output_type": "stream",
     "text": [
      "/var/folders/s_/psmzh19x55n79gg5ssgdy5p00000gn/T/ipykernel_5042/74914493.py:89: FutureWarning: The frame.append method is deprecated and will be removed from pandas in a future version. Use pandas.concat instead.\n",
      "  ebm_grid_frame = ebm_grid_frame.append(row_dict, ignore_index=True)\n"
     ]
    },
    {
     "name": "stdout",
     "output_type": "stream",
     "text": [
      "---------- ----------\n",
      "Grid search run 128/150:\n",
      "Training with parameters: {'n_jobs': 4, 'early_stopping_rounds': 100, 'random_state': 12345, 'max_bins': 512, 'max_interaction_bins': 32, 'interactions': 10, 'outer_bags': 12, 'inner_bags': 4, 'learning_rate': 0.001, 'validation_size': 0.5, 'min_samples_leaf': 5, 'max_leaves': 5}\n"
     ]
    },
    {
     "name": "stderr",
     "output_type": "stream",
     "text": [
      "/var/folders/s_/psmzh19x55n79gg5ssgdy5p00000gn/T/ipykernel_5042/74914493.py:89: FutureWarning: The frame.append method is deprecated and will be removed from pandas in a future version. Use pandas.concat instead.\n",
      "  ebm_grid_frame = ebm_grid_frame.append(row_dict, ignore_index=True)\n"
     ]
    },
    {
     "name": "stdout",
     "output_type": "stream",
     "text": [
      "---------- ----------\n",
      "Grid search run 129/150:\n",
      "Training with parameters: {'n_jobs': 4, 'early_stopping_rounds': 100, 'random_state': 12345, 'max_bins': 512, 'max_interaction_bins': 32, 'interactions': 10, 'outer_bags': 8, 'inner_bags': 4, 'learning_rate': 0.05, 'validation_size': 0.5, 'min_samples_leaf': 2, 'max_leaves': 5}\n"
     ]
    },
    {
     "name": "stderr",
     "output_type": "stream",
     "text": [
      "/var/folders/s_/psmzh19x55n79gg5ssgdy5p00000gn/T/ipykernel_5042/74914493.py:89: FutureWarning: The frame.append method is deprecated and will be removed from pandas in a future version. Use pandas.concat instead.\n",
      "  ebm_grid_frame = ebm_grid_frame.append(row_dict, ignore_index=True)\n"
     ]
    },
    {
     "name": "stdout",
     "output_type": "stream",
     "text": [
      "---------- ----------\n",
      "Grid search run 130/150:\n",
      "Training with parameters: {'n_jobs': 4, 'early_stopping_rounds': 100, 'random_state': 12345, 'max_bins': 128, 'max_interaction_bins': 32, 'interactions': 5, 'outer_bags': 8, 'inner_bags': 0, 'learning_rate': 0.01, 'validation_size': 0.5, 'min_samples_leaf': 1, 'max_leaves': 5}\n"
     ]
    },
    {
     "name": "stderr",
     "output_type": "stream",
     "text": [
      "/var/folders/s_/psmzh19x55n79gg5ssgdy5p00000gn/T/ipykernel_5042/74914493.py:89: FutureWarning: The frame.append method is deprecated and will be removed from pandas in a future version. Use pandas.concat instead.\n",
      "  ebm_grid_frame = ebm_grid_frame.append(row_dict, ignore_index=True)\n"
     ]
    },
    {
     "name": "stdout",
     "output_type": "stream",
     "text": [
      "---------- ----------\n",
      "Grid search run 131/150:\n",
      "Training with parameters: {'n_jobs': 4, 'early_stopping_rounds': 100, 'random_state': 12345, 'max_bins': 512, 'max_interaction_bins': 64, 'interactions': 5, 'outer_bags': 8, 'inner_bags': 0, 'learning_rate': 0.001, 'validation_size': 0.1, 'min_samples_leaf': 10, 'max_leaves': 3}\n"
     ]
    },
    {
     "name": "stderr",
     "output_type": "stream",
     "text": [
      "/var/folders/s_/psmzh19x55n79gg5ssgdy5p00000gn/T/ipykernel_5042/74914493.py:89: FutureWarning: The frame.append method is deprecated and will be removed from pandas in a future version. Use pandas.concat instead.\n",
      "  ebm_grid_frame = ebm_grid_frame.append(row_dict, ignore_index=True)\n"
     ]
    },
    {
     "name": "stdout",
     "output_type": "stream",
     "text": [
      "---------- ----------\n",
      "Grid search run 132/150:\n",
      "Training with parameters: {'n_jobs': 4, 'early_stopping_rounds': 100, 'random_state': 12345, 'max_bins': 256, 'max_interaction_bins': 32, 'interactions': 10, 'outer_bags': 8, 'inner_bags': 4, 'learning_rate': 0.01, 'validation_size': 0.5, 'min_samples_leaf': 1, 'max_leaves': 1}\n"
     ]
    },
    {
     "name": "stderr",
     "output_type": "stream",
     "text": [
      "/var/folders/s_/psmzh19x55n79gg5ssgdy5p00000gn/T/ipykernel_5042/74914493.py:89: FutureWarning: The frame.append method is deprecated and will be removed from pandas in a future version. Use pandas.concat instead.\n",
      "  ebm_grid_frame = ebm_grid_frame.append(row_dict, ignore_index=True)\n"
     ]
    },
    {
     "name": "stdout",
     "output_type": "stream",
     "text": [
      "---------- ----------\n",
      "Grid search run 133/150:\n",
      "Training with parameters: {'n_jobs': 4, 'early_stopping_rounds': 100, 'random_state': 12345, 'max_bins': 512, 'max_interaction_bins': 32, 'interactions': 15, 'outer_bags': 12, 'inner_bags': 0, 'learning_rate': 0.05, 'validation_size': 0.5, 'min_samples_leaf': 5, 'max_leaves': 1}\n"
     ]
    },
    {
     "name": "stderr",
     "output_type": "stream",
     "text": [
      "/var/folders/s_/psmzh19x55n79gg5ssgdy5p00000gn/T/ipykernel_5042/74914493.py:89: FutureWarning: The frame.append method is deprecated and will be removed from pandas in a future version. Use pandas.concat instead.\n",
      "  ebm_grid_frame = ebm_grid_frame.append(row_dict, ignore_index=True)\n"
     ]
    },
    {
     "name": "stdout",
     "output_type": "stream",
     "text": [
      "---------- ----------\n",
      "Grid search run 134/150:\n",
      "Training with parameters: {'n_jobs': 4, 'early_stopping_rounds': 100, 'random_state': 12345, 'max_bins': 256, 'max_interaction_bins': 32, 'interactions': 15, 'outer_bags': 8, 'inner_bags': 4, 'learning_rate': 0.05, 'validation_size': 0.25, 'min_samples_leaf': 1, 'max_leaves': 3}\n"
     ]
    },
    {
     "name": "stderr",
     "output_type": "stream",
     "text": [
      "/var/folders/s_/psmzh19x55n79gg5ssgdy5p00000gn/T/ipykernel_5042/74914493.py:89: FutureWarning: The frame.append method is deprecated and will be removed from pandas in a future version. Use pandas.concat instead.\n",
      "  ebm_grid_frame = ebm_grid_frame.append(row_dict, ignore_index=True)\n"
     ]
    },
    {
     "name": "stdout",
     "output_type": "stream",
     "text": [
      "---------- ----------\n",
      "Grid search run 135/150:\n",
      "Training with parameters: {'n_jobs': 4, 'early_stopping_rounds': 100, 'random_state': 12345, 'max_bins': 128, 'max_interaction_bins': 64, 'interactions': 10, 'outer_bags': 4, 'inner_bags': 0, 'learning_rate': 0.001, 'validation_size': 0.5, 'min_samples_leaf': 1, 'max_leaves': 1}\n"
     ]
    },
    {
     "name": "stderr",
     "output_type": "stream",
     "text": [
      "/var/folders/s_/psmzh19x55n79gg5ssgdy5p00000gn/T/ipykernel_5042/74914493.py:89: FutureWarning: The frame.append method is deprecated and will be removed from pandas in a future version. Use pandas.concat instead.\n",
      "  ebm_grid_frame = ebm_grid_frame.append(row_dict, ignore_index=True)\n"
     ]
    },
    {
     "name": "stdout",
     "output_type": "stream",
     "text": [
      "---------- ----------\n",
      "Grid search run 136/150:\n",
      "Training with parameters: {'n_jobs': 4, 'early_stopping_rounds': 100, 'random_state': 12345, 'max_bins': 128, 'max_interaction_bins': 16, 'interactions': 10, 'outer_bags': 12, 'inner_bags': 0, 'learning_rate': 0.01, 'validation_size': 0.5, 'min_samples_leaf': 10, 'max_leaves': 1}\n"
     ]
    },
    {
     "name": "stderr",
     "output_type": "stream",
     "text": [
      "/var/folders/s_/psmzh19x55n79gg5ssgdy5p00000gn/T/ipykernel_5042/74914493.py:89: FutureWarning: The frame.append method is deprecated and will be removed from pandas in a future version. Use pandas.concat instead.\n",
      "  ebm_grid_frame = ebm_grid_frame.append(row_dict, ignore_index=True)\n"
     ]
    },
    {
     "name": "stdout",
     "output_type": "stream",
     "text": [
      "---------- ----------\n",
      "Grid search run 137/150:\n",
      "Training with parameters: {'n_jobs': 4, 'early_stopping_rounds': 100, 'random_state': 12345, 'max_bins': 256, 'max_interaction_bins': 32, 'interactions': 15, 'outer_bags': 8, 'inner_bags': 4, 'learning_rate': 0.01, 'validation_size': 0.5, 'min_samples_leaf': 5, 'max_leaves': 5}\n"
     ]
    },
    {
     "name": "stderr",
     "output_type": "stream",
     "text": [
      "/var/folders/s_/psmzh19x55n79gg5ssgdy5p00000gn/T/ipykernel_5042/74914493.py:89: FutureWarning: The frame.append method is deprecated and will be removed from pandas in a future version. Use pandas.concat instead.\n",
      "  ebm_grid_frame = ebm_grid_frame.append(row_dict, ignore_index=True)\n"
     ]
    },
    {
     "name": "stdout",
     "output_type": "stream",
     "text": [
      "---------- ----------\n",
      "Grid search run 138/150:\n",
      "Training with parameters: {'n_jobs': 4, 'early_stopping_rounds': 100, 'random_state': 12345, 'max_bins': 512, 'max_interaction_bins': 32, 'interactions': 5, 'outer_bags': 8, 'inner_bags': 4, 'learning_rate': 0.01, 'validation_size': 0.5, 'min_samples_leaf': 2, 'max_leaves': 5}\n"
     ]
    },
    {
     "name": "stderr",
     "output_type": "stream",
     "text": [
      "/var/folders/s_/psmzh19x55n79gg5ssgdy5p00000gn/T/ipykernel_5042/74914493.py:89: FutureWarning: The frame.append method is deprecated and will be removed from pandas in a future version. Use pandas.concat instead.\n",
      "  ebm_grid_frame = ebm_grid_frame.append(row_dict, ignore_index=True)\n"
     ]
    },
    {
     "name": "stdout",
     "output_type": "stream",
     "text": [
      "---------- ----------\n",
      "Grid search run 139/150:\n",
      "Training with parameters: {'n_jobs': 4, 'early_stopping_rounds': 100, 'random_state': 12345, 'max_bins': 128, 'max_interaction_bins': 16, 'interactions': 5, 'outer_bags': 12, 'inner_bags': 0, 'learning_rate': 0.05, 'validation_size': 0.25, 'min_samples_leaf': 2, 'max_leaves': 1}\n"
     ]
    },
    {
     "name": "stderr",
     "output_type": "stream",
     "text": [
      "/var/folders/s_/psmzh19x55n79gg5ssgdy5p00000gn/T/ipykernel_5042/74914493.py:89: FutureWarning: The frame.append method is deprecated and will be removed from pandas in a future version. Use pandas.concat instead.\n",
      "  ebm_grid_frame = ebm_grid_frame.append(row_dict, ignore_index=True)\n"
     ]
    },
    {
     "name": "stdout",
     "output_type": "stream",
     "text": [
      "---------- ----------\n",
      "Grid search run 140/150:\n",
      "Training with parameters: {'n_jobs': 4, 'early_stopping_rounds': 100, 'random_state': 12345, 'max_bins': 256, 'max_interaction_bins': 32, 'interactions': 15, 'outer_bags': 12, 'inner_bags': 4, 'learning_rate': 0.05, 'validation_size': 0.25, 'min_samples_leaf': 1, 'max_leaves': 5}\n"
     ]
    },
    {
     "name": "stderr",
     "output_type": "stream",
     "text": [
      "/var/folders/s_/psmzh19x55n79gg5ssgdy5p00000gn/T/ipykernel_5042/74914493.py:89: FutureWarning: The frame.append method is deprecated and will be removed from pandas in a future version. Use pandas.concat instead.\n",
      "  ebm_grid_frame = ebm_grid_frame.append(row_dict, ignore_index=True)\n"
     ]
    },
    {
     "name": "stdout",
     "output_type": "stream",
     "text": [
      "---------- ----------\n",
      "Grid search run 141/150:\n",
      "Training with parameters: {'n_jobs': 4, 'early_stopping_rounds': 100, 'random_state': 12345, 'max_bins': 256, 'max_interaction_bins': 64, 'interactions': 5, 'outer_bags': 12, 'inner_bags': 0, 'learning_rate': 0.001, 'validation_size': 0.1, 'min_samples_leaf': 5, 'max_leaves': 5}\n"
     ]
    },
    {
     "name": "stderr",
     "output_type": "stream",
     "text": [
      "/var/folders/s_/psmzh19x55n79gg5ssgdy5p00000gn/T/ipykernel_5042/74914493.py:89: FutureWarning: The frame.append method is deprecated and will be removed from pandas in a future version. Use pandas.concat instead.\n",
      "  ebm_grid_frame = ebm_grid_frame.append(row_dict, ignore_index=True)\n"
     ]
    },
    {
     "name": "stdout",
     "output_type": "stream",
     "text": [
      "---------- ----------\n",
      "Grid search run 142/150:\n",
      "Training with parameters: {'n_jobs': 4, 'early_stopping_rounds': 100, 'random_state': 12345, 'max_bins': 512, 'max_interaction_bins': 64, 'interactions': 15, 'outer_bags': 4, 'inner_bags': 4, 'learning_rate': 0.05, 'validation_size': 0.5, 'min_samples_leaf': 10, 'max_leaves': 3}\n"
     ]
    },
    {
     "name": "stderr",
     "output_type": "stream",
     "text": [
      "/var/folders/s_/psmzh19x55n79gg5ssgdy5p00000gn/T/ipykernel_5042/74914493.py:89: FutureWarning: The frame.append method is deprecated and will be removed from pandas in a future version. Use pandas.concat instead.\n",
      "  ebm_grid_frame = ebm_grid_frame.append(row_dict, ignore_index=True)\n"
     ]
    },
    {
     "name": "stdout",
     "output_type": "stream",
     "text": [
      "---------- ----------\n",
      "Grid search run 143/150:\n",
      "Training with parameters: {'n_jobs': 4, 'early_stopping_rounds': 100, 'random_state': 12345, 'max_bins': 128, 'max_interaction_bins': 64, 'interactions': 10, 'outer_bags': 8, 'inner_bags': 0, 'learning_rate': 0.05, 'validation_size': 0.1, 'min_samples_leaf': 10, 'max_leaves': 1}\n"
     ]
    },
    {
     "name": "stderr",
     "output_type": "stream",
     "text": [
      "/var/folders/s_/psmzh19x55n79gg5ssgdy5p00000gn/T/ipykernel_5042/74914493.py:89: FutureWarning: The frame.append method is deprecated and will be removed from pandas in a future version. Use pandas.concat instead.\n",
      "  ebm_grid_frame = ebm_grid_frame.append(row_dict, ignore_index=True)\n"
     ]
    },
    {
     "name": "stdout",
     "output_type": "stream",
     "text": [
      "---------- ----------\n",
      "Grid search run 144/150:\n",
      "Training with parameters: {'n_jobs': 4, 'early_stopping_rounds': 100, 'random_state': 12345, 'max_bins': 512, 'max_interaction_bins': 64, 'interactions': 10, 'outer_bags': 12, 'inner_bags': 4, 'learning_rate': 0.01, 'validation_size': 0.1, 'min_samples_leaf': 2, 'max_leaves': 5}\n"
     ]
    },
    {
     "name": "stderr",
     "output_type": "stream",
     "text": [
      "/var/folders/s_/psmzh19x55n79gg5ssgdy5p00000gn/T/ipykernel_5042/74914493.py:89: FutureWarning: The frame.append method is deprecated and will be removed from pandas in a future version. Use pandas.concat instead.\n",
      "  ebm_grid_frame = ebm_grid_frame.append(row_dict, ignore_index=True)\n"
     ]
    },
    {
     "name": "stdout",
     "output_type": "stream",
     "text": [
      "---------- ----------\n",
      "Grid search run 145/150:\n",
      "Training with parameters: {'n_jobs': 4, 'early_stopping_rounds': 100, 'random_state': 12345, 'max_bins': 128, 'max_interaction_bins': 32, 'interactions': 15, 'outer_bags': 12, 'inner_bags': 4, 'learning_rate': 0.01, 'validation_size': 0.1, 'min_samples_leaf': 1, 'max_leaves': 1}\n"
     ]
    },
    {
     "name": "stderr",
     "output_type": "stream",
     "text": [
      "/var/folders/s_/psmzh19x55n79gg5ssgdy5p00000gn/T/ipykernel_5042/74914493.py:89: FutureWarning: The frame.append method is deprecated and will be removed from pandas in a future version. Use pandas.concat instead.\n",
      "  ebm_grid_frame = ebm_grid_frame.append(row_dict, ignore_index=True)\n"
     ]
    },
    {
     "name": "stdout",
     "output_type": "stream",
     "text": [
      "---------- ----------\n",
      "Grid search run 146/150:\n",
      "Training with parameters: {'n_jobs': 4, 'early_stopping_rounds': 100, 'random_state': 12345, 'max_bins': 512, 'max_interaction_bins': 32, 'interactions': 10, 'outer_bags': 4, 'inner_bags': 4, 'learning_rate': 0.001, 'validation_size': 0.25, 'min_samples_leaf': 1, 'max_leaves': 5}\n"
     ]
    },
    {
     "name": "stderr",
     "output_type": "stream",
     "text": [
      "/var/folders/s_/psmzh19x55n79gg5ssgdy5p00000gn/T/ipykernel_5042/74914493.py:89: FutureWarning: The frame.append method is deprecated and will be removed from pandas in a future version. Use pandas.concat instead.\n",
      "  ebm_grid_frame = ebm_grid_frame.append(row_dict, ignore_index=True)\n"
     ]
    },
    {
     "name": "stdout",
     "output_type": "stream",
     "text": [
      "---------- ----------\n",
      "Grid search run 147/150:\n",
      "Training with parameters: {'n_jobs': 4, 'early_stopping_rounds': 100, 'random_state': 12345, 'max_bins': 512, 'max_interaction_bins': 32, 'interactions': 10, 'outer_bags': 8, 'inner_bags': 0, 'learning_rate': 0.01, 'validation_size': 0.1, 'min_samples_leaf': 2, 'max_leaves': 3}\n"
     ]
    },
    {
     "name": "stderr",
     "output_type": "stream",
     "text": [
      "/var/folders/s_/psmzh19x55n79gg5ssgdy5p00000gn/T/ipykernel_5042/74914493.py:89: FutureWarning: The frame.append method is deprecated and will be removed from pandas in a future version. Use pandas.concat instead.\n",
      "  ebm_grid_frame = ebm_grid_frame.append(row_dict, ignore_index=True)\n"
     ]
    },
    {
     "name": "stdout",
     "output_type": "stream",
     "text": [
      "---------- ----------\n",
      "Grid search run 148/150:\n",
      "Training with parameters: {'n_jobs': 4, 'early_stopping_rounds': 100, 'random_state': 12345, 'max_bins': 256, 'max_interaction_bins': 16, 'interactions': 5, 'outer_bags': 4, 'inner_bags': 0, 'learning_rate': 0.05, 'validation_size': 0.25, 'min_samples_leaf': 2, 'max_leaves': 3}\n"
     ]
    },
    {
     "name": "stderr",
     "output_type": "stream",
     "text": [
      "/var/folders/s_/psmzh19x55n79gg5ssgdy5p00000gn/T/ipykernel_5042/74914493.py:89: FutureWarning: The frame.append method is deprecated and will be removed from pandas in a future version. Use pandas.concat instead.\n",
      "  ebm_grid_frame = ebm_grid_frame.append(row_dict, ignore_index=True)\n"
     ]
    },
    {
     "name": "stdout",
     "output_type": "stream",
     "text": [
      "---------- ----------\n",
      "Grid search run 149/150:\n",
      "Training with parameters: {'n_jobs': 4, 'early_stopping_rounds': 100, 'random_state': 12345, 'max_bins': 512, 'max_interaction_bins': 32, 'interactions': 15, 'outer_bags': 4, 'inner_bags': 0, 'learning_rate': 0.05, 'validation_size': 0.25, 'min_samples_leaf': 10, 'max_leaves': 1}\n"
     ]
    },
    {
     "name": "stderr",
     "output_type": "stream",
     "text": [
      "/var/folders/s_/psmzh19x55n79gg5ssgdy5p00000gn/T/ipykernel_5042/74914493.py:89: FutureWarning: The frame.append method is deprecated and will be removed from pandas in a future version. Use pandas.concat instead.\n",
      "  ebm_grid_frame = ebm_grid_frame.append(row_dict, ignore_index=True)\n"
     ]
    },
    {
     "name": "stdout",
     "output_type": "stream",
     "text": [
      "---------- ----------\n",
      "Grid search run 150/150:\n",
      "Training with parameters: {'n_jobs': 4, 'early_stopping_rounds': 100, 'random_state': 12345, 'max_bins': 256, 'max_interaction_bins': 64, 'interactions': 15, 'outer_bags': 12, 'inner_bags': 0, 'learning_rate': 0.001, 'validation_size': 0.5, 'min_samples_leaf': 1, 'max_leaves': 3}\n",
      "---------- ----------\n",
      "EBM training completed in 4117.14 s.\n"
     ]
    },
    {
     "name": "stderr",
     "output_type": "stream",
     "text": [
      "/var/folders/s_/psmzh19x55n79gg5ssgdy5p00000gn/T/ipykernel_5042/74914493.py:89: FutureWarning: The frame.append method is deprecated and will be removed from pandas in a future version. Use pandas.concat instead.\n",
      "  ebm_grid_frame = ebm_grid_frame.append(row_dict, ignore_index=True)\n"
     ]
    }
   ],
   "source": [
    "# start local timer\n",
    "ebm2_tic = time.time()\n",
    "\n",
    "# new grid search that also considers AIR and fairness\n",
    "best_ebm2, ebm_grid_frame = ebm_grid(train, best_ebm_phat, x_names, y_name, gs_params=gs_params, n_models=150, \n",
    "                                     early_stopping_rounds=100, seed=SEED, air_reference='white', air_protected='black', \n",
    "                                     air_cut=0.17)\n",
    "\n",
    "# end local timer\n",
    "ebm2_toc = time.time() - ebm2_tic\n",
    "print('EBM training completed in %.2f s.' % (ebm2_toc))"
   ]
  },
  {
   "cell_type": "markdown",
   "id": "65affc06",
   "metadata": {},
   "source": [
    "#### Display grid search results as table"
   ]
  },
  {
   "cell_type": "code",
   "execution_count": 86,
   "id": "7e6f5875",
   "metadata": {},
   "outputs": [
    {
     "data": {
      "text/html": [
       "<div>\n",
       "<style scoped>\n",
       "    .dataframe tbody tr th:only-of-type {\n",
       "        vertical-align: middle;\n",
       "    }\n",
       "\n",
       "    .dataframe tbody tr th {\n",
       "        vertical-align: top;\n",
       "    }\n",
       "\n",
       "    .dataframe thead th {\n",
       "        text-align: right;\n",
       "    }\n",
       "</style>\n",
       "<table border=\"1\" class=\"dataframe\">\n",
       "  <thead>\n",
       "    <tr style=\"text-align: right;\">\n",
       "      <th></th>\n",
       "      <th>max_bins</th>\n",
       "      <th>max_interaction_bins</th>\n",
       "      <th>interactions</th>\n",
       "      <th>outer_bags</th>\n",
       "      <th>inner_bags</th>\n",
       "      <th>learning_rate</th>\n",
       "      <th>validation_size</th>\n",
       "      <th>min_samples_leaf</th>\n",
       "      <th>max_leaves</th>\n",
       "      <th>features</th>\n",
       "      <th>auc</th>\n",
       "      <th>air</th>\n",
       "      <th>early_stopping_rounds</th>\n",
       "      <th>n_jobs</th>\n",
       "      <th>random_state</th>\n",
       "    </tr>\n",
       "  </thead>\n",
       "  <tbody>\n",
       "    <tr>\n",
       "      <th>0</th>\n",
       "      <td>512</td>\n",
       "      <td>16</td>\n",
       "      <td>5</td>\n",
       "      <td>4</td>\n",
       "      <td>0</td>\n",
       "      <td>0.05</td>\n",
       "      <td>0.25</td>\n",
       "      <td>1</td>\n",
       "      <td>3</td>\n",
       "      <td>[no_intro_rate_period_std, conforming, term_36...</td>\n",
       "      <td>0.572957</td>\n",
       "      <td>1.004738</td>\n",
       "      <td>100.0</td>\n",
       "      <td>4.0</td>\n",
       "      <td>12345.0</td>\n",
       "    </tr>\n",
       "    <tr>\n",
       "      <th>1</th>\n",
       "      <td>128</td>\n",
       "      <td>32</td>\n",
       "      <td>5</td>\n",
       "      <td>8</td>\n",
       "      <td>0</td>\n",
       "      <td>0.001</td>\n",
       "      <td>0.25</td>\n",
       "      <td>2</td>\n",
       "      <td>5</td>\n",
       "      <td>[debt_to_income_ratio_missing, conforming, loa...</td>\n",
       "      <td>0.817502</td>\n",
       "      <td>0.727533</td>\n",
       "      <td>100.0</td>\n",
       "      <td>4.0</td>\n",
       "      <td>12345.0</td>\n",
       "    </tr>\n",
       "    <tr>\n",
       "      <th>2</th>\n",
       "      <td>512</td>\n",
       "      <td>16</td>\n",
       "      <td>5</td>\n",
       "      <td>4</td>\n",
       "      <td>0</td>\n",
       "      <td>0.001</td>\n",
       "      <td>0.5</td>\n",
       "      <td>1</td>\n",
       "      <td>3</td>\n",
       "      <td>[property_value_std, loan_amount_std, term_360...</td>\n",
       "      <td>0.783367</td>\n",
       "      <td>0.795111</td>\n",
       "      <td>100.0</td>\n",
       "      <td>4.0</td>\n",
       "      <td>12345.0</td>\n",
       "    </tr>\n",
       "    <tr>\n",
       "      <th>3</th>\n",
       "      <td>128</td>\n",
       "      <td>64</td>\n",
       "      <td>5</td>\n",
       "      <td>4</td>\n",
       "      <td>4</td>\n",
       "      <td>0.05</td>\n",
       "      <td>0.5</td>\n",
       "      <td>1</td>\n",
       "      <td>5</td>\n",
       "      <td>[conforming, debt_to_income_ratio_missing, int...</td>\n",
       "      <td>0.803104</td>\n",
       "      <td>0.765788</td>\n",
       "      <td>100.0</td>\n",
       "      <td>4.0</td>\n",
       "      <td>12345.0</td>\n",
       "    </tr>\n",
       "    <tr>\n",
       "      <th>4</th>\n",
       "      <td>512</td>\n",
       "      <td>64</td>\n",
       "      <td>15</td>\n",
       "      <td>4</td>\n",
       "      <td>0</td>\n",
       "      <td>0.05</td>\n",
       "      <td>0.1</td>\n",
       "      <td>10</td>\n",
       "      <td>3</td>\n",
       "      <td>[debt_to_income_ratio_missing, property_value_...</td>\n",
       "      <td>0.80289</td>\n",
       "      <td>0.693465</td>\n",
       "      <td>100.0</td>\n",
       "      <td>4.0</td>\n",
       "      <td>12345.0</td>\n",
       "    </tr>\n",
       "    <tr>\n",
       "      <th>...</th>\n",
       "      <td>...</td>\n",
       "      <td>...</td>\n",
       "      <td>...</td>\n",
       "      <td>...</td>\n",
       "      <td>...</td>\n",
       "      <td>...</td>\n",
       "      <td>...</td>\n",
       "      <td>...</td>\n",
       "      <td>...</td>\n",
       "      <td>...</td>\n",
       "      <td>...</td>\n",
       "      <td>...</td>\n",
       "      <td>...</td>\n",
       "      <td>...</td>\n",
       "      <td>...</td>\n",
       "    </tr>\n",
       "    <tr>\n",
       "      <th>145</th>\n",
       "      <td>512</td>\n",
       "      <td>32</td>\n",
       "      <td>10</td>\n",
       "      <td>4</td>\n",
       "      <td>4</td>\n",
       "      <td>0.001</td>\n",
       "      <td>0.25</td>\n",
       "      <td>1</td>\n",
       "      <td>5</td>\n",
       "      <td>[property_value_std, debt_to_income_ratio_miss...</td>\n",
       "      <td>0.717433</td>\n",
       "      <td>0.926316</td>\n",
       "      <td>100.0</td>\n",
       "      <td>4.0</td>\n",
       "      <td>12345.0</td>\n",
       "    </tr>\n",
       "    <tr>\n",
       "      <th>146</th>\n",
       "      <td>512</td>\n",
       "      <td>32</td>\n",
       "      <td>10</td>\n",
       "      <td>8</td>\n",
       "      <td>0</td>\n",
       "      <td>0.01</td>\n",
       "      <td>0.1</td>\n",
       "      <td>2</td>\n",
       "      <td>3</td>\n",
       "      <td>[term_360, income_std, conforming, no_intro_ra...</td>\n",
       "      <td>0.823654</td>\n",
       "      <td>0.716449</td>\n",
       "      <td>100.0</td>\n",
       "      <td>4.0</td>\n",
       "      <td>12345.0</td>\n",
       "    </tr>\n",
       "    <tr>\n",
       "      <th>147</th>\n",
       "      <td>256</td>\n",
       "      <td>16</td>\n",
       "      <td>5</td>\n",
       "      <td>4</td>\n",
       "      <td>0</td>\n",
       "      <td>0.05</td>\n",
       "      <td>0.25</td>\n",
       "      <td>2</td>\n",
       "      <td>3</td>\n",
       "      <td>[property_value_std, term_360, debt_to_income_...</td>\n",
       "      <td>0.756959</td>\n",
       "      <td>0.813052</td>\n",
       "      <td>100.0</td>\n",
       "      <td>4.0</td>\n",
       "      <td>12345.0</td>\n",
       "    </tr>\n",
       "    <tr>\n",
       "      <th>148</th>\n",
       "      <td>512</td>\n",
       "      <td>32</td>\n",
       "      <td>15</td>\n",
       "      <td>4</td>\n",
       "      <td>0</td>\n",
       "      <td>0.05</td>\n",
       "      <td>0.25</td>\n",
       "      <td>10</td>\n",
       "      <td>1</td>\n",
       "      <td>[loan_to_value_ratio_std, property_value_std]</td>\n",
       "      <td>0.5</td>\n",
       "      <td>1.0</td>\n",
       "      <td>100.0</td>\n",
       "      <td>4.0</td>\n",
       "      <td>12345.0</td>\n",
       "    </tr>\n",
       "    <tr>\n",
       "      <th>149</th>\n",
       "      <td>256</td>\n",
       "      <td>64</td>\n",
       "      <td>15</td>\n",
       "      <td>12</td>\n",
       "      <td>0</td>\n",
       "      <td>0.001</td>\n",
       "      <td>0.5</td>\n",
       "      <td>1</td>\n",
       "      <td>3</td>\n",
       "      <td>[intro_rate_period_std, term_360, debt_to_inco...</td>\n",
       "      <td>0.549489</td>\n",
       "      <td>1.00595</td>\n",
       "      <td>100.0</td>\n",
       "      <td>4.0</td>\n",
       "      <td>12345.0</td>\n",
       "    </tr>\n",
       "  </tbody>\n",
       "</table>\n",
       "<p>150 rows × 15 columns</p>\n",
       "</div>"
      ],
      "text/plain": [
       "    max_bins max_interaction_bins interactions outer_bags inner_bags  \\\n",
       "0        512                   16            5          4          0   \n",
       "1        128                   32            5          8          0   \n",
       "2        512                   16            5          4          0   \n",
       "3        128                   64            5          4          4   \n",
       "4        512                   64           15          4          0   \n",
       "..       ...                  ...          ...        ...        ...   \n",
       "145      512                   32           10          4          4   \n",
       "146      512                   32           10          8          0   \n",
       "147      256                   16            5          4          0   \n",
       "148      512                   32           15          4          0   \n",
       "149      256                   64           15         12          0   \n",
       "\n",
       "    learning_rate validation_size min_samples_leaf max_leaves  \\\n",
       "0            0.05            0.25                1          3   \n",
       "1           0.001            0.25                2          5   \n",
       "2           0.001             0.5                1          3   \n",
       "3            0.05             0.5                1          5   \n",
       "4            0.05             0.1               10          3   \n",
       "..            ...             ...              ...        ...   \n",
       "145         0.001            0.25                1          5   \n",
       "146          0.01             0.1                2          3   \n",
       "147          0.05            0.25                2          3   \n",
       "148          0.05            0.25               10          1   \n",
       "149         0.001             0.5                1          3   \n",
       "\n",
       "                                              features       auc       air  \\\n",
       "0    [no_intro_rate_period_std, conforming, term_36...  0.572957  1.004738   \n",
       "1    [debt_to_income_ratio_missing, conforming, loa...  0.817502  0.727533   \n",
       "2    [property_value_std, loan_amount_std, term_360...  0.783367  0.795111   \n",
       "3    [conforming, debt_to_income_ratio_missing, int...  0.803104  0.765788   \n",
       "4    [debt_to_income_ratio_missing, property_value_...   0.80289  0.693465   \n",
       "..                                                 ...       ...       ...   \n",
       "145  [property_value_std, debt_to_income_ratio_miss...  0.717433  0.926316   \n",
       "146  [term_360, income_std, conforming, no_intro_ra...  0.823654  0.716449   \n",
       "147  [property_value_std, term_360, debt_to_income_...  0.756959  0.813052   \n",
       "148      [loan_to_value_ratio_std, property_value_std]       0.5       1.0   \n",
       "149  [intro_rate_period_std, term_360, debt_to_inco...  0.549489   1.00595   \n",
       "\n",
       "     early_stopping_rounds  n_jobs  random_state  \n",
       "0                    100.0     4.0       12345.0  \n",
       "1                    100.0     4.0       12345.0  \n",
       "2                    100.0     4.0       12345.0  \n",
       "3                    100.0     4.0       12345.0  \n",
       "4                    100.0     4.0       12345.0  \n",
       "..                     ...     ...           ...  \n",
       "145                  100.0     4.0       12345.0  \n",
       "146                  100.0     4.0       12345.0  \n",
       "147                  100.0     4.0       12345.0  \n",
       "148                  100.0     4.0       12345.0  \n",
       "149                  100.0     4.0       12345.0  \n",
       "\n",
       "[150 rows x 15 columns]"
      ]
     },
     "execution_count": 86,
     "metadata": {},
     "output_type": "execute_result"
    }
   ],
   "source": [
    "ebm_grid_frame"
   ]
  },
  {
   "cell_type": "markdown",
   "id": "8bbcc149",
   "metadata": {},
   "source": [
    "#### Display grid search results as plot"
   ]
  },
  {
   "cell_type": "code",
   "execution_count": 87,
   "id": "479d0699",
   "metadata": {},
   "outputs": [
    {
     "data": {
      "image/png": "[encoded data removed]",
      "text/plain": [
       "<Figure size 576x576 with 1 Axes>"
      ]
     },
     "metadata": {
      "needs_background": "light"
     },
     "output_type": "display_data"
    }
   ],
   "source": [
    "fig, ax = plt.subplots(figsize=(8,8))\n",
    "_ = ebm_grid_frame.plot(kind='scatter', x='air', y='auc', title='AIR vs. AUC for EBMs', ax=ax)\n",
    "_ = ax.axvline(x=0.8, color='r', linestyle='--')\n",
    "_ = ax.set_ylim([0.4, 0.85])\n",
    "_ = ax.set_xlim([0.75, 1.05])\n",
    "_ = ax.set_xlabel('AIR')\n",
    "_ = ax.set_ylabel('AUC')"
   ]
  },
  {
   "cell_type": "markdown",
   "id": "f8269300",
   "metadata": {},
   "source": [
    "#### Retrain most accurate model above 0.8 AIR"
   ]
  },
  {
   "cell_type": "code",
   "execution_count": 88,
   "id": "eb524bd0",
   "metadata": {},
   "outputs": [
    {
     "name": "stdout",
     "output_type": "stream",
     "text": [
      "Best AUC: 0.7806 above 0.8 AIR (0.8083).\n",
      "Remediated EBM retrained with AUC: 0.7806.\n"
     ]
    }
   ],
   "source": [
    "# extract new params dict from ebm_grid_frame\n",
    "rem_params = ebm_grid_frame.loc[ebm_grid_frame['air'] > 0.8].sort_values(by='auc', ascending=False).iloc[0, :].to_dict()\n",
    "\n",
    "# extract features from dict then delete from dict \n",
    "rem_x_names = rem_params['features']\n",
    "del rem_params['features']\n",
    "\n",
    "# record and delete other extraneous information\n",
    "print('Best AUC: %.4f above 0.8 AIR (%.4f).' % (rem_params['auc'], rem_params['air']))\n",
    "del rem_params['auc']\n",
    "del rem_params['air']\n",
    "\n",
    "# reset some parameters to integers\n",
    "rem_params['random_state'] = int(rem_params['random_state'])\n",
    "rem_params['n_jobs'] = int(rem_params['n_jobs'])\n",
    "\n",
    "# retrain\n",
    "rem_ebm = ExplainableBoostingClassifier(**rem_params)\n",
    "rem_ebm.fit(train[rem_x_names], train[y_name]) \n",
    "rem_ebm_perf = ROC(rem_ebm.predict_proba).explain_perf(valid[rem_x_names], valid[y_name])\n",
    "rem_auc = rem_ebm_perf._internal_obj['overall']['auc']\n",
    "print('Remediated EBM retrained with AUC: %.4f.' % rem_auc)"
   ]
  },
  {
   "cell_type": "markdown",
   "id": "44041927",
   "metadata": {},
   "source": [
    "#### Check that other groups are not adversely impacted by change"
   ]
  },
  {
   "cell_type": "code",
   "execution_count": 89,
   "id": "162e7d03",
   "metadata": {},
   "outputs": [
    {
     "name": "stdout",
     "output_type": "stream",
     "text": [
      "Adverse impact ratio for Asian people vs. White people: 1.151\n",
      "Adverse impact ratio for Black people vs. White people: 0.808\n",
      "Adverse impact ratio for Females vs. Males: 0.958\n"
     ]
    }
   ],
   "source": [
    "# create a frame with remediated EBM predictions\n",
    "best_ebm_phat2 = pd.DataFrame(rem_ebm.predict_proba(valid[rem_x_names])[:, 1], columns=['phat']) \n",
    "best_ebm_phat2 = pd.concat([valid.reset_index(drop=True), best_ebm_phat2], axis=1)\n",
    "\n",
    "# calculate new confusion matrices for each group\n",
    "rem_cm_dict2 = {}\n",
    "for name in demographic_group_names:\n",
    "    rem_cm_dict2[name] = get_confusion_matrix(best_ebm_phat2, y_name, 'phat', by=name, level=1, cutoff=0.17, verbose=False)\n",
    "\n",
    "# calculate AIR for each group\n",
    "print('Adverse impact ratio for Asian people vs. White people: %.3f' % air(rem_cm_dict2, 'white', 'asian', verbose=False))\n",
    "print('Adverse impact ratio for Black people vs. White people: %.3f' % air(rem_cm_dict2, 'white', 'black', verbose=False))\n",
    "print('Adverse impact ratio for Females vs. Males: %.3f' % air(rem_cm_dict2, 'male', 'female', verbose=False))"
   ]
  },
  {
   "cell_type": "code",
   "execution_count": 5,
   "id": "c1b882fe",
   "metadata": {},
   "outputs": [
    {
     "data": {
      "image/png": "[encoded data removed]",
      "text/plain": [
       "<Figure size 720x432 with 1 Axes>"
      ]
     },
     "metadata": {
      "needs_background": "light"
     },
     "output_type": "display_data"
    }
   ],
   "source": [
    "import matplotlib.pyplot as plt\n",
    "\n",
    "# Adverse impact ratios\n",
    "ratios = [1.151, 0.808, 0.958]\n",
    "groups = ['Asian vs. White', 'Black vs. White', 'Females vs. Males']\n",
    "\n",
    "# Define light colors\n",
    "colors = ['blue', 'orange', 'green']\n",
    "\n",
    "\n",
    "\n",
    "# Plot bar chart\n",
    "plt.figure(figsize=(10, 6))\n",
    "plt.bar(groups, ratios, color=colors)\n",
    "plt.xlabel('Demographic Groups')\n",
    "plt.ylabel('Adverse Impact Ratio')\n",
    "plt.title('Adverse Impact Ratios for Different Groups')\n",
    "\n",
    "# Display the values on top of each bar\n",
    "for i, ratio in enumerate(ratios):\n",
    "    plt.text(i, ratio, f'{ratio:.3f}', ha='center', va='bottom')\n",
    "\n",
    "plt.show()"
   ]
  },
  {
   "cell_type": "code",
   "execution_count": 82,
   "id": "cf99699e",
   "metadata": {},
   "outputs": [],
   "source": [
    "import datetime \n",
    "best_ebm_submit = pd.DataFrame(best_ebm.predict_proba(test[x_names])[:, 1], columns=['phat'])\n",
    "best_ebm_submit.to_csv('ph_best_ebm_' + str(datetime.datetime.now().strftime(\"%Y_%m_%d_%H_%M_%S\") + '.csv'), \n",
    "                        index=False)"
   ]
  },
  {
   "cell_type": "markdown",
   "id": "ef07d56f",
   "metadata": {},
   "source": [
    "#### Print best model parameters for later use"
   ]
  },
  {
   "cell_type": "code",
   "execution_count": 90,
   "id": "d8fd1f10",
   "metadata": {},
   "outputs": [
    {
     "data": {
      "text/plain": [
       "{'max_bins': 128,\n",
       " 'max_interaction_bins': 64,\n",
       " 'interactions': 10,\n",
       " 'outer_bags': 4,\n",
       " 'inner_bags': 0,\n",
       " 'learning_rate': 0.01,\n",
       " 'validation_size': 0.5,\n",
       " 'min_samples_leaf': 2,\n",
       " 'max_leaves': 5,\n",
       " 'early_stopping_rounds': 100.0,\n",
       " 'n_jobs': 4,\n",
       " 'random_state': 12345}"
      ]
     },
     "execution_count": 90,
     "metadata": {},
     "output_type": "execute_result"
    }
   ],
   "source": [
    "rem_params"
   ]
  },
  {
   "cell_type": "markdown",
   "id": "50fb63f4",
   "metadata": {},
   "source": [
    "##### Print best model features for later use"
   ]
  },
  {
   "cell_type": "code",
   "execution_count": 91,
   "id": "bff5e277",
   "metadata": {},
   "outputs": [
    {
     "data": {
      "text/plain": [
       "['debt_to_income_ratio_std',\n",
       " 'term_360',\n",
       " 'intro_rate_period_std',\n",
       " 'property_value_std',\n",
       " 'no_intro_rate_period_std',\n",
       " 'income_std']"
      ]
     },
     "execution_count": 91,
     "metadata": {},
     "output_type": "execute_result"
    }
   ],
   "source": [
    "rem_x_names"
   ]
  },
  {
   "cell_type": "code",
   "execution_count": null,
   "id": "751ee03a",
   "metadata": {},
   "outputs": [],
   "source": []
  }
 ],
 "metadata": {
  "kernelspec": {
   "display_name": "Python 3 (ipykernel)",
   "language": "python",
   "name": "python3"
  },
  "language_info": {
   "codemirror_mode": {
    "name": "ipython",
    "version": 3
   },
   "file_extension": ".py",
   "mimetype": "text/x-python",
   "name": "python",
   "nbconvert_exporter": "python",
   "pygments_lexer": "ipython3",
   "version": "3.7.16"
  }
 },
 "nbformat": 4,
 "nbformat_minor": 5
}
